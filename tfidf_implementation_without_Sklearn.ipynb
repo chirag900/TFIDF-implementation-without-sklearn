{
  "nbformat": 4,
  "nbformat_minor": 0,
  "metadata": {
    "colab": {
      "name": "Submission_tfidf_Assignment_L1_5.ipynb",
      "provenance": [],
      "collapsed_sections": []
    },
    "kernelspec": {
      "name": "python3",
      "display_name": "Python 3"
    }
  },
  "cells": [
    {
      "cell_type": "markdown",
      "metadata": {
        "id": "VdnjsrHZPLT2"
      },
      "source": [
        "<font face='georgia'>\n",
        "    \n",
        "   <h4><strong>What does tf-idf mean?</strong></h4>\n",
        "\n",
        "   <p>    \n",
        "Tf-idf stands for <em>term frequency-inverse document frequency</em>, and the tf-idf weight is a weight often used in information retrieval and text mining. This weight is a statistical measure used to evaluate how important a word is to a document in a collection or corpus. The importance increases proportionally to the number of times a word appears in the document but is offset by the frequency of the word in the corpus. Variations of the tf-idf weighting scheme are often used by search engines as a central tool in scoring and ranking a document's relevance given a user query.\n",
        "</p>\n",
        "    \n",
        "   <p>\n",
        "One of the simplest ranking functions is computed by summing the tf-idf for each query term; many more sophisticated ranking functions are variants of this simple model.\n",
        "</p>\n",
        "    \n",
        "   <p>\n",
        "Tf-idf can be successfully used for stop-words filtering in various subject fields including text summarization and classification.\n",
        "</p>\n",
        "    \n",
        "</font>"
      ]
    },
    {
      "cell_type": "markdown",
      "metadata": {
        "id": "UdGj9WUGPZ45"
      },
      "source": [
        "<font face='georgia'>\n",
        "    <h4><strong>How to Compute:</strong></h4>\n",
        "\n",
        "Typically, the tf-idf weight is composed by two terms: the first computes the normalized Term Frequency (TF), aka. the number of times a word appears in a document, divided by the total number of words in that document; the second term is the Inverse Document Frequency (IDF), computed as the logarithm of the number of the documents in the corpus divided by the number of documents where the specific term appears.\n",
        "\n",
        " <ul>\n",
        "    <li>\n",
        "<strong>TF:</strong> Term Frequency, which measures how frequently a term occurs in a document. Since every document is different in length, it is possible that a term would appear much more times in long documents than shorter ones. Thus, the term frequency is often divided by the document length (aka. the total number of terms in the document) as a way of normalization: <br>\n",
        "\n",
        "$TF(t) = \\frac{\\text{Number of times term t appears in a document}}{\\text{Total number of terms in the document}}.$\n",
        "</li>\n",
        "<li>\n",
        "<strong>IDF:</strong> Inverse Document Frequency, which measures how important a term is. While computing TF, all terms are considered equally important. However it is known that certain terms, such as \"is\", \"of\", and \"that\", may appear a lot of times but have little importance. Thus we need to weigh down the frequent terms while scale up the rare ones, by computing the following: <br>\n",
        "\n",
        "$IDF(t) = \\log_{e}\\frac{\\text{Total  number of documents}} {\\text{Number of documents with term t in it}}.$\n",
        "for numerical stabiltiy we will be changing this formula little bit\n",
        "$IDF(t) = \\log_{e}\\frac{\\text{Total  number of documents}} {\\text{Number of documents with term t in it}+1}.$\n",
        "</li>\n",
        "</ul>\n",
        "\n",
        "<br>\n",
        "<h4><strong>Example</strong></h4>\n",
        "<p>\n",
        "\n",
        "Consider a document containing 100 words wherein the word cat appears 3 times. The term frequency (i.e., tf) for cat is then (3 / 100) = 0.03. Now, assume we have 10 million documents and the word cat appears in one thousand of these. Then, the inverse document frequency (i.e., idf) is calculated as log(10,000,000 / 1,000) = 4. Thus, the Tf-idf weight is the product of these quantities: 0.03 * 4 = 0.12.\n",
        "</p>\n",
        "</font>"
      ]
    },
    {
      "cell_type": "markdown",
      "metadata": {
        "id": "l-PI7_uSPfed"
      },
      "source": [
        "## Task-1"
      ]
    },
    {
      "cell_type": "markdown",
      "metadata": {
        "id": "ka2VVpg2PijT"
      },
      "source": [
        "<font face='georgia'>\n",
        "    <h4><strong>1. Build a TFIDF Vectorizer & compare its results with Sklearn:</strong></h4>\n",
        "\n",
        "<ul>\n",
        "    <li> As a part of this task you will be implementing TFIDF vectorizer on a collection of text documents.</li>\n",
        "    <br>\n",
        "    <li> You should compare the results of your own implementation of TFIDF vectorizer with that of sklearns implemenation TFIDF vectorizer.</li>\n",
        "    <br>\n",
        "    <li> Sklearn does few more tweaks in the implementation of its version of TFIDF vectorizer, so to replicate the exact results you would need to add following things to your custom implementation of tfidf vectorizer:\n",
        "       <ol>\n",
        "        <li> Sklearn has its vocabulary generated from idf sroted in alphabetical order</li>\n",
        "        <li> Sklearn formula of idf is different from the standard textbook formula. Here the constant <strong>\"1\"</strong> is added to the numerator and denominator of the idf as if an extra document was seen containing every term in the collection exactly once, which prevents zero divisions.\n",
        "            \n",
        " $IDF(t) = 1+\\log_{e}\\frac{1\\text{ }+\\text{ Total  number of documents in collection}} {1+\\text{Number of documents with term t in it}}.$\n",
        "        </li>\n",
        "        <li> Sklearn applies L2-normalization on its output matrix.</li>\n",
        "        <li> The final output of sklearn tfidf vectorizer is a sparse matrix.</li>\n",
        "    </ol>\n",
        "    <br>\n",
        "    <li>Steps to approach this task:\n",
        "    <ol>\n",
        "        <li> You would have to write both fit and transform methods for your custom implementation of tfidf vectorizer.</li>\n",
        "        <li> Print out the alphabetically sorted voacb after you fit your data and check if its the same as that of the feature names from sklearn tfidf vectorizer. </li>\n",
        "        <li> Print out the idf values from your implementation and check if its the same as that of sklearns tfidf vectorizer idf values. </li>\n",
        "        <li> Once you get your voacb and idf values to be same as that of sklearns implementation of tfidf vectorizer, proceed to the below steps. </li>\n",
        "        <li> Make sure the output of your implementation is a sparse matrix. Before generating the final output, you need to normalize your sparse matrix using L2 normalization. You can refer to this link https://scikit-learn.org/stable/modules/generated/sklearn.preprocessing.normalize.html </li>\n",
        "        <li> After completing the above steps, print the output of your custom implementation and compare it with sklearns implementation of tfidf vectorizer.</li>\n",
        "        <li> To check the output of a single document in your collection of documents,  you can convert the sparse matrix related only to that document into dense matrix and print it.</li>\n",
        "        </ol>\n",
        "    </li>\n",
        "    <br>\n",
        "   </ul>\n",
        "\n",
        "  <p> <font color=\"#e60000\"><strong>Note-1: </strong></font> All the necessary outputs of sklearns tfidf vectorizer have been provided as reference in this notebook, you can compare your outputs as mentioned in the above steps, with these outputs.<br>\n",
        "   <font color=\"#e60000\"><strong>Note-2: </strong></font> The output of your custom implementation and that of sklearns implementation would match only with the collection of document strings provided to you as reference in this notebook. It would not match for strings that contain capital letters or punctuations, etc, because sklearn version of tfidf vectorizer deals with such strings in a different way. To know further details about how sklearn tfidf vectorizer works with such string, you can always refer to its official documentation.<br>\n",
        "   <font color=\"#e60000\"><strong>Note-3: </strong></font> During this task, it would be helpful for you to debug the code you write with print statements wherever necessary. But when you are finally submitting the assignment, make sure your code is readable and try not to print things which are not part of this task.\n",
        "    </p>"
      ]
    },
    {
      "cell_type": "code",
      "metadata": {
        "id": "er8UIxnQx1Fc"
      },
      "source": [
        "import warnings \n",
        "\n",
        "warnings.filterwarnings(\"ignore\")"
      ],
      "execution_count": 48,
      "outputs": []
    },
    {
      "cell_type": "code",
      "metadata": {
        "colab": {
          "base_uri": "https://localhost:8080/"
        },
        "id": "3PTVqwLOP0h6",
        "outputId": "dfafe611-0880-4572-e93c-a63551f9c6a1"
      },
      "source": [
        "from google.colab import drive\n",
        "drive.mount('/content/drive')"
      ],
      "execution_count": 49,
      "outputs": [
        {
          "output_type": "stream",
          "text": [
            "Drive already mounted at /content/drive; to attempt to forcibly remount, call drive.mount(\"/content/drive\", force_remount=True).\n"
          ],
          "name": "stdout"
        }
      ]
    },
    {
      "cell_type": "code",
      "metadata": {
        "colab": {
          "base_uri": "https://localhost:8080/"
        },
        "id": "SSreSsLKPMN6",
        "outputId": "dc11db4d-6c9a-4e3d-d382-f22ec54d9244"
      },
      "source": [
        "# Below is the code to load the cleaned_strings pickle file provided\n",
        "# Here corpus is of list type\n",
        "\n",
        "import pickle\n",
        "with open('/content/drive/MyDrive/Applied AI Assignments/Module_3/Assignemnt/Implementing TFIDF vectorizer/cleaned_strings', 'rb') as f:\n",
        "    dataset = pickle.load(f)\n",
        "    \n",
        "# printing the length of the corpus loaded\n",
        "print(\"Number of documents in corpus = \",len(dataset))"
      ],
      "execution_count": 50,
      "outputs": [
        {
          "output_type": "stream",
          "text": [
            "Number of documents in corpus =  746\n"
          ],
          "name": "stdout"
        }
      ]
    },
    {
      "cell_type": "code",
      "metadata": {
        "id": "Xc7PmBbWQHmT"
      },
      "source": [
        "## SkLearn# Collection of string documents\n",
        "\n",
        "corpus = [\n",
        "     'this is the first document',\n",
        "     'this document is the second document',\n",
        "     'and this is the third one',\n",
        "     'is this the first document',\n",
        "]"
      ],
      "execution_count": 51,
      "outputs": []
    },
    {
      "cell_type": "markdown",
      "metadata": {
        "id": "5nPPiLUeQLSg"
      },
      "source": [
        "### SkLearn Implementation"
      ]
    },
    {
      "cell_type": "code",
      "metadata": {
        "colab": {
          "base_uri": "https://localhost:8080/"
        },
        "id": "ZVquLgpkQIHT",
        "outputId": "e81e1f9c-3c19-4983-e5c6-3ee5f184fb38"
      },
      "source": [
        "from sklearn.feature_extraction.text import TfidfVectorizer\n",
        "vectorizer = TfidfVectorizer()\n",
        "z = vectorizer.fit(corpus)\n",
        "print(z)\n",
        "skl_output = vectorizer.transform(corpus)\n",
        "print(skl_output) # (Row_number,Col_Number)  (Normalized_Value using L2 normalization)."
      ],
      "execution_count": 52,
      "outputs": [
        {
          "output_type": "stream",
          "text": [
            "TfidfVectorizer(analyzer='word', binary=False, decode_error='strict',\n",
            "                dtype=<class 'numpy.float64'>, encoding='utf-8',\n",
            "                input='content', lowercase=True, max_df=1.0, max_features=None,\n",
            "                min_df=1, ngram_range=(1, 1), norm='l2', preprocessor=None,\n",
            "                smooth_idf=True, stop_words=None, strip_accents=None,\n",
            "                sublinear_tf=False, token_pattern='(?u)\\\\b\\\\w\\\\w+\\\\b',\n",
            "                tokenizer=None, use_idf=True, vocabulary=None)\n",
            "  (0, 8)\t0.38408524091481483\n",
            "  (0, 6)\t0.38408524091481483\n",
            "  (0, 3)\t0.38408524091481483\n",
            "  (0, 2)\t0.5802858236844359\n",
            "  (0, 1)\t0.46979138557992045\n",
            "  (1, 8)\t0.281088674033753\n",
            "  (1, 6)\t0.281088674033753\n",
            "  (1, 5)\t0.5386476208856763\n",
            "  (1, 3)\t0.281088674033753\n",
            "  (1, 1)\t0.6876235979836938\n",
            "  (2, 8)\t0.267103787642168\n",
            "  (2, 7)\t0.511848512707169\n",
            "  (2, 6)\t0.267103787642168\n",
            "  (2, 4)\t0.511848512707169\n",
            "  (2, 3)\t0.267103787642168\n",
            "  (2, 0)\t0.511848512707169\n",
            "  (3, 8)\t0.38408524091481483\n",
            "  (3, 6)\t0.38408524091481483\n",
            "  (3, 3)\t0.38408524091481483\n",
            "  (3, 2)\t0.5802858236844359\n",
            "  (3, 1)\t0.46979138557992045\n"
          ],
          "name": "stdout"
        }
      ]
    },
    {
      "cell_type": "code",
      "metadata": {
        "colab": {
          "base_uri": "https://localhost:8080/"
        },
        "id": "6aogda5aQN3V",
        "outputId": "e9c19089-ec47-41d7-a52c-275bf5686047"
      },
      "source": [
        "# sklearn feature names, they are sorted in alphabetic order by default.\n",
        "\n",
        "print(vectorizer.get_feature_names())\n",
        "print(vectorizer.idf_)\n",
        "print(skl_output.shape)"
      ],
      "execution_count": 53,
      "outputs": [
        {
          "output_type": "stream",
          "text": [
            "['and', 'document', 'first', 'is', 'one', 'second', 'the', 'third', 'this']\n",
            "[1.91629073 1.22314355 1.51082562 1.         1.91629073 1.91629073\n",
            " 1.         1.91629073 1.        ]\n",
            "(4, 9)\n"
          ],
          "name": "stdout"
        }
      ]
    },
    {
      "cell_type": "code",
      "metadata": {
        "colab": {
          "base_uri": "https://localhost:8080/"
        },
        "id": "d3DTjk5JQR_F",
        "outputId": "79ce2ce7-fc81-48fd-debd-2eafc55ea700"
      },
      "source": [
        "# sklearn tfidf values for first line of the above corpus.\n",
        "# Here the output is a sparse matrix\n",
        "\n",
        "print(skl_output[0]) # output of Row1"
      ],
      "execution_count": 54,
      "outputs": [
        {
          "output_type": "stream",
          "text": [
            "  (0, 8)\t0.38408524091481483\n",
            "  (0, 6)\t0.38408524091481483\n",
            "  (0, 3)\t0.38408524091481483\n",
            "  (0, 2)\t0.5802858236844359\n",
            "  (0, 1)\t0.46979138557992045\n"
          ],
          "name": "stdout"
        }
      ]
    },
    {
      "cell_type": "code",
      "metadata": {
        "colab": {
          "base_uri": "https://localhost:8080/"
        },
        "id": "c9kY89htQcN-",
        "outputId": "e6116545-05ac-4060-a5c9-1f273c42e7ac"
      },
      "source": [
        "# sklearn tfidf values for first line of the above corpus.\n",
        "# To understand the output better, here we are converting the sparse output matrix to dense matrix and printing it.\n",
        "# Notice that this output is normalized using L2 normalization. sklearn does this by default.\n",
        "\n",
        "print(skl_output[0].toarray()) # sparse matrix to dense matrix conversion using .toarray() functoion."
      ],
      "execution_count": 55,
      "outputs": [
        {
          "output_type": "stream",
          "text": [
            "[[0.         0.46979139 0.58028582 0.38408524 0.         0.\n",
            "  0.38408524 0.         0.38408524]]\n"
          ],
          "name": "stdout"
        }
      ]
    },
    {
      "cell_type": "markdown",
      "metadata": {
        "id": "_RPK5dNCQiXS"
      },
      "source": [
        "# Your custom implementation:\n",
        "## 1.1 Implementing fit method on corpus: "
      ]
    },
    {
      "cell_type": "code",
      "metadata": {
        "id": "-A9roRsCQejK"
      },
      "source": [
        "# Write your code here.\n",
        "# Make sure its well documented and readble with appropriate comments.\n",
        "# Compare your results with the above sklearn tfidf vectorizer\n",
        "# You are not supposed to use any other library apart from the ones given below\n",
        "\n",
        "from collections import Counter\n",
        "from tqdm import tqdm\n",
        "from scipy.sparse import csr_matrix\n",
        "import math\n",
        "import operator\n",
        "from sklearn.preprocessing import normalize\n",
        "import numpy"
      ],
      "execution_count": 56,
      "outputs": []
    },
    {
      "cell_type": "code",
      "metadata": {
        "id": "chmnd1hhQk0f"
      },
      "source": [
        "from tqdm import tqdm # tqdm is a library that helps us to visualize the runtime of for loop. refer this to know more about tqdm\n",
        "#https://tqdm.github.io/\n",
        "\n",
        "# it accepts only list of sentances\n",
        "def get_unique_words(dataset):    # takes the dataframe called dataset as input.\n",
        "    unique_words = set() # at first we will initialize an empty set (Set will contain only unique words).\n",
        "    # check if its list type or not\n",
        "    if isinstance(dataset, (list,)): # checks the input dataset is a list or not.\n",
        "        for row in dataset: # for each review in the dataset (For each Row of sentance ie, one sentance at a time).\n",
        "            for word in row.split(\" \"): # for each word in the review. #split method converts a string/sentance into list of words\n",
        "                if len(word) < 2: # check if word<2 ,ie, helps to filter the punctuation marks like (, etc.)\n",
        "                    continue\n",
        "                unique_words.add(word) # add the unique words into the set \"unique_words\" (contains only unique words)\n",
        "        unique_words = sorted(list(unique_words)) # sorting of unique words alphabatically\n",
        "    \n",
        "        \n",
        "        return unique_words\n",
        "    else:\n",
        "        print(\"you need to pass list of sentance\") # if the sentance is not a list"
      ],
      "execution_count": 81,
      "outputs": []
    },
    {
      "cell_type": "code",
      "metadata": {
        "id": "Je9O2bpxacRz"
      },
      "source": [
        "def fit(whole_data):\n",
        "      vocab = {j:i for i,j in enumerate(get_unique_words(whole_data))} # i = value (here it takes index)\n",
        "                                                       # j = Key (here it takes the word from the list \"unique_words\").\n",
        "      Idf_values_of_all_unique_words=IDF(whole_data,get_unique_words(whole_data))\n",
        "      return(vocab,Idf_values_of_all_unique_words) # words and their idf values."
      ],
      "execution_count": 82,
      "outputs": []
    },
    {
      "cell_type": "code",
      "metadata": {
        "id": "vCwytsccRMxS"
      },
      "source": [
        "def IDF(dataset,unique_words):\n",
        "  idf_dict = {}\n",
        "  for i in unique_words:\n",
        "    count = 0\n",
        "    l = len(dataset)\n",
        "    for sentance in dataset:\n",
        "      if i in sentance.split():\n",
        "        count+=1\n",
        "      idf_dict[i] = 1 + (math.log((l)/(count+1)))\n",
        "  return idf_dict"
      ],
      "execution_count": 83,
      "outputs": []
    },
    {
      "cell_type": "markdown",
      "metadata": {
        "id": "GpKKWFYgz36j"
      },
      "source": [
        "## Reference : \n",
        "1. From AppliedAI Team through Email.\n",
        "\n",
        "2. https://analyticsindiamag.com/hands-on-implementation-of-tf-idf-from-scratch-in-python/ \n"
      ]
    },
    {
      "cell_type": "code",
      "metadata": {
        "id": "H5Cv3hAFSIDv"
      },
      "source": [
        "# https://stackoverflow.com/questions/9919604/efficiently-calculate-word-frequency-in-a-string\n",
        "# https://docs.scipy.org/doc/scipy-0.19.0/reference/generated/scipy.sparse.csr_matrix.html\n",
        "# note that we are we need to send the preprocessing text here, we have not inlcuded the processing\n",
        "\n",
        "def transform(dataset,vocab,idf_values):\n",
        "    rows = [] \n",
        "    columns = []\n",
        "    values = []\n",
        "    if isinstance(dataset, (list,)): # checks if the dataset is list or not\n",
        "        for idx, row in enumerate(tqdm(dataset)): # for each document in the dataset\n",
        "            \n",
        "            word_freq = dict(Counter(row.split())) # counter helps to key as 'word' and count of the word as value.\n",
        "            # for every unique word in the document\n",
        "            for word, freq in word_freq.items():  # for each unique word in the review.\n",
        "                                                  # word takes the word itself and freq takes the count of the word.                \n",
        "                if len(word) < 2:\n",
        "                    continue\n",
        "                # we will check if its there in the vocabulary that we build in fit() function\n",
        "                # dict.get() function will return the values, if the key doesn't exits it will return -1\n",
        "                # vocab is of type dictionary.\n",
        "                col_index = vocab.get(word,-1) # retreving the dimension number of a word\n",
        "\n",
        "                # if the word exists\n",
        "                if col_index !=-1:\n",
        "                    # we are storing the index of the document or the Row or the sentance\n",
        "                    rows.append(idx)\n",
        "                    # we are storing the dimensions or column number of the word\n",
        "                    columns.append(col_index)\n",
        "                if word in list(vocab.keys()):\n",
        "                  td = freq/float(len(row)) \n",
        "                  values.append((td) * idf_values[word])\n",
        "                  # the number of times a word occured in a document\n",
        "                  # idf_values takes input from idf_of_vocabulary (all idf values)\n",
        "        return normalize(csr_matrix( ((values),(rows,columns)), shape=(len(dataset),len(vocab))),norm='l2' ) # shape = same as number of rows in dataset\n",
        "                                                                                     # columns = no of columns in the vocabulary dict.\n",
        "    else:\n",
        "        print(\"you need to pass list of strings\")\n",
        "\n"
      ],
      "execution_count": 84,
      "outputs": []
    },
    {
      "cell_type": "markdown",
      "metadata": {
        "id": "F3Plcx6e-xDj"
      },
      "source": [
        "## Custom implementation on corpus dataset:"
      ]
    },
    {
      "cell_type": "code",
      "metadata": {
        "id": "Bdrk46I2-2Pm"
      },
      "source": [
        "corpus = [\n",
        "     'this is the first document',\n",
        "     'this document is the second document',\n",
        "     'and this is the third one',\n",
        "     'is this the first document',\n",
        "]"
      ],
      "execution_count": 85,
      "outputs": []
    },
    {
      "cell_type": "code",
      "metadata": {
        "colab": {
          "base_uri": "https://localhost:8080/"
        },
        "id": "jOhpYCXo-6wT",
        "outputId": "a8fc0669-c63c-40a8-f72e-a1346bd21bb1"
      },
      "source": [
        "vocabulary,idf_of_vocabulary = fit(corpus)\n",
        "\n",
        "print(vocabulary) # {'word':index}\n",
        "print(idf_of_vocabulary) # {'word':idf_value}\n",
        "print(len(vocabulary))"
      ],
      "execution_count": 86,
      "outputs": [
        {
          "output_type": "stream",
          "text": [
            "{'and': 0, 'document': 1, 'first': 2, 'is': 3, 'one': 4, 'second': 5, 'the': 6, 'third': 7, 'this': 8}\n",
            "{'and': 1.6931471805599454, 'document': 1.0, 'first': 1.2876820724517808, 'is': 0.7768564486857903, 'one': 1.6931471805599454, 'second': 1.6931471805599454, 'the': 0.7768564486857903, 'third': 1.6931471805599454, 'this': 0.7768564486857903}\n",
            "9\n"
          ],
          "name": "stdout"
        }
      ]
    },
    {
      "cell_type": "code",
      "metadata": {
        "colab": {
          "base_uri": "https://localhost:8080/"
        },
        "id": "_ijGF7EK_omq",
        "outputId": "bf34cccf-4eff-4a72-f214-2855dece1585"
      },
      "source": [
        "print(transform(corpus,vocabulary,idf_of_vocabulary))# (row_number,col_number,value)\n",
        "transform(corpus,vocabulary,idf_of_vocabulary).shape"
      ],
      "execution_count": 87,
      "outputs": [
        {
          "output_type": "stream",
          "text": [
            "100%|██████████| 4/4 [00:00<00:00, 9315.50it/s]\n",
            "100%|██████████| 4/4 [00:00<00:00, 5819.36it/s]"
          ],
          "name": "stderr"
        },
        {
          "output_type": "stream",
          "text": [
            "  (0, 1)\t0.4730555831546957\n",
            "  (0, 2)\t0.6091451937015243\n",
            "  (0, 3)\t0.3674962803605425\n",
            "  (0, 6)\t0.3674962803605425\n",
            "  (0, 8)\t0.3674962803605425\n",
            "  (1, 1)\t0.6789511999835949\n",
            "  (1, 3)\t0.26372380902510567\n",
            "  (1, 5)\t0.5747821549950077\n",
            "  (1, 6)\t0.26372380902510567\n",
            "  (1, 8)\t0.26372380902510567\n",
            "  (2, 0)\t0.5247512664565925\n",
            "  (2, 3)\t0.2407684399698921\n",
            "  (2, 4)\t0.5247512664565925\n",
            "  (2, 6)\t0.2407684399698921\n",
            "  (2, 7)\t0.5247512664565925\n",
            "  (2, 8)\t0.2407684399698921\n",
            "  (3, 1)\t0.4730555831546957\n",
            "  (3, 2)\t0.6091451937015243\n",
            "  (3, 3)\t0.3674962803605425\n",
            "  (3, 6)\t0.3674962803605425\n",
            "  (3, 8)\t0.3674962803605425\n"
          ],
          "name": "stdout"
        },
        {
          "output_type": "stream",
          "text": [
            "\n"
          ],
          "name": "stderr"
        },
        {
          "output_type": "execute_result",
          "data": {
            "text/plain": [
              "(4, 9)"
            ]
          },
          "metadata": {
            "tags": []
          },
          "execution_count": 87
        }
      ]
    },
    {
      "cell_type": "markdown",
      "metadata": {
        "id": "RPXWjNICADr9"
      },
      "source": [
        "## Comparing with sklearn implementation:"
      ]
    },
    {
      "cell_type": "code",
      "metadata": {
        "colab": {
          "base_uri": "https://localhost:8080/"
        },
        "id": "VyjRNp2rAG-v",
        "outputId": "077202c7-6433-45ea-8cb8-ea5d523c7b94"
      },
      "source": [
        "from sklearn.feature_extraction.text import TfidfVectorizer\n",
        "vectorizer = TfidfVectorizer()\n",
        "vectorizer.fit(corpus)\n",
        "skl_output = vectorizer.transform(corpus)\n",
        "print(skl_output) # (Row_number,Col_Number)  (Normalized_Value using L2 normalization).\n",
        "print(skl_output.shape)"
      ],
      "execution_count": 88,
      "outputs": [
        {
          "output_type": "stream",
          "text": [
            "  (0, 8)\t0.38408524091481483\n",
            "  (0, 6)\t0.38408524091481483\n",
            "  (0, 3)\t0.38408524091481483\n",
            "  (0, 2)\t0.5802858236844359\n",
            "  (0, 1)\t0.46979138557992045\n",
            "  (1, 8)\t0.281088674033753\n",
            "  (1, 6)\t0.281088674033753\n",
            "  (1, 5)\t0.5386476208856763\n",
            "  (1, 3)\t0.281088674033753\n",
            "  (1, 1)\t0.6876235979836938\n",
            "  (2, 8)\t0.267103787642168\n",
            "  (2, 7)\t0.511848512707169\n",
            "  (2, 6)\t0.267103787642168\n",
            "  (2, 4)\t0.511848512707169\n",
            "  (2, 3)\t0.267103787642168\n",
            "  (2, 0)\t0.511848512707169\n",
            "  (3, 8)\t0.38408524091481483\n",
            "  (3, 6)\t0.38408524091481483\n",
            "  (3, 3)\t0.38408524091481483\n",
            "  (3, 2)\t0.5802858236844359\n",
            "  (3, 1)\t0.46979138557992045\n",
            "(4, 9)\n"
          ],
          "name": "stdout"
        }
      ]
    },
    {
      "cell_type": "markdown",
      "metadata": {
        "id": "zUuIJN1E_Oyr"
      },
      "source": [
        "## Custom implementation on cleaned_string file dataset:"
      ]
    },
    {
      "cell_type": "code",
      "metadata": {
        "colab": {
          "base_uri": "https://localhost:8080/"
        },
        "id": "BRjtg4di_Z_b",
        "outputId": "bbf4ee15-b4ac-40b8-fb69-aa7132f39524"
      },
      "source": [
        "vocabulary,idf_of_vocabulary = fit(dataset)\n",
        "\n",
        "print(vocabulary) # {'word':index}\n",
        "print(idf_of_vocabulary) # {'word':idf_value}\n",
        "print(len(vocabulary))"
      ],
      "execution_count": 89,
      "outputs": [
        {
          "output_type": "stream",
          "text": [
            "{'aailiyah': 0, 'abandoned': 1, 'ability': 2, 'abroad': 3, 'absolutely': 4, 'abstruse': 5, 'abysmal': 6, 'academy': 7, 'accents': 8, 'accessible': 9, 'acclaimed': 10, 'accolades': 11, 'accurate': 12, 'accurately': 13, 'accused': 14, 'achievement': 15, 'achille': 16, 'ackerman': 17, 'act': 18, 'acted': 19, 'acting': 20, 'action': 21, 'actions': 22, 'actor': 23, 'actors': 24, 'actress': 25, 'actresses': 26, 'actually': 27, 'adams': 28, 'adaptation': 29, 'add': 30, 'added': 31, 'addition': 32, 'admins': 33, 'admiration': 34, 'admitted': 35, 'adorable': 36, 'adrift': 37, 'adventure': 38, 'advise': 39, 'aerial': 40, 'aesthetically': 41, 'affected': 42, 'affleck': 43, 'afraid': 44, 'africa': 45, 'afternoon': 46, 'age': 47, 'aged': 48, 'ages': 49, 'ago': 50, 'agree': 51, 'agreed': 52, 'aimless': 53, 'air': 54, 'aired': 55, 'akasha': 56, 'akin': 57, 'alert': 58, 'alexander': 59, 'alike': 60, 'allison': 61, 'allow': 62, 'allowing': 63, 'almost': 64, 'along': 65, 'alongside': 66, 'already': 67, 'also': 68, 'although': 69, 'always': 70, 'amateurish': 71, 'amaze': 72, 'amazed': 73, 'amazing': 74, 'amazingly': 75, 'america': 76, 'american': 77, 'americans': 78, 'among': 79, 'amount': 80, 'amusing': 81, 'amust': 82, 'anatomist': 83, 'angel': 84, 'angela': 85, 'angeles': 86, 'angelina': 87, 'angle': 88, 'angles': 89, 'angry': 90, 'anguish': 91, 'angus': 92, 'animals': 93, 'animated': 94, 'animation': 95, 'anita': 96, 'ann': 97, 'anne': 98, 'anniversary': 99, 'annoying': 100, 'another': 101, 'anthony': 102, 'antithesis': 103, 'anyone': 104, 'anything': 105, 'anyway': 106, 'apart': 107, 'appalling': 108, 'appealing': 109, 'appearance': 110, 'appears': 111, 'applauded': 112, 'applause': 113, 'appreciate': 114, 'appropriate': 115, 'apt': 116, 'argued': 117, 'armageddon': 118, 'armand': 119, 'around': 120, 'array': 121, 'art': 122, 'articulated': 123, 'artiness': 124, 'artist': 125, 'artistic': 126, 'artless': 127, 'arts': 128, 'aside': 129, 'ask': 130, 'asleep': 131, 'aspect': 132, 'aspects': 133, 'ass': 134, 'assante': 135, 'assaulted': 136, 'assistant': 137, 'astonishingly': 138, 'astronaut': 139, 'atmosphere': 140, 'atrocious': 141, 'atrocity': 142, 'attempt': 143, 'attempted': 144, 'attempting': 145, 'attempts': 146, 'attention': 147, 'attractive': 148, 'audience': 149, 'audio': 150, 'aurv': 151, 'austen': 152, 'austere': 153, 'author': 154, 'average': 155, 'aversion': 156, 'avoid': 157, 'avoided': 158, 'award': 159, 'awarded': 160, 'awards': 161, 'away': 162, 'awesome': 163, 'awful': 164, 'awkwardly': 165, 'aye': 166, 'baaaaaad': 167, 'babbling': 168, 'babie': 169, 'baby': 170, 'babysitting': 171, 'back': 172, 'backdrop': 173, 'backed': 174, 'bad': 175, 'badly': 176, 'bag': 177, 'bailey': 178, 'bakery': 179, 'balance': 180, 'balanced': 181, 'ball': 182, 'ballet': 183, 'balls': 184, 'band': 185, 'barcelona': 186, 'barely': 187, 'barking': 188, 'barney': 189, 'barren': 190, 'based': 191, 'basic': 192, 'basically': 193, 'bat': 194, 'bates': 195, 'baxendale': 196, 'bear': 197, 'beautiful': 198, 'beautifully': 199, 'bec': 200, 'became': 201, 'bechard': 202, 'become': 203, 'becomes': 204, 'began': 205, 'begin': 206, 'beginning': 207, 'behind': 208, 'behold': 209, 'bela': 210, 'believable': 211, 'believe': 212, 'believed': 213, 'bell': 214, 'bellucci': 215, 'belly': 216, 'belmondo': 217, 'ben': 218, 'bendingly': 219, 'bennett': 220, 'bergen': 221, 'bertolucci': 222, 'best': 223, 'better': 224, 'betty': 225, 'beware': 226, 'beyond': 227, 'bible': 228, 'big': 229, 'biggest': 230, 'billy': 231, 'biographical': 232, 'bipolarity': 233, 'bit': 234, 'bitchy': 235, 'black': 236, 'blah': 237, 'blake': 238, 'bland': 239, 'blandly': 240, 'blare': 241, 'blatant': 242, 'blew': 243, 'blood': 244, 'blown': 245, 'blue': 246, 'blush': 247, 'boasts': 248, 'bob': 249, 'body': 250, 'bohemian': 251, 'boiling': 252, 'bold': 253, 'bombardments': 254, 'bond': 255, 'bonding': 256, 'bonus': 257, 'bonuses': 258, 'boobs': 259, 'boogeyman': 260, 'book': 261, 'boost': 262, 'bop': 263, 'bordered': 264, 'borderlines': 265, 'borders': 266, 'bore': 267, 'bored': 268, 'boring': 269, 'borrowed': 270, 'boss': 271, 'bother': 272, 'bothersome': 273, 'bought': 274, 'box': 275, 'boyfriend': 276, 'boyle': 277, 'brain': 278, 'brainsucking': 279, 'brat': 280, 'breaking': 281, 'breeders': 282, 'brevity': 283, 'brian': 284, 'brief': 285, 'brigand': 286, 'bright': 287, 'brilliance': 288, 'brilliant': 289, 'brilliantly': 290, 'bring': 291, 'brings': 292, 'broad': 293, 'broke': 294, 'brooding': 295, 'brother': 296, 'brutal': 297, 'buddy': 298, 'budget': 299, 'buffalo': 300, 'buffet': 301, 'build': 302, 'builders': 303, 'buildings': 304, 'built': 305, 'bullock': 306, 'bully': 307, 'bunch': 308, 'burton': 309, 'business': 310, 'buy': 311, 'cable': 312, 'cailles': 313, 'california': 314, 'call': 315, 'called': 316, 'calls': 317, 'came': 318, 'cameo': 319, 'camera': 320, 'camerawork': 321, 'camp': 322, 'campy': 323, 'canada': 324, 'cancan': 325, 'candace': 326, 'candle': 327, 'cannot': 328, 'cant': 329, 'captain': 330, 'captured': 331, 'captures': 332, 'car': 333, 'card': 334, 'cardboard': 335, 'cardellini': 336, 'care': 337, 'carol': 338, 'carrell': 339, 'carries': 340, 'carry': 341, 'cars': 342, 'cartoon': 343, 'cartoons': 344, 'case': 345, 'cases': 346, 'cast': 347, 'casted': 348, 'casting': 349, 'cat': 350, 'catchy': 351, 'caught': 352, 'cause': 353, 'ceases': 354, 'celebration': 355, 'celebrity': 356, 'celluloid': 357, 'centers': 358, 'central': 359, 'century': 360, 'certain': 361, 'certainly': 362, 'cg': 363, 'cgi': 364, 'chalkboard': 365, 'challenges': 366, 'chance': 367, 'change': 368, 'changes': 369, 'changing': 370, 'channel': 371, 'character': 372, 'characterisation': 373, 'characters': 374, 'charisma': 375, 'charismatic': 376, 'charles': 377, 'charlie': 378, 'charm': 379, 'charming': 380, 'chase': 381, 'chasing': 382, 'cheap': 383, 'cheaply': 384, 'check': 385, 'checking': 386, 'cheek': 387, 'cheekbones': 388, 'cheerfull': 389, 'cheerless': 390, 'cheesiness': 391, 'cheesy': 392, 'chemistry': 393, 'chick': 394, 'child': 395, 'childhood': 396, 'children': 397, 'childrens': 398, 'chills': 399, 'chilly': 400, 'chimp': 401, 'chodorov': 402, 'choice': 403, 'choices': 404, 'choked': 405, 'chosen': 406, 'chow': 407, 'christmas': 408, 'christopher': 409, 'church': 410, 'cinema': 411, 'cinematic': 412, 'cinematographers': 413, 'cinematography': 414, 'circumstances': 415, 'class': 416, 'classic': 417, 'classical': 418, 'clear': 419, 'clearly': 420, 'clever': 421, 'clich': 422, 'cliche': 423, 'clients': 424, 'cliff': 425, 'climax': 426, 'close': 427, 'closed': 428, 'clothes': 429, 'club': 430, 'co': 431, 'coach': 432, 'coal': 433, 'coastal': 434, 'coaster': 435, 'coherent': 436, 'cold': 437, 'cole': 438, 'collect': 439, 'collective': 440, 'colored': 441, 'colorful': 442, 'colours': 443, 'columbo': 444, 'come': 445, 'comedic': 446, 'comedy': 447, 'comes': 448, 'comfortable': 449, 'comforting': 450, 'comical': 451, 'coming': 452, 'commands': 453, 'comment': 454, 'commentary': 455, 'commented': 456, 'comments': 457, 'commercial': 458, 'community': 459, 'company': 460, 'compelling': 461, 'competent': 462, 'complete': 463, 'completed': 464, 'completely': 465, 'complex': 466, 'complexity': 467, 'composed': 468, 'composition': 469, 'comprehensible': 470, 'compromise': 471, 'computer': 472, 'concentrate': 473, 'conception': 474, 'conceptually': 475, 'concerning': 476, 'concerns': 477, 'concert': 478, 'conclusion': 479, 'condescends': 480, 'confidence': 481, 'configuration': 482, 'confirm': 483, 'conflict': 484, 'confuses': 485, 'confusing': 486, 'connections': 487, 'connery': 488, 'connor': 489, 'conrad': 490, 'consequences': 491, 'consider': 492, 'considerable': 493, 'considered': 494, 'considering': 495, 'considers': 496, 'consistent': 497, 'consolations': 498, 'constant': 499, 'constantine': 500, 'constructed': 501, 'contained': 502, 'containing': 503, 'contains': 504, 'content': 505, 'continually': 506, 'continuation': 507, 'continue': 508, 'continuity': 509, 'continuously': 510, 'contract': 511, 'contrast': 512, 'contributing': 513, 'contributory': 514, 'contrived': 515, 'control': 516, 'controversy': 517, 'convention': 518, 'convey': 519, 'convince': 520, 'convincing': 521, 'convoluted': 522, 'cool': 523, 'coppola': 524, 'cords': 525, 'core': 526, 'corn': 527, 'corny': 528, 'correct': 529, 'cost': 530, 'costs': 531, 'costumes': 532, 'cotton': 533, 'could': 534, 'couple': 535, 'course': 536, 'court': 537, 'courtroom': 538, 'cover': 539, 'cowardice': 540, 'cox': 541, 'crackles': 542, 'crafted': 543, 'crap': 544, 'crash': 545, 'crashed': 546, 'crayon': 547, 'crayons': 548, 'crazy': 549, 'create': 550, 'created': 551, 'creates': 552, 'creative': 553, 'creativity': 554, 'creature': 555, 'credible': 556, 'credit': 557, 'credits': 558, 'crew': 559, 'crime': 560, 'crisp': 561, 'critic': 562, 'critical': 563, 'crocdodile': 564, 'crocs': 565, 'cross': 566, 'crowd': 567, 'crowe': 568, 'cruel': 569, 'cruise': 570, 'cry': 571, 'cult': 572, 'culture': 573, 'curtain': 574, 'custer': 575, 'cute': 576, 'cutest': 577, 'cutie': 578, 'cutouts': 579, 'cuts': 580, 'cutting': 581, 'dads': 582, 'damian': 583, 'damn': 584, 'dance': 585, 'dancing': 586, 'dangerous': 587, 'dark': 588, 'darren': 589, 'daughter': 590, 'daughters': 591, 'day': 592, 'days': 593, 'de': 594, 'dead': 595, 'deadly': 596, 'deadpan': 597, 'deal': 598, 'dealt': 599, 'death': 600, 'debated': 601, 'debbie': 602, 'debits': 603, 'debut': 604, 'decay': 605, 'decent': 606, 'decidely': 607, 'decipher': 608, 'decisions': 609, 'dedication': 610, 'dee': 611, 'deep': 612, 'deeply': 613, 'defensemen': 614, 'defined': 615, 'definitely': 616, 'delete': 617, 'delight': 618, 'delightful': 619, 'delights': 620, 'deliver': 621, 'delivered': 622, 'delivering': 623, 'delivers': 624, 'dependant': 625, 'depending': 626, 'depends': 627, 'depicted': 628, 'depicts': 629, 'depressing': 630, 'depth': 631, 'derivative': 632, 'describe': 633, 'describes': 634, 'desert': 635, 'deserved': 636, 'deserves': 637, 'deserving': 638, 'design': 639, 'designed': 640, 'designer': 641, 'desperately': 642, 'desperation': 643, 'despised': 644, 'despite': 645, 'destroy': 646, 'detailing': 647, 'details': 648, 'develop': 649, 'development': 650, 'developments': 651, 'di': 652, 'diabetic': 653, 'dialog': 654, 'dialogs': 655, 'dialogue': 656, 'diaper': 657, 'dickens': 658, 'difference': 659, 'different': 660, 'dignity': 661, 'dimensional': 662, 'direct': 663, 'directed': 664, 'directing': 665, 'direction': 666, 'director': 667, 'directorial': 668, 'directors': 669, 'disappointed': 670, 'disappointing': 671, 'disappointment': 672, 'disaster': 673, 'disbelief': 674, 'discomfort': 675, 'discovering': 676, 'discovery': 677, 'disgrace': 678, 'disgusting': 679, 'dislike': 680, 'disliked': 681, 'disney': 682, 'disparate': 683, 'distant': 684, 'distinction': 685, 'distorted': 686, 'distract': 687, 'distressed': 688, 'disturbing': 689, 'diving': 690, 'doctor': 691, 'documentaries': 692, 'documentary': 693, 'dodge': 694, 'dogs': 695, 'dollars': 696, 'dominated': 697, 'done': 698, 'donlevy': 699, 'dont': 700, 'doomed': 701, 'dose': 702, 'doubt': 703, 'downs': 704, 'dozen': 705, 'dr': 706, 'dracula': 707, 'draft': 708, 'drag': 709, 'drago': 710, 'drama': 711, 'dramatic': 712, 'drawings': 713, 'drawn': 714, 'dream': 715, 'dreams': 716, 'dreary': 717, 'dribble': 718, 'drift': 719, 'drifting': 720, 'drive': 721, 'drooling': 722, 'dropped': 723, 'dry': 724, 'due': 725, 'duet': 726, 'dull': 727, 'dumb': 728, 'dumbest': 729, 'duper': 730, 'duris': 731, 'dustin': 732, 'dvd': 733, 'dwight': 734, 'dysfunction': 735, 'earlier': 736, 'early': 737, 'earth': 738, 'easily': 739, 'easy': 740, 'eating': 741, 'ebay': 742, 'ebola': 743, 'eccleston': 744, 'ed': 745, 'edge': 746, 'editing': 747, 'edition': 748, 'educational': 749, 'edward': 750, 'effect': 751, 'effective': 752, 'effects': 753, 'effort': 754, 'efforts': 755, 'egotism': 756, 'eighth': 757, 'eiko': 758, 'either': 759, 'elaborately': 760, 'elderly': 761, 'elegant': 762, 'element': 763, 'elias': 764, 'eloquently': 765, 'else': 766, 'elsewhere': 767, 'embarrassed': 768, 'embarrassing': 769, 'embassy': 770, 'emerge': 771, 'emilio': 772, 'emily': 773, 'emoting': 774, 'emotion': 775, 'emotionally': 776, 'emotions': 777, 'emperor': 778, 'empowerment': 779, 'emptiness': 780, 'empty': 781, 'en': 782, 'enchanting': 783, 'end': 784, 'endearing': 785, 'ended': 786, 'ending': 787, 'endlessly': 788, 'ends': 789, 'energetic': 790, 'energy': 791, 'engaging': 792, 'english': 793, 'enhanced': 794, 'enjoy': 795, 'enjoyable': 796, 'enjoyed': 797, 'enjoyment': 798, 'enough': 799, 'enter': 800, 'enterprise': 801, 'entertained': 802, 'entertaining': 803, 'entire': 804, 'entirely': 805, 'entrance': 806, 'episode': 807, 'episodes': 808, 'equivalent': 809, 'era': 810, 'errol': 811, 'errors': 812, 'escalating': 813, 'escapism': 814, 'especially': 815, 'essence': 816, 'establish': 817, 'established': 818, 'estate': 819, 'estevez': 820, 'etc': 821, 'european': 822, 'evaluate': 823, 'even': 824, 'events': 825, 'ever': 826, 'every': 827, 'everybody': 828, 'everyone': 829, 'everything': 830, 'everywhere': 831, 'evidently': 832, 'evil': 833, 'evinced': 834, 'evokes': 835, 'exactly': 836, 'exaggerating': 837, 'example': 838, 'excellent': 839, 'excellently': 840, 'except': 841, 'exceptional': 842, 'exceptionally': 843, 'excerpts': 844, 'excessively': 845, 'exchange': 846, 'exciting': 847, 'excruciatingly': 848, 'excuse': 849, 'excuses': 850, 'executed': 851, 'exemplars': 852, 'existent': 853, 'existential': 854, 'expansive': 855, 'expect': 856, 'expectations': 857, 'expected': 858, 'expecting': 859, 'experience': 860, 'experiences': 861, 'expert': 862, 'explain': 863, 'explains': 864, 'explanation': 865, 'exploit': 866, 'explorations': 867, 'explosion': 868, 'expression': 869, 'exquisite': 870, 'extant': 871, 'exteriors': 872, 'extraneous': 873, 'extraordinary': 874, 'extremely': 875, 'eye': 876, 'eyes': 877, 'fabulous': 878, 'face': 879, 'faces': 880, 'facial': 881, 'facing': 882, 'fact': 883, 'factory': 884, 'failed': 885, 'fails': 886, 'fair': 887, 'fairly': 888, 'faithful': 889, 'fall': 890, 'falling': 891, 'falls': 892, 'falsely': 893, 'falwell': 894, 'fame': 895, 'famed': 896, 'family': 897, 'famous': 898, 'fan': 899, 'fanciful': 900, 'fans': 901, 'fantastic': 902, 'fantasy': 903, 'far': 904, 'farce': 905, 'fare': 906, 'fascinated': 907, 'fascinating': 908, 'fascination': 909, 'fashioned': 910, 'fast': 911, 'faster': 912, 'fat': 913, 'father': 914, 'faultless': 915, 'fausa': 916, 'faux': 917, 'favorite': 918, 'favourite': 919, 'fear': 920, 'feature': 921, 'features': 922, 'feel': 923, 'feeling': 924, 'feelings': 925, 'feet': 926, 'feisty': 927, 'fellowes': 928, 'felt': 929, 'female': 930, 'females': 931, 'ferry': 932, 'fest': 933, 'fi': 934, 'fields': 935, 'fifteen': 936, 'fifties': 937, 'fill': 938, 'film': 939, 'filmed': 940, 'filmiing': 941, 'filmmaker': 942, 'filmography': 943, 'films': 944, 'final': 945, 'finale': 946, 'finally': 947, 'financial': 948, 'find': 949, 'finds': 950, 'fine': 951, 'finest': 952, 'fingernails': 953, 'finished': 954, 'fire': 955, 'first': 956, 'fish': 957, 'fishnet': 958, 'fisted': 959, 'fit': 960, 'five': 961, 'flag': 962, 'flakes': 963, 'flaming': 964, 'flashbacks': 965, 'flat': 966, 'flaw': 967, 'flawed': 968, 'flaws': 969, 'fleshed': 970, 'flick': 971, 'flicks': 972, 'florida': 973, 'flowed': 974, 'flying': 975, 'flynn': 976, 'focus': 977, 'fodder': 978, 'follow': 979, 'following': 980, 'follows': 981, 'foolish': 982, 'footage': 983, 'football': 984, 'force': 985, 'forced': 986, 'forces': 987, 'ford': 988, 'foreign': 989, 'foreigner': 990, 'forever': 991, 'forget': 992, 'forgettable': 993, 'forgetting': 994, 'forgot': 995, 'forgotten': 996, 'form': 997, 'format': 998, 'former': 999, 'fort': 1000, 'forth': 1001, 'forwarded': 1002, 'found': 1003, 'four': 1004, 'fox': 1005, 'foxx': 1006, 'frances': 1007, 'francis': 1008, 'frankly': 1009, 'free': 1010, 'freedom': 1011, 'freeman': 1012, 'french': 1013, 'fresh': 1014, 'freshness': 1015, 'friends': 1016, 'friendship': 1017, 'frightening': 1018, 'front': 1019, 'frontier': 1020, 'frost': 1021, 'frustration': 1022, 'fulci': 1023, 'fulfilling': 1024, 'full': 1025, 'fully': 1026, 'fumbling': 1027, 'fun': 1028, 'function': 1029, 'fundamental': 1030, 'funniest': 1031, 'funny': 1032, 'future': 1033, 'fx': 1034, 'gabriel': 1035, 'gadget': 1036, 'gain': 1037, 'gake': 1038, 'galley': 1039, 'gallon': 1040, 'game': 1041, 'games': 1042, 'garage': 1043, 'garbage': 1044, 'garbo': 1045, 'garfield': 1046, 'gas': 1047, 'gaudi': 1048, 'gave': 1049, 'gay': 1050, 'geek': 1051, 'gem': 1052, 'general': 1053, 'generally': 1054, 'generates': 1055, 'generic': 1056, 'genius': 1057, 'genre': 1058, 'gently': 1059, 'genuine': 1060, 'george': 1061, 'gerardo': 1062, 'gere': 1063, 'get': 1064, 'gets': 1065, 'getting': 1066, 'ghibili': 1067, 'giallo': 1068, 'gibberish': 1069, 'gifted': 1070, 'giovanni': 1071, 'girl': 1072, 'girlfriend': 1073, 'girls': 1074, 'girolamo': 1075, 'give': 1076, 'given': 1077, 'gives': 1078, 'giving': 1079, 'glad': 1080, 'glance': 1081, 'glasses': 1082, 'gloriously': 1083, 'go': 1084, 'goalies': 1085, 'god': 1086, 'goes': 1087, 'going': 1088, 'gone': 1089, 'gonna': 1090, 'good': 1091, 'gore': 1092, 'goremeister': 1093, 'gorman': 1094, 'gosh': 1095, 'got': 1096, 'goth': 1097, 'gotta': 1098, 'gotten': 1099, 'government': 1100, 'grace': 1101, 'grade': 1102, 'gradually': 1103, 'grainy': 1104, 'granted': 1105, 'graphics': 1106, 'grasp': 1107, 'grates': 1108, 'great': 1109, 'greatest': 1110, 'greatness': 1111, 'green': 1112, 'greenstreet': 1113, 'grew': 1114, 'grim': 1115, 'grimes': 1116, 'gripping': 1117, 'groove': 1118, 'gross': 1119, 'ground': 1120, 'guards': 1121, 'guess': 1122, 'guests': 1123, 'guilt': 1124, 'gung': 1125, 'guy': 1126, 'guys': 1127, 'hackneyed': 1128, 'haggis': 1129, 'hair': 1130, 'hairsplitting': 1131, 'half': 1132, 'halfway': 1133, 'ham': 1134, 'hand': 1135, 'handle': 1136, 'handled': 1137, 'handles': 1138, 'hands': 1139, 'hang': 1140, 'hankies': 1141, 'hanks': 1142, 'happen': 1143, 'happened': 1144, 'happiness': 1145, 'happy': 1146, 'hard': 1147, 'harris': 1148, 'hate': 1149, 'hated': 1150, 'hatred': 1151, 'havilland': 1152, 'hay': 1153, 'hayao': 1154, 'hayworth': 1155, 'hbo': 1156, 'head': 1157, 'heads': 1158, 'hear': 1159, 'heard': 1160, 'heart': 1161, 'hearts': 1162, 'heartwarming': 1163, 'heaven': 1164, 'heche': 1165, 'heels': 1166, 'heist': 1167, 'helen': 1168, 'hell': 1169, 'hellish': 1170, 'helms': 1171, 'help': 1172, 'helping': 1173, 'helps': 1174, 'hence': 1175, 'hendrikson': 1176, 'hernandez': 1177, 'hero': 1178, 'heroes': 1179, 'heroine': 1180, 'heroism': 1181, 'hes': 1182, 'hide': 1183, 'high': 1184, 'higher': 1185, 'highest': 1186, 'highlights': 1187, 'highly': 1188, 'hilarious': 1189, 'hill': 1190, 'hilt': 1191, 'hip': 1192, 'history': 1193, 'hitchcock': 1194, 'ho': 1195, 'hockey': 1196, 'hoffman': 1197, 'hold': 1198, 'holding': 1199, 'holds': 1200, 'holes': 1201, 'hollander': 1202, 'hollow': 1203, 'hollywood': 1204, 'home': 1205, 'homework': 1206, 'honest': 1207, 'honestly': 1208, 'hoot': 1209, 'hope': 1210, 'hopefully': 1211, 'hopeless': 1212, 'horrendous': 1213, 'horrendously': 1214, 'horrible': 1215, 'horrid': 1216, 'horrified': 1217, 'horror': 1218, 'horse': 1219, 'hosting': 1220, 'hot': 1221, 'hour': 1222, 'hours': 1223, 'house': 1224, 'houses': 1225, 'howdy': 1226, 'howe': 1227, 'howell': 1228, 'however': 1229, 'huge': 1230, 'hugo': 1231, 'human': 1232, 'humanity': 1233, 'humans': 1234, 'hummh': 1235, 'humor': 1236, 'humorous': 1237, 'humour': 1238, 'hurt': 1239, 'huston': 1240, 'hype': 1241, 'hypocrisy': 1242, 'idea': 1243, 'idealogical': 1244, 'identified': 1245, 'identifies': 1246, 'identify': 1247, 'idiot': 1248, 'idiotic': 1249, 'idyllic': 1250, 'iffy': 1251, 'im': 1252, 'imaginable': 1253, 'imagination': 1254, 'imaginative': 1255, 'imagine': 1256, 'imdb': 1257, 'imitation': 1258, 'impact': 1259, 'imperial': 1260, 'implausible': 1261, 'important': 1262, 'impossible': 1263, 'impressed': 1264, 'impression': 1265, 'impressive': 1266, 'improved': 1267, 'improvement': 1268, 'improvisation': 1269, 'impulse': 1270, 'inappropriate': 1271, 'incendiary': 1272, 'includes': 1273, 'including': 1274, 'incomprehensible': 1275, 'inconsistencies': 1276, 'incorrectness': 1277, 'incredible': 1278, 'incredibly': 1279, 'indeed': 1280, 'indescribably': 1281, 'indication': 1282, 'indictment': 1283, 'indie': 1284, 'individual': 1285, 'indoor': 1286, 'indulgent': 1287, 'industry': 1288, 'ineptly': 1289, 'inexperience': 1290, 'inexplicable': 1291, 'initially': 1292, 'innocence': 1293, 'insane': 1294, 'inside': 1295, 'insincere': 1296, 'insipid': 1297, 'insomniacs': 1298, 'inspiration': 1299, 'inspiring': 1300, 'instant': 1301, 'instead': 1302, 'instruments': 1303, 'insulin': 1304, 'insult': 1305, 'intangibles': 1306, 'integral': 1307, 'integration': 1308, 'intelligence': 1309, 'intelligent': 1310, 'intense': 1311, 'intensity': 1312, 'intentions': 1313, 'interacting': 1314, 'interest': 1315, 'interested': 1316, 'interesting': 1317, 'interim': 1318, 'interplay': 1319, 'interpretations': 1320, 'interview': 1321, 'intoning': 1322, 'intrigued': 1323, 'inventive': 1324, 'involved': 1325, 'involves': 1326, 'involving': 1327, 'iq': 1328, 'ireland': 1329, 'ironically': 1330, 'irons': 1331, 'ironside': 1332, 'irritating': 1333, 'ishioka': 1334, 'iso': 1335, 'issue': 1336, 'issues': 1337, 'istagey': 1338, 'italian': 1339, 'ive': 1340, 'jack': 1341, 'jaclyn': 1342, 'james': 1343, 'jamie': 1344, 'japanese': 1345, 'jason': 1346, 'jay': 1347, 'jealousy': 1348, 'jean': 1349, 'jennifer': 1350, 'jerky': 1351, 'jerry': 1352, 'jessica': 1353, 'jessice': 1354, 'jet': 1355, 'jim': 1356, 'jimmy': 1357, 'job': 1358, 'jobs': 1359, 'joe': 1360, 'john': 1361, 'joins': 1362, 'joke': 1363, 'jokes': 1364, 'jonah': 1365, 'jones': 1366, 'journey': 1367, 'joy': 1368, 'joyce': 1369, 'juano': 1370, 'judge': 1371, 'judging': 1372, 'judith': 1373, 'judo': 1374, 'julian': 1375, 'june': 1376, 'junk': 1377, 'junkyard': 1378, 'justice': 1379, 'jutland': 1380, 'kanaly': 1381, 'kathy': 1382, 'keep': 1383, 'keeps': 1384, 'keira': 1385, 'keith': 1386, 'kept': 1387, 'kevin': 1388, 'kid': 1389, 'kidnapped': 1390, 'kids': 1391, 'kieslowski': 1392, 'kill': 1393, 'killer': 1394, 'killing': 1395, 'killings': 1396, 'kind': 1397, 'kinda': 1398, 'kirk': 1399, 'kitchy': 1400, 'knew': 1401, 'knightley': 1402, 'knocked': 1403, 'know': 1404, 'known': 1405, 'knows': 1406, 'koteas': 1407, 'kris': 1408, 'kristoffersen': 1409, 'kudos': 1410, 'la': 1411, 'labute': 1412, 'lack': 1413, 'lacked': 1414, 'lacks': 1415, 'ladies': 1416, 'lady': 1417, 'lame': 1418, 'lance': 1419, 'landscapes': 1420, 'lane': 1421, 'lange': 1422, 'largely': 1423, 'laselva': 1424, 'lassie': 1425, 'last': 1426, 'lasting': 1427, 'latched': 1428, 'late': 1429, 'later': 1430, 'latest': 1431, 'latifa': 1432, 'latin': 1433, 'latter': 1434, 'laugh': 1435, 'laughable': 1436, 'laughed': 1437, 'laughs': 1438, 'layers': 1439, 'lazy': 1440, 'lead': 1441, 'leading': 1442, 'leap': 1443, 'learn': 1444, 'least': 1445, 'leave': 1446, 'leaves': 1447, 'leaving': 1448, 'lee': 1449, 'left': 1450, 'legal': 1451, 'legendary': 1452, 'length': 1453, 'leni': 1454, 'less': 1455, 'lesser': 1456, 'lestat': 1457, 'let': 1458, 'lets': 1459, 'letting': 1460, 'level': 1461, 'levels': 1462, 'lewis': 1463, 'lid': 1464, 'lie': 1465, 'lies': 1466, 'lieutenant': 1467, 'life': 1468, 'lifetime': 1469, 'light': 1470, 'lighting': 1471, 'like': 1472, 'liked': 1473, 'likes': 1474, 'lilli': 1475, 'lilt': 1476, 'limitations': 1477, 'limited': 1478, 'linda': 1479, 'line': 1480, 'linear': 1481, 'lines': 1482, 'lino': 1483, 'lion': 1484, 'list': 1485, 'literally': 1486, 'littered': 1487, 'little': 1488, 'lived': 1489, 'lives': 1490, 'living': 1491, 'loads': 1492, 'local': 1493, 'location': 1494, 'locations': 1495, 'loewenhielm': 1496, 'logic': 1497, 'london': 1498, 'loneliness': 1499, 'long': 1500, 'longer': 1501, 'look': 1502, 'looked': 1503, 'looking': 1504, 'looks': 1505, 'loose': 1506, 'loosely': 1507, 'lord': 1508, 'los': 1509, 'losing': 1510, 'lost': 1511, 'lot': 1512, 'lots': 1513, 'lousy': 1514, 'lovable': 1515, 'love': 1516, 'loved': 1517, 'lovely': 1518, 'loves': 1519, 'low': 1520, 'lower': 1521, 'loyalty': 1522, 'lucio': 1523, 'lucy': 1524, 'lugosi': 1525, 'lust': 1526, 'luv': 1527, 'lyrics': 1528, 'macbeth': 1529, 'machine': 1530, 'mad': 1531, 'made': 1532, 'magnificent': 1533, 'main': 1534, 'mainly': 1535, 'major': 1536, 'make': 1537, 'maker': 1538, 'makers': 1539, 'makes': 1540, 'making': 1541, 'male': 1542, 'males': 1543, 'malta': 1544, 'man': 1545, 'managed': 1546, 'manages': 1547, 'manna': 1548, 'mansonites': 1549, 'many': 1550, 'marbles': 1551, 'march': 1552, 'marine': 1553, 'marion': 1554, 'mark': 1555, 'marred': 1556, 'marriage': 1557, 'martin': 1558, 'masculine': 1559, 'masculinity': 1560, 'massive': 1561, 'master': 1562, 'masterful': 1563, 'masterpiece': 1564, 'masterpieces': 1565, 'material': 1566, 'matrix': 1567, 'matter': 1568, 'matthews': 1569, 'mature': 1570, 'may': 1571, 'maybe': 1572, 'mchattie': 1573, 'mclaglen': 1574, 'meagre': 1575, 'mean': 1576, 'meanders': 1577, 'meaning': 1578, 'meanings': 1579, 'meant': 1580, 'medical': 1581, 'mediocre': 1582, 'meld': 1583, 'melodrama': 1584, 'melville': 1585, 'member': 1586, 'members': 1587, 'memorable': 1588, 'memories': 1589, 'memorized': 1590, 'menace': 1591, 'menacing': 1592, 'mention': 1593, 'mercy': 1594, 'meredith': 1595, 'merit': 1596, 'mesmerising': 1597, 'mess': 1598, 'messages': 1599, 'meteorite': 1600, 'mexican': 1601, 'michael': 1602, 'mickey': 1603, 'microsoft': 1604, 'middle': 1605, 'might': 1606, 'mighty': 1607, 'mind': 1608, 'mindblowing': 1609, 'miner': 1610, 'mini': 1611, 'minor': 1612, 'minute': 1613, 'minutes': 1614, 'mirrormask': 1615, 'miserable': 1616, 'miserably': 1617, 'mishima': 1618, 'misplace': 1619, 'miss': 1620, 'missed': 1621, 'mistakes': 1622, 'miyazaki': 1623, 'modern': 1624, 'modest': 1625, 'mollusk': 1626, 'moment': 1627, 'moments': 1628, 'momentum': 1629, 'money': 1630, 'monica': 1631, 'monolog': 1632, 'monotonous': 1633, 'monster': 1634, 'monstrous': 1635, 'monumental': 1636, 'moral': 1637, 'morgan': 1638, 'morons': 1639, 'mostly': 1640, 'mother': 1641, 'motion': 1642, 'motivations': 1643, 'mountain': 1644, 'mouse': 1645, 'mouth': 1646, 'move': 1647, 'moved': 1648, 'movements': 1649, 'moves': 1650, 'movie': 1651, 'movies': 1652, 'moving': 1653, 'ms': 1654, 'much': 1655, 'muddled': 1656, 'muppets': 1657, 'murder': 1658, 'murdered': 1659, 'murdering': 1660, 'murky': 1661, 'music': 1662, 'musician': 1663, 'must': 1664, 'mystifying': 1665, 'naked': 1666, 'narration': 1667, 'narrative': 1668, 'nasty': 1669, 'national': 1670, 'nationalities': 1671, 'native': 1672, 'natural': 1673, 'nature': 1674, 'naughty': 1675, 'nearly': 1676, 'necklace': 1677, 'need': 1678, 'needed': 1679, 'needlessly': 1680, 'negative': 1681, 'negulesco': 1682, 'neighbour': 1683, 'neil': 1684, 'nerves': 1685, 'nervous': 1686, 'net': 1687, 'netflix': 1688, 'network': 1689, 'never': 1690, 'nevertheless': 1691, 'nevsky': 1692, 'new': 1693, 'next': 1694, 'nice': 1695, 'nicola': 1696, 'night': 1697, 'nimoy': 1698, 'nine': 1699, 'no': 1700, 'noble': 1701, 'nobody': 1702, 'noir': 1703, 'non': 1704, 'none': 1705, 'nonetheless': 1706, 'nonsense': 1707, 'nor': 1708, 'normally': 1709, 'northern': 1710, 'nostalgia': 1711, 'not': 1712, 'notable': 1713, 'notch': 1714, 'note': 1715, 'noteworthy': 1716, 'nothing': 1717, 'novella': 1718, 'number': 1719, 'numbers': 1720, 'nun': 1721, 'nuns': 1722, 'nurse': 1723, 'nut': 1724, 'nuts': 1725, 'obliged': 1726, 'obsessed': 1727, 'obvious': 1728, 'obviously': 1729, 'occasionally': 1730, 'occupied': 1731, 'occur': 1732, 'occurs': 1733, 'odd': 1734, 'offend': 1735, 'offensive': 1736, 'offer': 1737, 'offers': 1738, 'often': 1739, 'oh': 1740, 'okay': 1741, 'old': 1742, 'olde': 1743, 'older': 1744, 'ole': 1745, 'olivia': 1746, 'omit': 1747, 'one': 1748, 'ones': 1749, 'open': 1750, 'opened': 1751, 'opening': 1752, 'operas': 1753, 'opinion': 1754, 'ordeal': 1755, 'oriented': 1756, 'original': 1757, 'originality': 1758, 'origins': 1759, 'ortolani': 1760, 'oscar': 1761, 'others': 1762, 'otherwise': 1763, 'ought': 1764, 'outlandish': 1765, 'outlets': 1766, 'outside': 1767, 'outward': 1768, 'overacting': 1769, 'overall': 1770, 'overcome': 1771, 'overdue': 1772, 'overly': 1773, 'overs': 1774, 'overt': 1775, 'overwrought': 1776, 'owed': 1777, 'owls': 1778, 'owned': 1779, 'owns': 1780, 'oy': 1781, 'pace': 1782, 'paced': 1783, 'pacing': 1784, 'pack': 1785, 'paid': 1786, 'painful': 1787, 'painfully': 1788, 'paint': 1789, 'painted': 1790, 'pair': 1791, 'palance': 1792, 'pandering': 1793, 'pans': 1794, 'paolo': 1795, 'pap': 1796, 'paper': 1797, 'par': 1798, 'parents': 1799, 'park': 1800, 'parker': 1801, 'part': 1802, 'partaking': 1803, 'particular': 1804, 'particularly': 1805, 'parts': 1806, 'passed': 1807, 'passion': 1808, 'past': 1809, 'patent': 1810, 'pathetic': 1811, 'patriotism': 1812, 'paul': 1813, 'pay': 1814, 'peaking': 1815, 'pearls': 1816, 'peculiarity': 1817, 'pedestal': 1818, 'pencil': 1819, 'people': 1820, 'perabo': 1821, 'perfect': 1822, 'perfected': 1823, 'perfectly': 1824, 'performance': 1825, 'performances': 1826, 'perhaps': 1827, 'period': 1828, 'perplexing': 1829, 'person': 1830, 'personalities': 1831, 'personally': 1832, 'peter': 1833, 'pg': 1834, 'phantasm': 1835, 'phenomenal': 1836, 'philippa': 1837, 'phony': 1838, 'photograph': 1839, 'photography': 1840, 'phrase': 1841, 'physical': 1842, 'pi': 1843, 'picked': 1844, 'picture': 1845, 'pictures': 1846, 'piece': 1847, 'pieces': 1848, 'pile': 1849, 'pillow': 1850, 'pitch': 1851, 'pitiful': 1852, 'pixar': 1853, 'place': 1854, 'places': 1855, 'plain': 1856, 'plane': 1857, 'planned': 1858, 'plants': 1859, 'play': 1860, 'played': 1861, 'player': 1862, 'players': 1863, 'playing': 1864, 'plays': 1865, 'pleasant': 1866, 'pleased': 1867, 'pleaser': 1868, 'pleasing': 1869, 'pledge': 1870, 'plenty': 1871, 'plmer': 1872, 'plot': 1873, 'plug': 1874, 'plus': 1875, 'pm': 1876, 'poet': 1877, 'poetry': 1878, 'poignant': 1879, 'point': 1880, 'pointillistic': 1881, 'pointless': 1882, 'poised': 1883, 'poler': 1884, 'political': 1885, 'politically': 1886, 'politics': 1887, 'ponyo': 1888, 'poor': 1889, 'poorly': 1890, 'popcorn': 1891, 'popular': 1892, 'portrayal': 1893, 'portrayals': 1894, 'portrayed': 1895, 'portraying': 1896, 'positive': 1897, 'possible': 1898, 'possibly': 1899, 'post': 1900, 'potted': 1901, 'power': 1902, 'powerful': 1903, 'powerhouse': 1904, 'practical': 1905, 'practically': 1906, 'pray': 1907, 'precisely': 1908, 'predict': 1909, 'predictable': 1910, 'predictably': 1911, 'prejudice': 1912, 'prelude': 1913, 'premise': 1914, 'prepared': 1915, 'presence': 1916, 'presents': 1917, 'preservation': 1918, 'president': 1919, 'pretentious': 1920, 'pretext': 1921, 'pretty': 1922, 'previous': 1923, 'primal': 1924, 'primary': 1925, 'probably': 1926, 'problem': 1927, 'problems': 1928, 'proceedings': 1929, 'process': 1930, 'produce': 1931, 'produced': 1932, 'producer': 1933, 'producers': 1934, 'product': 1935, 'production': 1936, 'professionals': 1937, 'professor': 1938, 'progresses': 1939, 'promote': 1940, 'prompted': 1941, 'prone': 1942, 'propaganda': 1943, 'properly': 1944, 'proud': 1945, 'proudly': 1946, 'provided': 1947, 'provokes': 1948, 'provoking': 1949, 'ps': 1950, 'pseudo': 1951, 'psychological': 1952, 'psychotic': 1953, 'public': 1954, 'pull': 1955, 'pulling': 1956, 'pulls': 1957, 'punched': 1958, 'punches': 1959, 'punish': 1960, 'punishment': 1961, 'puppet': 1962, 'puppets': 1963, 'pure': 1964, 'purity': 1965, 'put': 1966, 'putting': 1967, 'puzzle': 1968, 'pyromaniac': 1969, 'qu': 1970, 'quaid': 1971, 'qualities': 1972, 'quality': 1973, 'question': 1974, 'questioning': 1975, 'quick': 1976, 'quicker': 1977, 'quiet': 1978, 'quinn': 1979, 'quite': 1980, 'race': 1981, 'racial': 1982, 'racism': 1983, 'radiant': 1984, 'raging': 1985, 'random': 1986, 'range': 1987, 'ranks': 1988, 'rare': 1989, 'rate': 1990, 'rated': 1991, 'rather': 1992, 'rating': 1993, 'ratings': 1994, 'raver': 1995, 'raw': 1996, 'ray': 1997, 'reactions': 1998, 'readers': 1999, 'reading': 2000, 'ready': 2001, 'real': 2002, 'realised': 2003, 'realistic': 2004, 'reality': 2005, 'realize': 2006, 'realized': 2007, 'really': 2008, 'reason': 2009, 'reasonable': 2010, 'reasons': 2011, 'receive': 2012, 'received': 2013, 'recent': 2014, 'recently': 2015, 'recommend': 2016, 'recommended': 2017, 'reconciliation': 2018, 'recover': 2019, 'recurring': 2020, 'redeemed': 2021, 'redeeming': 2022, 'reenactments': 2023, 'references': 2024, 'reflected': 2025, 'refreshing': 2026, 'regardless': 2027, 'regret': 2028, 'regrettable': 2029, 'regrettably': 2030, 'rejection': 2031, 'relate': 2032, 'related': 2033, 'relation': 2034, 'relations': 2035, 'relationship': 2036, 'relationships': 2037, 'relatively': 2038, 'relaxing': 2039, 'release': 2040, 'released': 2041, 'relief': 2042, 'relying': 2043, 'remaining': 2044, 'remake': 2045, 'remarkable': 2046, 'remember': 2047, 'reminded': 2048, 'remotely': 2049, 'removing': 2050, 'rendering': 2051, 'rendition': 2052, 'renowned': 2053, 'rent': 2054, 'repair': 2055, 'repeated': 2056, 'repeating': 2057, 'repeats': 2058, 'repertory': 2059, 'reporter': 2060, 'represents': 2061, 'require': 2062, 'rescue': 2063, 'researched': 2064, 'resounding': 2065, 'respecting': 2066, 'rest': 2067, 'restrained': 2068, 'result': 2069, 'results': 2070, 'resume': 2071, 'retarded': 2072, 'retreat': 2073, 'return': 2074, 'revealing': 2075, 'revenge': 2076, 'revere': 2077, 'reverse': 2078, 'review': 2079, 'reviewer': 2080, 'reviewers': 2081, 'reviews': 2082, 'rice': 2083, 'rickman': 2084, 'ridiculous': 2085, 'ridiculousness': 2086, 'right': 2087, 'riot': 2088, 'rips': 2089, 'rise': 2090, 'rita': 2091, 'rivalry': 2092, 'riveted': 2093, 'riz': 2094, 'road': 2095, 'robert': 2096, 'robotic': 2097, 'rochon': 2098, 'rocked': 2099, 'rocks': 2100, 'roeg': 2101, 'role': 2102, 'roles': 2103, 'roller': 2104, 'rolls': 2105, 'romantic': 2106, 'room': 2107, 'roosevelt': 2108, 'roth': 2109, 'rough': 2110, 'round': 2111, 'routine': 2112, 'row': 2113, 'rpg': 2114, 'rpger': 2115, 'rubbish': 2116, 'rubin': 2117, 'rumbles': 2118, 'run': 2119, 'running': 2120, 'ruthless': 2121, 'ryan': 2122, 'ryans': 2123, 'sabotages': 2124, 'sack': 2125, 'sacrifice': 2126, 'sad': 2127, 'said': 2128, 'sake': 2129, 'salesman': 2130, 'sam': 2131, 'sample': 2132, 'sand': 2133, 'sandra': 2134, 'sappiest': 2135, 'sarcophage': 2136, 'sat': 2137, 'satanic': 2138, 'savalas': 2139, 'savant': 2140, 'save': 2141, 'savor': 2142, 'saw': 2143, 'say': 2144, 'says': 2145, 'scale': 2146, 'scamp': 2147, 'scare': 2148, 'scared': 2149, 'scares': 2150, 'scary': 2151, 'scene': 2152, 'scenery': 2153, 'scenes': 2154, 'schilling': 2155, 'schizophrenic': 2156, 'school': 2157, 'schoolers': 2158, 'schrader': 2159, 'schultz': 2160, 'sci': 2161, 'science': 2162, 'scientist': 2163, 'score': 2164, 'scot': 2165, 'scream': 2166, 'screamy': 2167, 'screen': 2168, 'screened': 2169, 'screenplay': 2170, 'screenwriter': 2171, 'scrimm': 2172, 'script': 2173, 'scripted': 2174, 'scripting': 2175, 'scripts': 2176, 'sculpture': 2177, 'sea': 2178, 'seamless': 2179, 'seamlessly': 2180, 'sean': 2181, 'season': 2182, 'seat': 2183, 'second': 2184, 'secondary': 2185, 'secondly': 2186, 'see': 2187, 'seeing': 2188, 'seem': 2189, 'seemed': 2190, 'seems': 2191, 'seen': 2192, 'selections': 2193, 'self': 2194, 'sells': 2195, 'semi': 2196, 'senior': 2197, 'sense': 2198, 'senses': 2199, 'sensibility': 2200, 'sensitivities': 2201, 'sentiment': 2202, 'seperate': 2203, 'sequel': 2204, 'sequels': 2205, 'sequence': 2206, 'sequences': 2207, 'series': 2208, 'serious': 2209, 'seriously': 2210, 'served': 2211, 'set': 2212, 'sets': 2213, 'setting': 2214, 'settings': 2215, 'seuss': 2216, 'several': 2217, 'sex': 2218, 'shakespear': 2219, 'shakespears': 2220, 'shallow': 2221, 'shame': 2222, 'shameful': 2223, 'share': 2224, 'sharing': 2225, 'sharply': 2226, 'shatner': 2227, 'shattered': 2228, 'shed': 2229, 'sheer': 2230, 'shelf': 2231, 'shell': 2232, 'shelves': 2233, 'shenanigans': 2234, 'shepard': 2235, 'shined': 2236, 'shirley': 2237, 'shocking': 2238, 'shooting': 2239, 'short': 2240, 'shortlist': 2241, 'shot': 2242, 'shots': 2243, 'show': 2244, 'showcasing': 2245, 'showed': 2246, 'shows': 2247, 'shut': 2248, 'sibling': 2249, 'sick': 2250, 'side': 2251, 'sidelined': 2252, 'sign': 2253, 'significant': 2254, 'silent': 2255, 'silly': 2256, 'simmering': 2257, 'simplifying': 2258, 'simply': 2259, 'since': 2260, 'sincere': 2261, 'sing': 2262, 'singing': 2263, 'single': 2264, 'sinister': 2265, 'sink': 2266, 'sinking': 2267, 'sister': 2268, 'sisters': 2269, 'sit': 2270, 'sitcoms': 2271, 'site': 2272, 'sites': 2273, 'sits': 2274, 'situation': 2275, 'situations': 2276, 'skilled': 2277, 'skip': 2278, 'slackers': 2279, 'slavic': 2280, 'sleep': 2281, 'slideshow': 2282, 'slightest': 2283, 'slightly': 2284, 'slimy': 2285, 'sloppy': 2286, 'slow': 2287, 'slurs': 2288, 'smack': 2289, 'small': 2290, 'smart': 2291, 'smells': 2292, 'smile': 2293, 'smiling': 2294, 'smith': 2295, 'smoothly': 2296, 'snider': 2297, 'snow': 2298, 'soap': 2299, 'sobering': 2300, 'social': 2301, 'soldiers': 2302, 'sole': 2303, 'solid': 2304, 'solidifying': 2305, 'solving': 2306, 'someone': 2307, 'something': 2308, 'sometimes': 2309, 'somewhat': 2310, 'son': 2311, 'song': 2312, 'songs': 2313, 'soon': 2314, 'sophisticated': 2315, 'sorrentino': 2316, 'sorry': 2317, 'sort': 2318, 'soul': 2319, 'sound': 2320, 'sounded': 2321, 'sounds': 2322, 'soundtrack': 2323, 'sour': 2324, 'south': 2325, 'southern': 2326, 'space': 2327, 'spacek': 2328, 'spacey': 2329, 'span': 2330, 'speak': 2331, 'speaking': 2332, 'special': 2333, 'speed': 2334, 'spend': 2335, 'spent': 2336, 'spew': 2337, 'sphere': 2338, 'spiffy': 2339, 'splendid': 2340, 'spock': 2341, 'spoil': 2342, 'spoiled': 2343, 'spoiler': 2344, 'spoilers': 2345, 'spot': 2346, 'spy': 2347, 'squibs': 2348, 'stable': 2349, 'stage': 2350, 'stagy': 2351, 'stand': 2352, 'standout': 2353, 'stanwyck': 2354, 'star': 2355, 'starlet': 2356, 'starring': 2357, 'stars': 2358, 'start': 2359, 'started': 2360, 'starts': 2361, 'state': 2362, 'stay': 2363, 'stayed': 2364, 'stealing': 2365, 'steamboat': 2366, 'steele': 2367, 'step': 2368, 'stephen': 2369, 'stereotypes': 2370, 'stereotypically': 2371, 'steve': 2372, 'stewart': 2373, 'stick': 2374, 'still': 2375, 'stinker': 2376, 'stinks': 2377, 'stocking': 2378, 'stockings': 2379, 'stoic': 2380, 'store': 2381, 'stories': 2382, 'storm': 2383, 'story': 2384, 'storyline': 2385, 'storytelling': 2386, 'stowe': 2387, 'strange': 2388, 'stranger': 2389, 'stratus': 2390, 'straw': 2391, 'street': 2392, 'strident': 2393, 'string': 2394, 'strives': 2395, 'strokes': 2396, 'strong': 2397, 'struck': 2398, 'structure': 2399, 'struggle': 2400, 'stuart': 2401, 'student': 2402, 'students': 2403, 'studio': 2404, 'study': 2405, 'stuff': 2406, 'stunning': 2407, 'stupid': 2408, 'stupidity': 2409, 'style': 2410, 'stylized': 2411, 'sub': 2412, 'subject': 2413, 'subjects': 2414, 'sublime': 2415, 'sublimely': 2416, 'subplots': 2417, 'subtitles': 2418, 'subtle': 2419, 'subversive': 2420, 'subverting': 2421, 'succeeded': 2422, 'succeeds': 2423, 'success': 2424, 'suck': 2425, 'sucked': 2426, 'sucks': 2427, 'suffered': 2428, 'suffering': 2429, 'suggest': 2430, 'suggests': 2431, 'suited': 2432, 'sum': 2433, 'summary': 2434, 'sundays': 2435, 'super': 2436, 'superb': 2437, 'superbad': 2438, 'superbly': 2439, 'superficial': 2440, 'superlative': 2441, 'supernatural': 2442, 'supporting': 2443, 'supposed': 2444, 'supposedly': 2445, 'sure': 2446, 'surely': 2447, 'surf': 2448, 'surface': 2449, 'surprised': 2450, 'surprises': 2451, 'surprising': 2452, 'surprisingly': 2453, 'surrounding': 2454, 'surroundings': 2455, 'survivors': 2456, 'suspense': 2457, 'suspension': 2458, 'sven': 2459, 'swamp': 2460, 'sweep': 2461, 'sweet': 2462, 'switched': 2463, 'swords': 2464, 'sydney': 2465, 'sympathetic': 2466, 'syrupy': 2467, 'system': 2468, 'tacky': 2469, 'taelons': 2470, 'take': 2471, 'taken': 2472, 'takes': 2473, 'taking': 2474, 'tale': 2475, 'talent': 2476, 'talented': 2477, 'talents': 2478, 'talk': 2479, 'tanks': 2480, 'taped': 2481, 'tardis': 2482, 'task': 2483, 'taste': 2484, 'taxidermists': 2485, 'taylor': 2486, 'teacher': 2487, 'teaches': 2488, 'team': 2489, 'tear': 2490, 'tears': 2491, 'technically': 2492, 'teddy': 2493, 'tedium': 2494, 'teen': 2495, 'teenagers': 2496, 'teeth': 2497, 'telephone': 2498, 'television': 2499, 'tell': 2500, 'telly': 2501, 'temperaments': 2502, 'ten': 2503, 'tender': 2504, 'tension': 2505, 'tensions': 2506, 'terminology': 2507, 'terms': 2508, 'terrible': 2509, 'terribly': 2510, 'terrific': 2511, 'terror': 2512, 'th': 2513, 'thanks': 2514, 'theater': 2515, 'theatre': 2516, 'theatres': 2517, 'theatrical': 2518, 'theme': 2519, 'themes': 2520, 'therapy': 2521, 'thick': 2522, 'thing': 2523, 'things': 2524, 'think': 2525, 'thinking': 2526, 'thomerson': 2527, 'thoroughly': 2528, 'thorsen': 2529, 'though': 2530, 'thought': 2531, 'thoughts': 2532, 'thousand': 2533, 'thread': 2534, 'three': 2535, 'threshold': 2536, 'thrilled': 2537, 'thriller': 2538, 'thrillers': 2539, 'throughout': 2540, 'throwback': 2541, 'thrown': 2542, 'thug': 2543, 'thumper': 2544, 'thunderbirds': 2545, 'thus': 2546, 'ticker': 2547, 'tickets': 2548, 'tightly': 2549, 'time': 2550, 'timeless': 2551, 'timely': 2552, 'timers': 2553, 'times': 2554, 'timing': 2555, 'tiny': 2556, 'tired': 2557, 'title': 2558, 'titta': 2559, 'today': 2560, 'together': 2561, 'told': 2562, 'tolerable': 2563, 'tolerate': 2564, 'tom': 2565, 'tomorrow': 2566, 'tone': 2567, 'tongue': 2568, 'tonight': 2569, 'tons': 2570, 'tony': 2571, 'took': 2572, 'toons': 2573, 'top': 2574, 'tops': 2575, 'torture': 2576, 'tortured': 2577, 'total': 2578, 'totally': 2579, 'touch': 2580, 'touches': 2581, 'touching': 2582, 'tough': 2583, 'towards': 2584, 'towers': 2585, 'townsend': 2586, 'track': 2587, 'tract': 2588, 'traditional': 2589, 'traffic': 2590, 'trailer': 2591, 'train': 2592, 'tranquillity': 2593, 'transcend': 2594, 'transfers': 2595, 'translate': 2596, 'translating': 2597, 'trap': 2598, 'trash': 2599, 'trashy': 2600, 'treachery': 2601, 'treasure': 2602, 'treat': 2603, 'treatments': 2604, 'trek': 2605, 'tremendous': 2606, 'tremendously': 2607, 'tries': 2608, 'trilogy': 2609, 'trinity': 2610, 'trip': 2611, 'triumphed': 2612, 'trond': 2613, 'trooper': 2614, 'trouble': 2615, 'truck': 2616, 'true': 2617, 'truly': 2618, 'trumbull': 2619, 'trumpeter': 2620, 'truth': 2621, 'try': 2622, 'trying': 2623, 'trysts': 2624, 'tsunami': 2625, 'tuneful': 2626, 'turkey': 2627, 'turn': 2628, 'turned': 2629, 'turns': 2630, 'tv': 2631, 'twice': 2632, 'twirling': 2633, 'twist': 2634, 'twists': 2635, 'two': 2636, 'tying': 2637, 'type': 2638, 'typical': 2639, 'ue': 2640, 'ugliest': 2641, 'ugly': 2642, 'uhura': 2643, 'ultra': 2644, 'um': 2645, 'unaccompanied': 2646, 'unbearable': 2647, 'unbearably': 2648, 'unbelievable': 2649, 'uncalled': 2650, 'unconditional': 2651, 'unconvincing': 2652, 'underacting': 2653, 'underappreciated': 2654, 'underbite': 2655, 'underlines': 2656, 'underlying': 2657, 'underneath': 2658, 'underrated': 2659, 'understand': 2660, 'understanding': 2661, 'understated': 2662, 'understatement': 2663, 'understood': 2664, 'undertone': 2665, 'underwater': 2666, 'undoubtedly': 2667, 'uneasy': 2668, 'unemployed': 2669, 'unethical': 2670, 'unfaithful': 2671, 'unfolds': 2672, 'unforgettable': 2673, 'unfortunate': 2674, 'unfortunately': 2675, 'unfunny': 2676, 'unintentionally': 2677, 'uninteresting': 2678, 'union': 2679, 'unique': 2680, 'uniqueness': 2681, 'universal': 2682, 'universe': 2683, 'unless': 2684, 'unlockable': 2685, 'unmatched': 2686, 'unmitigated': 2687, 'unmoving': 2688, 'unnecessary': 2689, 'unneeded': 2690, 'unoriginal': 2691, 'unpleasant': 2692, 'unpredictability': 2693, 'unpredictable': 2694, 'unrealistic': 2695, 'unrecognizable': 2696, 'unrecommended': 2697, 'unremarkable': 2698, 'unrestrained': 2699, 'unsatisfactory': 2700, 'unwatchable': 2701, 'upa': 2702, 'uplifting': 2703, 'upper': 2704, 'ups': 2705, 'uptight': 2706, 'ursula': 2707, 'us': 2708, 'use': 2709, 'used': 2710, 'user': 2711, 'uses': 2712, 'using': 2713, 'ussr': 2714, 'usual': 2715, 'utter': 2716, 'utterly': 2717, 'valentine': 2718, 'value': 2719, 'values': 2720, 'vampire': 2721, 'vandiver': 2722, 'variation': 2723, 'vehicles': 2724, 'ventura': 2725, 'verbal': 2726, 'verbatim': 2727, 'versatile': 2728, 'version': 2729, 'versus': 2730, 'vessel': 2731, 'veteran': 2732, 'vey': 2733, 'vibe': 2734, 'victor': 2735, 'video': 2736, 'view': 2737, 'viewer': 2738, 'viewing': 2739, 'views': 2740, 'villain': 2741, 'villains': 2742, 'violence': 2743, 'violin': 2744, 'virtue': 2745, 'virus': 2746, 'vision': 2747, 'visual': 2748, 'visually': 2749, 'vitally': 2750, 'vivian': 2751, 'vivid': 2752, 'vocal': 2753, 'voice': 2754, 'volatile': 2755, 'volcano': 2756, 'vomit': 2757, 'vomited': 2758, 'voyage': 2759, 'vulcan': 2760, 'waiting': 2761, 'waitress': 2762, 'walk': 2763, 'walked': 2764, 'wall': 2765, 'want': 2766, 'wanted': 2767, 'wanting': 2768, 'wants': 2769, 'war': 2770, 'warmth': 2771, 'warn': 2772, 'warning': 2773, 'wartime': 2774, 'warts': 2775, 'washed': 2776, 'washing': 2777, 'waste': 2778, 'wasted': 2779, 'waster': 2780, 'wasting': 2781, 'watch': 2782, 'watchable': 2783, 'watched': 2784, 'watching': 2785, 'water': 2786, 'watkins': 2787, 'watson': 2788, 'wave': 2789, 'way': 2790, 'waylaid': 2791, 'wayne': 2792, 'ways': 2793, 'wb': 2794, 'weak': 2795, 'weaker': 2796, 'weariness': 2797, 'weaving': 2798, 'website': 2799, 'wedding': 2800, 'weight': 2801, 'weird': 2802, 'well': 2803, 'welsh': 2804, 'went': 2805, 'whatever': 2806, 'whatsoever': 2807, 'whenever': 2808, 'whether': 2809, 'whine': 2810, 'whiny': 2811, 'white': 2812, 'whites': 2813, 'whoever': 2814, 'whole': 2815, 'wholesome': 2816, 'wide': 2817, 'widmark': 2818, 'wife': 2819, 'wih': 2820, 'wild': 2821, 'wilkinson': 2822, 'william': 2823, 'willie': 2824, 'wily': 2825, 'win': 2826, 'wind': 2827, 'wise': 2828, 'wish': 2829, 'within': 2830, 'without': 2831, 'witticisms': 2832, 'witty': 2833, 'woa': 2834, 'women': 2835, 'wonder': 2836, 'wondered': 2837, 'wonderful': 2838, 'wonderfully': 2839, 'wong': 2840, 'wont': 2841, 'woo': 2842, 'wooden': 2843, 'word': 2844, 'words': 2845, 'work': 2846, 'worked': 2847, 'working': 2848, 'works': 2849, 'world': 2850, 'worry': 2851, 'worse': 2852, 'worst': 2853, 'worth': 2854, 'worthless': 2855, 'worthwhile': 2856, 'worthy': 2857, 'would': 2858, 'wouldnt': 2859, 'woven': 2860, 'wow': 2861, 'wrap': 2862, 'write': 2863, 'writer': 2864, 'writers': 2865, 'writing': 2866, 'written': 2867, 'wrong': 2868, 'wrote': 2869, 'yardley': 2870, 'yawn': 2871, 'yeah': 2872, 'year': 2873, 'years': 2874, 'yelps': 2875, 'yes': 2876, 'yet': 2877, 'young': 2878, 'younger': 2879, 'youthful': 2880, 'youtube': 2881, 'yun': 2882, 'zillion': 2883, 'zombie': 2884, 'zombiez': 2885}\n",
            "{'aailiyah': 6.921578419643816, 'abandoned': 6.921578419643816, 'ability': 6.2284312390838705, 'abroad': 6.921578419643816, 'absolutely': 5.312140507209715, 'abstruse': 6.921578419643816, 'abysmal': 6.516113311535651, 'academy': 6.921578419643816, 'accents': 6.921578419643816, 'accessible': 6.921578419643816, 'acclaimed': 6.921578419643816, 'accolades': 6.921578419643816, 'accurate': 6.921578419643816, 'accurately': 6.921578419643816, 'accused': 6.516113311535651, 'achievement': 6.516113311535651, 'achille': 6.921578419643816, 'ackerman': 6.921578419643816, 'act': 6.516113311535651, 'acted': 6.2284312390838705, 'acting': 3.977139440477375, 'action': 5.535284058523925, 'actions': 6.921578419643816, 'actor': 5.312140507209715, 'actors': 4.67028662103732, 'actress': 6.2284312390838705, 'actresses': 6.2284312390838705, 'actually': 5.216830327405391, 'adams': 6.921578419643816, 'adaptation': 6.516113311535651, 'add': 6.921578419643816, 'added': 6.921578419643816, 'addition': 6.2284312390838705, 'admins': 6.921578419643816, 'admiration': 6.921578419643816, 'admitted': 6.921578419643816, 'adorable': 6.005287687769661, 'adrift': 6.921578419643816, 'adventure': 6.921578419643816, 'advise': 6.516113311535651, 'aerial': 6.2284312390838705, 'aesthetically': 6.921578419643816, 'affected': 6.921578419643816, 'affleck': 6.921578419643816, 'afraid': 6.516113311535651, 'africa': 6.516113311535651, 'afternoon': 6.921578419643816, 'age': 6.005287687769661, 'aged': 6.921578419643816, 'ages': 6.921578419643816, 'ago': 6.516113311535651, 'agree': 6.921578419643816, 'agreed': 6.921578419643816, 'aimless': 6.921578419643816, 'air': 6.516113311535651, 'aired': 6.921578419643816, 'akasha': 6.921578419643816, 'akin': 6.921578419643816, 'alert': 6.921578419643816, 'alexander': 6.516113311535651, 'alike': 6.921578419643816, 'allison': 6.921578419643816, 'allow': 6.921578419643816, 'allowing': 6.921578419643816, 'almost': 5.312140507209715, 'along': 6.2284312390838705, 'alongside': 6.921578419643816, 'already': 6.005287687769661, 'also': 4.39584977533556, 'although': 6.2284312390838705, 'always': 6.005287687769661, 'amateurish': 6.921578419643816, 'amaze': 6.921578419643816, 'amazed': 6.921578419643816, 'amazing': 5.668815451148448, 'amazingly': 6.921578419643816, 'america': 6.516113311535651, 'american': 6.516113311535651, 'americans': 6.516113311535651, 'among': 6.516113311535651, 'amount': 5.822966130975706, 'amusing': 6.921578419643816, 'amust': 6.921578419643816, 'anatomist': 6.921578419643816, 'angel': 6.921578419643816, 'angela': 6.921578419643816, 'angeles': 6.516113311535651, 'angelina': 6.921578419643816, 'angle': 6.921578419643816, 'angles': 6.516113311535651, 'angry': 6.921578419643816, 'anguish': 6.921578419643816, 'angus': 6.921578419643816, 'animals': 6.921578419643816, 'animated': 6.921578419643816, 'animation': 6.516113311535651, 'anita': 6.921578419643816, 'ann': 6.921578419643816, 'anne': 6.2284312390838705, 'anniversary': 6.921578419643816, 'annoying': 5.668815451148448, 'another': 5.822966130975706, 'anthony': 6.921578419643816, 'antithesis': 6.921578419643816, 'anyone': 4.84213687796398, 'anything': 5.417501022867541, 'anyway': 6.921578419643816, 'apart': 6.921578419643816, 'appalling': 6.516113311535651, 'appealing': 6.516113311535651, 'appearance': 6.2284312390838705, 'appears': 6.921578419643816, 'applauded': 6.921578419643816, 'applause': 6.921578419643816, 'appreciate': 6.2284312390838705, 'appropriate': 6.921578419643816, 'apt': 6.921578419643816, 'argued': 6.921578419643816, 'armageddon': 6.921578419643816, 'armand': 6.921578419643816, 'around': 5.822966130975706, 'array': 6.921578419643816, 'art': 5.216830327405391, 'articulated': 6.921578419643816, 'artiness': 6.921578419643816, 'artist': 6.516113311535651, 'artistic': 6.921578419643816, 'artless': 6.921578419643816, 'arts': 6.921578419643816, 'aside': 6.516113311535651, 'ask': 6.516113311535651, 'asleep': 6.516113311535651, 'aspect': 6.516113311535651, 'aspects': 6.921578419643816, 'ass': 6.516113311535651, 'assante': 6.921578419643816, 'assaulted': 6.921578419643816, 'assistant': 6.921578419643816, 'astonishingly': 6.921578419643816, 'astronaut': 6.921578419643816, 'atmosphere': 6.921578419643816, 'atrocious': 6.921578419643816, 'atrocity': 6.921578419643816, 'attempt': 6.005287687769661, 'attempted': 6.921578419643816, 'attempting': 6.921578419643816, 'attempts': 6.516113311535651, 'attention': 6.516113311535651, 'attractive': 6.921578419643816, 'audience': 5.822966130975706, 'audio': 6.921578419643816, 'aurv': 6.921578419643816, 'austen': 6.921578419643816, 'austere': 6.921578419643816, 'author': 6.921578419643816, 'average': 6.2284312390838705, 'aversion': 6.921578419643816, 'avoid': 5.822966130975706, 'avoided': 6.921578419643816, 'award': 6.921578419643816, 'awarded': 6.921578419643816, 'awards': 6.921578419643816, 'away': 5.822966130975706, 'awesome': 6.2284312390838705, 'awful': 4.975668270588502, 'awkwardly': 6.921578419643816, 'aye': 6.921578419643816, 'baaaaaad': 6.921578419643816, 'babbling': 6.921578419643816, 'babie': 6.921578419643816, 'baby': 6.921578419643816, 'babysitting': 6.921578419643816, 'back': 6.005287687769661, 'backdrop': 6.921578419643816, 'backed': 6.921578419643816, 'bad': 3.6257415536394864, 'badly': 6.516113311535651, 'bag': 6.921578419643816, 'bailey': 6.921578419643816, 'bakery': 6.921578419643816, 'balance': 6.516113311535651, 'balanced': 6.516113311535651, 'ball': 6.921578419643816, 'ballet': 6.921578419643816, 'balls': 6.921578419643816, 'band': 6.921578419643816, 'barcelona': 6.921578419643816, 'barely': 6.005287687769661, 'barking': 6.921578419643816, 'barney': 6.921578419643816, 'barren': 6.921578419643816, 'based': 6.921578419643816, 'basic': 6.921578419643816, 'basically': 6.516113311535651, 'bat': 6.921578419643816, 'bates': 6.921578419643816, 'baxendale': 6.921578419643816, 'bear': 6.516113311535651, 'beautiful': 5.216830327405391, 'beautifully': 6.516113311535651, 'bec': 6.921578419643816, 'became': 6.516113311535651, 'bechard': 6.921578419643816, 'become': 6.005287687769661, 'becomes': 6.921578419643816, 'began': 6.516113311535651, 'begin': 6.516113311535651, 'beginning': 6.005287687769661, 'behind': 6.921578419643816, 'behold': 6.921578419643816, 'bela': 6.921578419643816, 'believable': 5.668815451148448, 'believe': 5.417501022867541, 'believed': 6.921578419643816, 'bell': 6.921578419643816, 'bellucci': 6.921578419643816, 'belly': 6.921578419643816, 'belmondo': 6.921578419643816, 'ben': 6.921578419643816, 'bendingly': 6.921578419643816, 'bennett': 6.921578419643816, 'bergen': 6.921578419643816, 'bertolucci': 6.921578419643816, 'best': 4.570203162480338, 'better': 4.781512256147545, 'betty': 6.516113311535651, 'beware': 6.921578419643816, 'beyond': 5.822966130975706, 'bible': 6.921578419643816, 'big': 5.216830327405391, 'biggest': 6.921578419643816, 'billy': 6.2284312390838705, 'biographical': 6.921578419643816, 'bipolarity': 6.921578419643816, 'bit': 5.822966130975706, 'bitchy': 6.921578419643816, 'black': 5.312140507209715, 'blah': 6.921578419643816, 'blake': 6.921578419643816, 'bland': 6.921578419643816, 'blandly': 6.921578419643816, 'blare': 6.921578419643816, 'blatant': 6.921578419643816, 'blew': 6.921578419643816, 'blood': 6.516113311535651, 'blown': 6.921578419643816, 'blue': 6.921578419643816, 'blush': 6.921578419643816, 'boasts': 6.921578419643816, 'bob': 6.921578419643816, 'body': 6.921578419643816, 'bohemian': 6.921578419643816, 'boiling': 6.921578419643816, 'bold': 6.516113311535651, 'bombardments': 6.921578419643816, 'bond': 6.921578419643816, 'bonding': 6.921578419643816, 'bonus': 6.921578419643816, 'bonuses': 6.921578419643816, 'boobs': 6.921578419643816, 'boogeyman': 6.921578419643816, 'book': 6.005287687769661, 'boost': 6.921578419643816, 'bop': 6.921578419643816, 'bordered': 6.921578419643816, 'borderlines': 6.921578419643816, 'borders': 6.921578419643816, 'bore': 6.2284312390838705, 'bored': 6.005287687769661, 'boring': 5.312140507209715, 'borrowed': 6.921578419643816, 'boss': 6.921578419643816, 'bother': 6.516113311535651, 'bothersome': 6.921578419643816, 'bought': 6.2284312390838705, 'box': 6.921578419643816, 'boyfriend': 6.921578419643816, 'boyle': 6.921578419643816, 'brain': 6.2284312390838705, 'brainsucking': 6.921578419643816, 'brat': 6.921578419643816, 'breaking': 6.921578419643816, 'breeders': 6.921578419643816, 'brevity': 6.921578419643816, 'brian': 6.516113311535651, 'brief': 6.516113311535651, 'brigand': 6.921578419643816, 'bright': 6.921578419643816, 'brilliance': 6.2284312390838705, 'brilliant': 5.668815451148448, 'brilliantly': 6.921578419643816, 'bring': 6.516113311535651, 'brings': 6.921578419643816, 'broad': 6.921578419643816, 'broke': 6.921578419643816, 'brooding': 6.921578419643816, 'brother': 6.921578419643816, 'brutal': 6.921578419643816, 'buddy': 6.921578419643816, 'budget': 5.535284058523925, 'buffalo': 6.921578419643816, 'buffet': 6.921578419643816, 'build': 6.921578419643816, 'builders': 6.921578419643816, 'buildings': 6.921578419643816, 'built': 6.921578419643816, 'bullock': 6.516113311535651, 'bully': 6.921578419643816, 'bunch': 6.516113311535651, 'burton': 6.921578419643816, 'business': 6.516113311535651, 'buy': 6.516113311535651, 'cable': 6.921578419643816, 'cailles': 6.921578419643816, 'california': 6.921578419643816, 'call': 6.516113311535651, 'called': 6.2284312390838705, 'calls': 6.921578419643816, 'came': 6.005287687769661, 'cameo': 6.921578419643816, 'camera': 5.216830327405391, 'camerawork': 6.921578419643816, 'camp': 6.921578419643816, 'campy': 6.921578419643816, 'canada': 6.516113311535651, 'cancan': 6.921578419643816, 'candace': 6.921578419643816, 'candle': 6.921578419643816, 'cannot': 6.516113311535651, 'cant': 6.921578419643816, 'captain': 6.921578419643816, 'captured': 6.921578419643816, 'captures': 6.921578419643816, 'car': 6.921578419643816, 'card': 6.921578419643816, 'cardboard': 6.516113311535651, 'cardellini': 6.921578419643816, 'care': 5.822966130975706, 'carol': 6.921578419643816, 'carrell': 6.921578419643816, 'carries': 6.921578419643816, 'carry': 6.921578419643816, 'cars': 6.921578419643816, 'cartoon': 6.2284312390838705, 'cartoons': 6.516113311535651, 'case': 6.516113311535651, 'cases': 6.921578419643816, 'cast': 4.67028662103732, 'casted': 6.921578419643816, 'casting': 5.668815451148448, 'cat': 6.921578419643816, 'catchy': 6.921578419643816, 'caught': 6.921578419643816, 'cause': 6.516113311535651, 'ceases': 6.516113311535651, 'celebration': 6.921578419643816, 'celebrity': 6.921578419643816, 'celluloid': 6.921578419643816, 'centers': 6.921578419643816, 'central': 6.516113311535651, 'century': 6.516113311535651, 'certain': 6.921578419643816, 'certainly': 5.535284058523925, 'cg': 6.921578419643816, 'cgi': 6.921578419643816, 'chalkboard': 6.921578419643816, 'challenges': 6.921578419643816, 'chance': 6.516113311535651, 'change': 6.516113311535651, 'changes': 6.921578419643816, 'changing': 6.921578419643816, 'channel': 6.921578419643816, 'character': 4.570203162480338, 'characterisation': 6.921578419643816, 'characters': 4.148989697404034, 'charisma': 6.516113311535651, 'charismatic': 6.921578419643816, 'charles': 6.516113311535651, 'charlie': 6.921578419643816, 'charm': 6.516113311535651, 'charming': 6.2284312390838705, 'chase': 6.921578419643816, 'chasing': 6.921578419643816, 'cheap': 5.535284058523925, 'cheaply': 6.921578419643816, 'check': 6.921578419643816, 'checking': 6.2284312390838705, 'cheek': 6.921578419643816, 'cheekbones': 6.921578419643816, 'cheerfull': 6.921578419643816, 'cheerless': 6.921578419643816, 'cheesiness': 6.921578419643816, 'cheesy': 6.516113311535651, 'chemistry': 6.005287687769661, 'chick': 6.516113311535651, 'child': 5.822966130975706, 'childhood': 6.516113311535651, 'children': 6.2284312390838705, 'childrens': 6.921578419643816, 'chills': 6.921578419643816, 'chilly': 6.921578419643816, 'chimp': 6.921578419643816, 'chodorov': 6.921578419643816, 'choice': 6.921578419643816, 'choices': 6.921578419643816, 'choked': 6.921578419643816, 'chosen': 6.921578419643816, 'chow': 6.921578419643816, 'christmas': 6.516113311535651, 'christopher': 6.921578419643816, 'church': 6.516113311535651, 'cinema': 5.535284058523925, 'cinematic': 6.921578419643816, 'cinematographers': 6.921578419643816, 'cinematography': 5.312140507209715, 'circumstances': 6.921578419643816, 'class': 6.921578419643816, 'classic': 5.668815451148448, 'classical': 6.921578419643816, 'clear': 6.921578419643816, 'clearly': 6.516113311535651, 'clever': 5.822966130975706, 'clich': 6.2284312390838705, 'cliche': 6.921578419643816, 'clients': 6.921578419643816, 'cliff': 6.921578419643816, 'climax': 6.921578419643816, 'close': 6.2284312390838705, 'closed': 6.921578419643816, 'clothes': 6.921578419643816, 'club': 6.921578419643816, 'co': 6.921578419643816, 'coach': 6.921578419643816, 'coal': 6.921578419643816, 'coastal': 6.921578419643816, 'coaster': 6.921578419643816, 'coherent': 6.921578419643816, 'cold': 6.921578419643816, 'cole': 6.516113311535651, 'collect': 6.921578419643816, 'collective': 6.921578419643816, 'colored': 6.921578419643816, 'colorful': 6.921578419643816, 'colours': 6.921578419643816, 'columbo': 6.921578419643816, 'come': 5.822966130975706, 'comedic': 6.921578419643816, 'comedy': 5.535284058523925, 'comes': 6.005287687769661, 'comfortable': 6.921578419643816, 'comforting': 6.921578419643816, 'comical': 6.921578419643816, 'coming': 6.2284312390838705, 'commands': 6.921578419643816, 'comment': 6.921578419643816, 'commentary': 6.921578419643816, 'commented': 6.921578419643816, 'comments': 6.921578419643816, 'commercial': 6.921578419643816, 'community': 6.921578419643816, 'company': 6.921578419643816, 'compelling': 6.516113311535651, 'competent': 6.921578419643816, 'complete': 6.2284312390838705, 'completed': 6.921578419643816, 'completely': 6.005287687769661, 'complex': 6.516113311535651, 'complexity': 6.921578419643816, 'composed': 6.921578419643816, 'composition': 6.516113311535651, 'comprehensible': 6.921578419643816, 'compromise': 6.921578419643816, 'computer': 6.516113311535651, 'concentrate': 6.921578419643816, 'conception': 6.921578419643816, 'conceptually': 6.921578419643816, 'concerning': 6.921578419643816, 'concerns': 6.921578419643816, 'concert': 6.921578419643816, 'conclusion': 6.2284312390838705, 'condescends': 6.921578419643816, 'confidence': 6.921578419643816, 'configuration': 6.921578419643816, 'confirm': 6.921578419643816, 'conflict': 6.2284312390838705, 'confuses': 6.921578419643816, 'confusing': 6.921578419643816, 'connections': 6.921578419643816, 'connery': 6.516113311535651, 'connor': 6.921578419643816, 'conrad': 6.921578419643816, 'consequences': 6.921578419643816, 'consider': 6.005287687769661, 'considerable': 6.921578419643816, 'considered': 6.921578419643816, 'considering': 6.516113311535651, 'considers': 6.921578419643816, 'consistent': 6.921578419643816, 'consolations': 6.921578419643816, 'constant': 6.921578419643816, 'constantine': 6.921578419643816, 'constructed': 6.921578419643816, 'contained': 6.516113311535651, 'containing': 6.921578419643816, 'contains': 6.516113311535651, 'content': 6.921578419643816, 'continually': 6.921578419643816, 'continuation': 6.921578419643816, 'continue': 6.921578419643816, 'continuity': 6.516113311535651, 'continuously': 6.921578419643816, 'contract': 6.921578419643816, 'contrast': 6.516113311535651, 'contributing': 6.921578419643816, 'contributory': 6.921578419643816, 'contrived': 6.921578419643816, 'control': 6.516113311535651, 'controversy': 6.921578419643816, 'convention': 6.921578419643816, 'convey': 6.921578419643816, 'convince': 6.921578419643816, 'convincing': 6.005287687769661, 'convoluted': 6.921578419643816, 'cool': 5.535284058523925, 'coppola': 6.516113311535651, 'cords': 6.921578419643816, 'core': 6.516113311535651, 'corn': 6.921578419643816, 'corny': 6.921578419643816, 'correct': 6.921578419643816, 'cost': 6.516113311535651, 'costs': 6.2284312390838705, 'costumes': 6.921578419643816, 'cotton': 6.921578419643816, 'could': 4.39584977533556, 'couple': 6.921578419643816, 'course': 6.2284312390838705, 'court': 6.921578419643816, 'courtroom': 6.516113311535651, 'cover': 6.005287687769661, 'cowardice': 6.921578419643816, 'cox': 6.921578419643816, 'crackles': 6.921578419643816, 'crafted': 6.516113311535651, 'crap': 5.822966130975706, 'crash': 6.921578419643816, 'crashed': 6.921578419643816, 'crayon': 6.921578419643816, 'crayons': 6.921578419643816, 'crazy': 6.516113311535651, 'create': 6.516113311535651, 'created': 6.005287687769661, 'creates': 6.516113311535651, 'creative': 6.921578419643816, 'creativity': 6.921578419643816, 'creature': 6.921578419643816, 'credible': 6.921578419643816, 'credit': 6.516113311535651, 'credits': 6.921578419643816, 'crew': 6.921578419643816, 'crime': 6.921578419643816, 'crisp': 6.921578419643816, 'critic': 6.921578419643816, 'critical': 6.921578419643816, 'crocdodile': 6.921578419643816, 'crocs': 6.921578419643816, 'cross': 6.921578419643816, 'crowd': 6.516113311535651, 'crowe': 6.921578419643816, 'cruel': 6.921578419643816, 'cruise': 6.921578419643816, 'cry': 6.921578419643816, 'cult': 6.005287687769661, 'culture': 6.516113311535651, 'curtain': 6.921578419643816, 'custer': 6.921578419643816, 'cute': 6.516113311535651, 'cutest': 6.921578419643816, 'cutie': 6.921578419643816, 'cutouts': 6.921578419643816, 'cuts': 6.921578419643816, 'cutting': 6.921578419643816, 'dads': 6.921578419643816, 'damian': 6.921578419643816, 'damn': 6.921578419643816, 'dance': 6.005287687769661, 'dancing': 6.516113311535651, 'dangerous': 6.516113311535651, 'dark': 6.516113311535651, 'darren': 6.921578419643816, 'daughter': 6.516113311535651, 'daughters': 6.921578419643816, 'day': 5.822966130975706, 'days': 6.921578419643816, 'de': 6.516113311535651, 'dead': 6.516113311535651, 'deadly': 6.921578419643816, 'deadpan': 6.921578419643816, 'deal': 6.921578419643816, 'dealt': 6.921578419643816, 'death': 6.005287687769661, 'debated': 6.921578419643816, 'debbie': 6.921578419643816, 'debits': 6.921578419643816, 'debut': 6.921578419643816, 'decay': 6.516113311535651, 'decent': 6.2284312390838705, 'decidely': 6.921578419643816, 'decipher': 6.921578419643816, 'decisions': 6.921578419643816, 'dedication': 6.516113311535651, 'dee': 6.921578419643816, 'deep': 6.921578419643816, 'deeply': 6.516113311535651, 'defensemen': 6.921578419643816, 'defined': 6.921578419643816, 'definitely': 5.312140507209715, 'delete': 6.921578419643816, 'delight': 6.516113311535651, 'delightful': 6.921578419643816, 'delights': 6.921578419643816, 'deliver': 6.921578419643816, 'delivered': 6.921578419643816, 'delivering': 6.516113311535651, 'delivers': 6.2284312390838705, 'dependant': 6.921578419643816, 'depending': 6.921578419643816, 'depends': 6.921578419643816, 'depicted': 6.921578419643816, 'depicts': 6.516113311535651, 'depressing': 6.516113311535651, 'depth': 6.005287687769661, 'derivative': 6.921578419643816, 'describe': 6.516113311535651, 'describes': 6.921578419643816, 'desert': 6.921578419643816, 'deserved': 6.516113311535651, 'deserves': 6.516113311535651, 'deserving': 6.516113311535651, 'design': 6.921578419643816, 'designed': 6.921578419643816, 'designer': 6.921578419643816, 'desperately': 6.921578419643816, 'desperation': 6.921578419643816, 'despised': 6.921578419643816, 'despite': 6.516113311535651, 'destroy': 6.921578419643816, 'detailing': 6.921578419643816, 'details': 6.921578419643816, 'develop': 6.921578419643816, 'development': 6.921578419643816, 'developments': 6.921578419643816, 'di': 6.921578419643816, 'diabetic': 6.921578419643816, 'dialog': 6.2284312390838705, 'dialogs': 6.921578419643816, 'dialogue': 5.1298189504157605, 'diaper': 6.921578419643816, 'dickens': 6.921578419643816, 'difference': 6.921578419643816, 'different': 5.822966130975706, 'dignity': 6.921578419643816, 'dimensional': 6.921578419643816, 'direct': 6.921578419643816, 'directed': 6.2284312390838705, 'directing': 5.417501022867541, 'direction': 6.005287687769661, 'director': 5.312140507209715, 'directorial': 6.516113311535651, 'directors': 6.921578419643816, 'disappointed': 5.668815451148448, 'disappointing': 6.516113311535651, 'disappointment': 6.516113311535651, 'disaster': 6.516113311535651, 'disbelief': 6.921578419643816, 'discomfort': 6.921578419643816, 'discovering': 6.516113311535651, 'discovery': 6.921578419643816, 'disgrace': 6.921578419643816, 'disgusting': 6.921578419643816, 'dislike': 6.516113311535651, 'disliked': 6.516113311535651, 'disney': 6.921578419643816, 'disparate': 6.921578419643816, 'distant': 6.921578419643816, 'distinction': 6.921578419643816, 'distorted': 6.921578419643816, 'distract': 6.921578419643816, 'distressed': 6.921578419643816, 'disturbing': 6.516113311535651, 'diving': 6.921578419643816, 'doctor': 6.516113311535651, 'documentaries': 6.516113311535651, 'documentary': 6.2284312390838705, 'dodge': 6.921578419643816, 'dogs': 6.516113311535651, 'dollars': 6.921578419643816, 'dominated': 6.921578419643816, 'done': 5.668815451148448, 'donlevy': 6.921578419643816, 'dont': 6.921578419643816, 'doomed': 6.921578419643816, 'dose': 6.921578419643816, 'doubt': 6.921578419643816, 'downs': 6.921578419643816, 'dozen': 6.921578419643816, 'dr': 6.921578419643816, 'dracula': 6.921578419643816, 'draft': 6.921578419643816, 'drag': 6.921578419643816, 'drago': 6.2284312390838705, 'drama': 5.417501022867541, 'dramatic': 6.516113311535651, 'drawings': 6.921578419643816, 'drawn': 6.921578419643816, 'dream': 6.921578419643816, 'dreams': 6.516113311535651, 'dreary': 6.921578419643816, 'dribble': 6.921578419643816, 'drift': 6.921578419643816, 'drifting': 6.921578419643816, 'drive': 6.2284312390838705, 'drooling': 6.921578419643816, 'dropped': 6.921578419643816, 'dry': 6.921578419643816, 'due': 6.2284312390838705, 'duet': 6.516113311535651, 'dull': 6.516113311535651, 'dumb': 6.516113311535651, 'dumbest': 6.921578419643816, 'duper': 6.921578419643816, 'duris': 6.921578419643816, 'dustin': 6.921578419643816, 'dvd': 6.2284312390838705, 'dwight': 6.921578419643816, 'dysfunction': 6.921578419643816, 'earlier': 6.2284312390838705, 'early': 6.2284312390838705, 'earth': 6.516113311535651, 'easily': 6.2284312390838705, 'easy': 6.2284312390838705, 'eating': 6.921578419643816, 'ebay': 6.921578419643816, 'ebola': 6.921578419643816, 'eccleston': 6.921578419643816, 'ed': 6.2284312390838705, 'edge': 6.516113311535651, 'editing': 5.822966130975706, 'edition': 6.921578419643816, 'educational': 6.921578419643816, 'edward': 6.921578419643816, 'effect': 6.921578419643816, 'effective': 6.2284312390838705, 'effects': 5.417501022867541, 'effort': 6.921578419643816, 'efforts': 6.921578419643816, 'egotism': 6.921578419643816, 'eighth': 6.921578419643816, 'eiko': 6.921578419643816, 'either': 6.2284312390838705, 'elaborately': 6.921578419643816, 'elderly': 6.921578419643816, 'elegant': 6.921578419643816, 'element': 6.516113311535651, 'elias': 6.921578419643816, 'eloquently': 6.921578419643816, 'else': 6.005287687769661, 'elsewhere': 6.921578419643816, 'embarrassed': 6.921578419643816, 'embarrassing': 6.2284312390838705, 'embassy': 6.921578419643816, 'emerge': 6.921578419643816, 'emilio': 6.516113311535651, 'emily': 6.516113311535651, 'emoting': 6.921578419643816, 'emotion': 6.921578419643816, 'emotionally': 6.921578419643816, 'emotions': 6.516113311535651, 'emperor': 6.921578419643816, 'empowerment': 6.921578419643816, 'emptiness': 6.921578419643816, 'empty': 6.516113311535651, 'en': 6.921578419643816, 'enchanting': 6.921578419643816, 'end': 5.1298189504157605, 'endearing': 6.921578419643816, 'ended': 6.921578419643816, 'ending': 5.1298189504157605, 'endlessly': 6.921578419643816, 'ends': 6.921578419643816, 'energetic': 6.921578419643816, 'energy': 6.005287687769661, 'engaging': 6.516113311535651, 'english': 6.921578419643816, 'enhanced': 6.921578419643816, 'enjoy': 5.822966130975706, 'enjoyable': 6.2284312390838705, 'enjoyed': 5.417501022867541, 'enjoyment': 6.921578419643816, 'enough': 5.216830327405391, 'enter': 6.921578419643816, 'enterprise': 6.921578419643816, 'entertained': 6.921578419643816, 'entertaining': 6.005287687769661, 'entire': 5.668815451148448, 'entirely': 6.516113311535651, 'entrance': 6.921578419643816, 'episode': 6.2284312390838705, 'episodes': 6.921578419643816, 'equivalent': 6.921578419643816, 'era': 6.516113311535651, 'errol': 6.516113311535651, 'errors': 6.921578419643816, 'escalating': 6.921578419643816, 'escapism': 6.921578419643816, 'especially': 5.417501022867541, 'essence': 6.921578419643816, 'establish': 6.921578419643816, 'established': 6.921578419643816, 'estate': 6.921578419643816, 'estevez': 6.921578419643816, 'etc': 6.2284312390838705, 'european': 6.516113311535651, 'evaluate': 6.921578419643816, 'even': 4.031206661747651, 'events': 6.921578419643816, 'ever': 4.479231384274611, 'every': 4.84213687796398, 'everybody': 6.921578419643816, 'everyone': 5.417501022867541, 'everything': 5.049776242742224, 'everywhere': 6.921578419643816, 'evidently': 6.921578419643816, 'evil': 6.516113311535651, 'evinced': 6.921578419643816, 'evokes': 6.921578419643816, 'exactly': 6.2284312390838705, 'exaggerating': 6.921578419643816, 'example': 6.2284312390838705, 'excellent': 4.975668270588502, 'excellently': 6.516113311535651, 'except': 6.921578419643816, 'exceptional': 6.516113311535651, 'exceptionally': 6.921578419643816, 'excerpts': 6.921578419643816, 'excessively': 6.921578419643816, 'exchange': 6.921578419643816, 'exciting': 6.921578419643816, 'excruciatingly': 6.921578419643816, 'excuse': 6.921578419643816, 'excuses': 6.921578419643816, 'executed': 6.921578419643816, 'exemplars': 6.921578419643816, 'existent': 6.921578419643816, 'existential': 6.921578419643816, 'expansive': 6.921578419643816, 'expect': 6.005287687769661, 'expectations': 6.921578419643816, 'expected': 6.921578419643816, 'expecting': 6.921578419643816, 'experience': 5.668815451148448, 'experiences': 6.921578419643816, 'expert': 6.921578419643816, 'explain': 6.516113311535651, 'explains': 6.921578419643816, 'explanation': 6.516113311535651, 'exploit': 6.921578419643816, 'explorations': 6.921578419643816, 'explosion': 6.921578419643816, 'expression': 6.921578419643816, 'exquisite': 6.516113311535651, 'extant': 6.921578419643816, 'exteriors': 6.921578419643816, 'extraneous': 6.921578419643816, 'extraordinary': 6.921578419643816, 'extremely': 6.516113311535651, 'eye': 6.516113311535651, 'eyes': 6.005287687769661, 'fabulous': 6.921578419643816, 'face': 5.822966130975706, 'faces': 6.921578419643816, 'facial': 6.921578419643816, 'facing': 6.921578419643816, 'fact': 5.417501022867541, 'factory': 6.921578419643816, 'failed': 6.921578419643816, 'fails': 5.822966130975706, 'fair': 6.921578419643816, 'fairly': 6.921578419643816, 'faithful': 6.921578419643816, 'fall': 6.516113311535651, 'falling': 6.921578419643816, 'falls': 6.921578419643816, 'falsely': 6.921578419643816, 'falwell': 6.921578419643816, 'fame': 6.921578419643816, 'famed': 6.921578419643816, 'family': 5.535284058523925, 'famous': 6.921578419643816, 'fan': 6.2284312390838705, 'fanciful': 6.921578419643816, 'fans': 5.822966130975706, 'fantastic': 6.2284312390838705, 'fantasy': 6.921578419643816, 'far': 5.535284058523925, 'farce': 6.921578419643816, 'fare': 6.921578419643816, 'fascinated': 6.921578419643816, 'fascinating': 6.516113311535651, 'fascination': 6.921578419643816, 'fashioned': 6.921578419643816, 'fast': 6.005287687769661, 'faster': 6.921578419643816, 'fat': 6.516113311535651, 'father': 6.921578419643816, 'faultless': 6.921578419643816, 'fausa': 6.921578419643816, 'faux': 6.2284312390838705, 'favorite': 6.921578419643816, 'favourite': 6.2284312390838705, 'fear': 6.2284312390838705, 'feature': 6.921578419643816, 'features': 6.2284312390838705, 'feel': 6.2284312390838705, 'feeling': 5.417501022867541, 'feelings': 6.921578419643816, 'feet': 6.921578419643816, 'feisty': 6.921578419643816, 'fellowes': 6.921578419643816, 'felt': 5.822966130975706, 'female': 6.516113311535651, 'females': 6.921578419643816, 'ferry': 6.921578419643816, 'fest': 6.921578419643816, 'fi': 6.516113311535651, 'fields': 6.921578419643816, 'fifteen': 6.921578419643816, 'fifties': 6.921578419643816, 'fill': 6.921578419643816, 'film': 2.7705385137451697, 'filmed': 6.516113311535651, 'filmiing': 6.921578419643816, 'filmmaker': 6.921578419643816, 'filmography': 6.921578419643816, 'films': 4.67028662103732, 'final': 6.2284312390838705, 'finale': 6.921578419643816, 'finally': 6.2284312390838705, 'financial': 6.921578419643816, 'find': 5.216830327405391, 'finds': 6.921578419643816, 'fine': 5.822966130975706, 'finest': 6.921578419643816, 'fingernails': 6.921578419643816, 'finished': 6.921578419643816, 'fire': 6.921578419643816, 'first': 5.216830327405391, 'fish': 6.921578419643816, 'fishnet': 6.921578419643816, 'fisted': 6.921578419643816, 'fit': 6.921578419643816, 'five': 6.516113311535651, 'flag': 6.921578419643816, 'flakes': 6.921578419643816, 'flaming': 6.921578419643816, 'flashbacks': 6.921578419643816, 'flat': 6.516113311535651, 'flaw': 6.921578419643816, 'flawed': 6.516113311535651, 'flaws': 6.516113311535651, 'fleshed': 6.921578419643816, 'flick': 5.822966130975706, 'flicks': 6.921578419643816, 'florida': 6.921578419643816, 'flowed': 6.921578419643816, 'flying': 6.921578419643816, 'flynn': 6.516113311535651, 'focus': 6.516113311535651, 'fodder': 6.921578419643816, 'follow': 6.2284312390838705, 'following': 6.516113311535651, 'follows': 6.921578419643816, 'foolish': 6.921578419643816, 'footage': 6.2284312390838705, 'football': 6.921578419643816, 'force': 6.921578419643816, 'forced': 6.921578419643816, 'forces': 6.516113311535651, 'ford': 6.921578419643816, 'foreign': 6.921578419643816, 'foreigner': 6.921578419643816, 'forever': 6.921578419643816, 'forget': 6.516113311535651, 'forgettable': 6.921578419643816, 'forgetting': 6.921578419643816, 'forgot': 6.921578419643816, 'forgotten': 6.921578419643816, 'form': 6.516113311535651, 'format': 6.921578419643816, 'former': 6.921578419643816, 'fort': 6.921578419643816, 'forth': 6.921578419643816, 'forwarded': 6.921578419643816, 'found': 5.535284058523925, 'four': 6.921578419643816, 'fox': 6.516113311535651, 'foxx': 6.921578419643816, 'frances': 6.921578419643816, 'francis': 6.921578419643816, 'frankly': 6.516113311535651, 'free': 6.2284312390838705, 'freedom': 6.516113311535651, 'freeman': 6.921578419643816, 'french': 6.516113311535651, 'fresh': 6.516113311535651, 'freshness': 6.921578419643816, 'friends': 6.516113311535651, 'friendship': 6.921578419643816, 'frightening': 6.2284312390838705, 'front': 6.516113311535651, 'frontier': 6.921578419643816, 'frost': 6.921578419643816, 'frustration': 6.921578419643816, 'fulci': 6.516113311535651, 'fulfilling': 6.921578419643816, 'full': 5.822966130975706, 'fully': 6.921578419643816, 'fumbling': 6.921578419643816, 'fun': 5.822966130975706, 'function': 6.921578419643816, 'fundamental': 6.921578419643816, 'funniest': 6.921578419643816, 'funny': 4.781512256147545, 'future': 6.516113311535651, 'fx': 6.516113311535651, 'gabriel': 6.921578419643816, 'gadget': 6.921578419643816, 'gain': 6.921578419643816, 'gake': 6.921578419643816, 'galley': 6.921578419643816, 'gallon': 6.921578419643816, 'game': 6.2284312390838705, 'games': 6.2284312390838705, 'garage': 6.921578419643816, 'garbage': 5.535284058523925, 'garbo': 6.921578419643816, 'garfield': 6.921578419643816, 'gas': 6.921578419643816, 'gaudi': 6.921578419643816, 'gave': 5.822966130975706, 'gay': 6.921578419643816, 'geek': 6.921578419643816, 'gem': 6.2284312390838705, 'general': 6.921578419643816, 'generally': 6.005287687769661, 'generates': 6.921578419643816, 'generic': 6.921578419643816, 'genius': 6.516113311535651, 'genre': 6.516113311535651, 'gently': 6.921578419643816, 'genuine': 6.2284312390838705, 'george': 6.921578419643816, 'gerardo': 6.921578419643816, 'gere': 6.921578419643816, 'get': 5.049776242742224, 'gets': 5.668815451148448, 'getting': 6.921578419643816, 'ghibili': 6.921578419643816, 'giallo': 6.2284312390838705, 'gibberish': 6.921578419643816, 'gifted': 6.921578419643816, 'giovanni': 6.921578419643816, 'girl': 5.535284058523925, 'girlfriend': 6.516113311535651, 'girls': 6.921578419643816, 'girolamo': 6.921578419643816, 'give': 5.216830327405391, 'given': 6.2284312390838705, 'gives': 5.822966130975706, 'giving': 6.921578419643816, 'glad': 6.2284312390838705, 'glance': 6.516113311535651, 'glasses': 6.921578419643816, 'gloriously': 6.921578419643816, 'go': 5.049776242742224, 'goalies': 6.921578419643816, 'god': 6.005287687769661, 'goes': 6.516113311535651, 'going': 5.216830327405391, 'gone': 6.921578419643816, 'gonna': 6.516113311535651, 'good': 3.786084203714666, 'gore': 6.921578419643816, 'goremeister': 6.921578419643816, 'gorman': 6.921578419643816, 'gosh': 6.921578419643816, 'got': 5.417501022867541, 'goth': 6.921578419643816, 'gotta': 6.921578419643816, 'gotten': 6.921578419643816, 'government': 6.921578419643816, 'grace': 6.2284312390838705, 'grade': 6.921578419643816, 'gradually': 6.921578419643816, 'grainy': 6.921578419643816, 'granted': 6.921578419643816, 'graphics': 6.921578419643816, 'grasp': 6.921578419643816, 'grates': 6.921578419643816, 'great': 4.180738395718615, 'greatest': 6.2284312390838705, 'greatness': 6.921578419643816, 'green': 6.921578419643816, 'greenstreet': 6.921578419643816, 'grew': 6.921578419643816, 'grim': 6.921578419643816, 'grimes': 6.921578419643816, 'gripping': 6.516113311535651, 'groove': 6.921578419643816, 'gross': 6.921578419643816, 'ground': 6.921578419643816, 'guards': 6.921578419643816, 'guess': 5.822966130975706, 'guests': 6.921578419643816, 'guilt': 6.921578419643816, 'gung': 6.921578419643816, 'guy': 6.516113311535651, 'guys': 6.921578419643816, 'hackneyed': 6.516113311535651, 'haggis': 6.921578419643816, 'hair': 6.921578419643816, 'hairsplitting': 6.921578419643816, 'half': 5.668815451148448, 'halfway': 6.921578419643816, 'ham': 6.921578419643816, 'hand': 6.516113311535651, 'handle': 6.921578419643816, 'handled': 6.516113311535651, 'handles': 6.921578419643816, 'hands': 6.516113311535651, 'hang': 6.921578419643816, 'hankies': 6.921578419643816, 'hanks': 6.921578419643816, 'happen': 6.2284312390838705, 'happened': 6.2284312390838705, 'happiness': 6.921578419643816, 'happy': 6.921578419643816, 'hard': 6.2284312390838705, 'harris': 6.921578419643816, 'hate': 6.516113311535651, 'hated': 6.516113311535651, 'hatred': 6.921578419643816, 'havilland': 6.921578419643816, 'hay': 6.921578419643816, 'hayao': 6.921578419643816, 'hayworth': 6.921578419643816, 'hbo': 6.921578419643816, 'head': 6.2284312390838705, 'heads': 6.921578419643816, 'hear': 6.516113311535651, 'heard': 6.516113311535651, 'heart': 6.2284312390838705, 'hearts': 6.921578419643816, 'heartwarming': 6.921578419643816, 'heaven': 6.516113311535651, 'heche': 6.921578419643816, 'heels': 6.921578419643816, 'heist': 6.921578419643816, 'helen': 6.921578419643816, 'hell': 6.516113311535651, 'hellish': 6.921578419643816, 'helms': 6.921578419643816, 'help': 6.921578419643816, 'helping': 6.921578419643816, 'helps': 6.516113311535651, 'hence': 6.516113311535651, 'hendrikson': 6.921578419643816, 'hernandez': 6.921578419643816, 'hero': 6.921578419643816, 'heroes': 6.921578419643816, 'heroine': 6.921578419643816, 'heroism': 6.921578419643816, 'hes': 6.921578419643816, 'hide': 6.921578419643816, 'high': 6.516113311535651, 'higher': 6.921578419643816, 'highest': 6.921578419643816, 'highlights': 6.921578419643816, 'highly': 5.312140507209715, 'hilarious': 5.668815451148448, 'hill': 6.2284312390838705, 'hilt': 6.921578419643816, 'hip': 6.921578419643816, 'history': 5.668815451148448, 'hitchcock': 6.2284312390838705, 'ho': 6.921578419643816, 'hockey': 6.921578419643816, 'hoffman': 6.921578419643816, 'hold': 6.921578419643816, 'holding': 6.921578419643816, 'holds': 6.921578419643816, 'holes': 6.005287687769661, 'hollander': 6.921578419643816, 'hollow': 6.516113311535651, 'hollywood': 6.516113311535651, 'home': 6.516113311535651, 'homework': 6.921578419643816, 'honest': 6.921578419643816, 'honestly': 6.921578419643816, 'hoot': 6.921578419643816, 'hope': 6.005287687769661, 'hopefully': 6.921578419643816, 'hopeless': 6.921578419643816, 'horrendous': 6.921578419643816, 'horrendously': 6.921578419643816, 'horrible': 5.822966130975706, 'horrid': 6.921578419643816, 'horrified': 6.921578419643816, 'horror': 5.417501022867541, 'horse': 6.921578419643816, 'hosting': 6.921578419643816, 'hot': 6.921578419643816, 'hour': 6.005287687769661, 'hours': 6.2284312390838705, 'house': 6.2284312390838705, 'houses': 6.921578419643816, 'howdy': 6.921578419643816, 'howe': 6.921578419643816, 'howell': 6.921578419643816, 'however': 5.216830327405391, 'huge': 6.005287687769661, 'hugo': 6.921578419643816, 'human': 5.668815451148448, 'humanity': 6.921578419643816, 'humans': 6.921578419643816, 'hummh': 6.921578419643816, 'humor': 6.921578419643816, 'humorous': 6.516113311535651, 'humour': 6.516113311535651, 'hurt': 6.921578419643816, 'huston': 6.2284312390838705, 'hype': 6.921578419643816, 'hypocrisy': 6.921578419643816, 'idea': 6.005287687769661, 'idealogical': 6.921578419643816, 'identified': 6.921578419643816, 'identifies': 6.921578419643816, 'identify': 6.516113311535651, 'idiot': 6.516113311535651, 'idiotic': 6.921578419643816, 'idyllic': 6.921578419643816, 'iffy': 6.921578419643816, 'im': 6.921578419643816, 'imaginable': 6.516113311535651, 'imagination': 6.005287687769661, 'imaginative': 6.516113311535651, 'imagine': 6.921578419643816, 'imdb': 6.921578419643816, 'imitation': 6.921578419643816, 'impact': 6.921578419643816, 'imperial': 6.921578419643816, 'implausible': 6.516113311535651, 'important': 6.516113311535651, 'impossible': 6.921578419643816, 'impressed': 6.516113311535651, 'impression': 6.921578419643816, 'impressive': 6.516113311535651, 'improved': 6.921578419643816, 'improvement': 6.921578419643816, 'improvisation': 6.921578419643816, 'impulse': 6.921578419643816, 'inappropriate': 6.921578419643816, 'incendiary': 6.921578419643816, 'includes': 6.921578419643816, 'including': 6.2284312390838705, 'incomprehensible': 6.921578419643816, 'inconsistencies': 6.921578419643816, 'incorrectness': 6.921578419643816, 'incredible': 6.005287687769661, 'incredibly': 6.2284312390838705, 'indeed': 6.005287687769661, 'indescribably': 6.921578419643816, 'indication': 6.921578419643816, 'indictment': 6.921578419643816, 'indie': 6.921578419643816, 'individual': 6.921578419643816, 'indoor': 6.921578419643816, 'indulgent': 6.2284312390838705, 'industry': 6.516113311535651, 'ineptly': 6.921578419643816, 'inexperience': 6.921578419643816, 'inexplicable': 6.921578419643816, 'initially': 6.921578419643816, 'innocence': 6.921578419643816, 'insane': 6.921578419643816, 'inside': 6.921578419643816, 'insincere': 6.921578419643816, 'insipid': 6.921578419643816, 'insomniacs': 6.921578419643816, 'inspiration': 6.921578419643816, 'inspiring': 6.921578419643816, 'instant': 6.921578419643816, 'instead': 6.516113311535651, 'instruments': 6.921578419643816, 'insulin': 6.921578419643816, 'insult': 6.005287687769661, 'intangibles': 6.921578419643816, 'integral': 6.921578419643816, 'integration': 6.921578419643816, 'intelligence': 6.005287687769661, 'intelligent': 6.005287687769661, 'intense': 6.921578419643816, 'intensity': 6.921578419643816, 'intentions': 6.921578419643816, 'interacting': 6.921578419643816, 'interest': 6.2284312390838705, 'interested': 6.516113311535651, 'interesting': 5.1298189504157605, 'interim': 6.921578419643816, 'interplay': 6.516113311535651, 'interpretations': 6.921578419643816, 'interview': 6.921578419643816, 'intoning': 6.921578419643816, 'intrigued': 6.921578419643816, 'inventive': 6.921578419643816, 'involved': 5.822966130975706, 'involves': 6.921578419643816, 'involving': 6.921578419643816, 'iq': 6.921578419643816, 'ireland': 6.921578419643816, 'ironically': 6.921578419643816, 'irons': 6.921578419643816, 'ironside': 6.921578419643816, 'irritating': 6.921578419643816, 'ishioka': 6.921578419643816, 'iso': 6.921578419643816, 'issue': 6.921578419643816, 'issues': 6.516113311535651, 'istagey': 6.921578419643816, 'italian': 6.516113311535651, 'ive': 6.921578419643816, 'jack': 6.921578419643816, 'jaclyn': 6.921578419643816, 'james': 6.005287687769661, 'jamie': 6.516113311535651, 'japanese': 6.921578419643816, 'jason': 6.921578419643816, 'jay': 6.921578419643816, 'jealousy': 6.921578419643816, 'jean': 6.516113311535651, 'jennifer': 6.921578419643816, 'jerky': 6.516113311535651, 'jerry': 6.921578419643816, 'jessica': 6.921578419643816, 'jessice': 6.921578419643816, 'jet': 6.921578419643816, 'jim': 6.921578419643816, 'jimmy': 6.516113311535651, 'job': 5.312140507209715, 'jobs': 6.516113311535651, 'joe': 6.921578419643816, 'john': 5.822966130975706, 'joins': 6.921578419643816, 'joke': 6.516113311535651, 'jokes': 6.921578419643816, 'jonah': 6.516113311535651, 'jones': 6.921578419643816, 'journey': 6.516113311535651, 'joy': 5.822966130975706, 'joyce': 6.921578419643816, 'juano': 6.921578419643816, 'judge': 6.921578419643816, 'judging': 6.921578419643816, 'judith': 6.921578419643816, 'judo': 6.921578419643816, 'julian': 6.921578419643816, 'june': 6.516113311535651, 'junk': 6.921578419643816, 'junkyard': 6.921578419643816, 'justice': 6.921578419643816, 'jutland': 6.921578419643816, 'kanaly': 6.921578419643816, 'kathy': 6.921578419643816, 'keep': 6.005287687769661, 'keeps': 6.516113311535651, 'keira': 6.921578419643816, 'keith': 6.921578419643816, 'kept': 6.921578419643816, 'kevin': 6.921578419643816, 'kid': 6.921578419643816, 'kidnapped': 6.921578419643816, 'kids': 5.417501022867541, 'kieslowski': 6.921578419643816, 'kill': 6.921578419643816, 'killer': 6.516113311535651, 'killing': 6.516113311535651, 'killings': 6.921578419643816, 'kind': 5.417501022867541, 'kinda': 6.516113311535651, 'kirk': 6.921578419643816, 'kitchy': 6.921578419643816, 'knew': 6.2284312390838705, 'knightley': 6.921578419643816, 'knocked': 6.921578419643816, 'know': 4.906675399101551, 'known': 6.516113311535651, 'knows': 6.921578419643816, 'koteas': 6.921578419643816, 'kris': 6.921578419643816, 'kristoffersen': 6.921578419643816, 'kudos': 6.921578419643816, 'la': 6.921578419643816, 'labute': 6.921578419643816, 'lack': 6.921578419643816, 'lacked': 6.516113311535651, 'lacks': 5.822966130975706, 'ladies': 6.921578419643816, 'lady': 6.921578419643816, 'lame': 5.822966130975706, 'lance': 6.921578419643816, 'landscapes': 6.921578419643816, 'lane': 6.516113311535651, 'lange': 6.516113311535651, 'largely': 6.921578419643816, 'laselva': 6.921578419643816, 'lassie': 6.921578419643816, 'last': 6.005287687769661, 'lasting': 6.921578419643816, 'latched': 6.921578419643816, 'late': 6.921578419643816, 'later': 6.921578419643816, 'latest': 6.921578419643816, 'latifa': 6.921578419643816, 'latin': 6.921578419643816, 'latter': 6.921578419643816, 'laugh': 6.516113311535651, 'laughable': 6.2284312390838705, 'laughed': 6.921578419643816, 'laughs': 6.921578419643816, 'layers': 6.921578419643816, 'lazy': 6.516113311535651, 'lead': 5.822966130975706, 'leading': 6.921578419643816, 'leap': 6.921578419643816, 'learn': 6.2284312390838705, 'least': 5.535284058523925, 'leave': 6.516113311535651, 'leaves': 6.516113311535651, 'leaving': 6.921578419643816, 'lee': 6.921578419643816, 'left': 6.2284312390838705, 'legal': 6.921578419643816, 'legendary': 6.921578419643816, 'length': 6.516113311535651, 'leni': 6.921578419643816, 'less': 6.005287687769661, 'lesser': 6.516113311535651, 'lestat': 6.921578419643816, 'let': 5.822966130975706, 'lets': 6.921578419643816, 'letting': 6.921578419643816, 'level': 6.005287687769661, 'levels': 6.516113311535651, 'lewis': 6.921578419643816, 'lid': 6.921578419643816, 'lie': 6.921578419643816, 'lies': 6.921578419643816, 'lieutenant': 6.921578419643816, 'life': 5.049776242742224, 'lifetime': 6.921578419643816, 'light': 6.516113311535651, 'lighting': 6.516113311535651, 'like': 4.0038076875595365, 'liked': 5.312140507209715, 'likes': 6.516113311535651, 'lilli': 6.921578419643816, 'lilt': 6.921578419643816, 'limitations': 6.921578419643816, 'limited': 6.921578419643816, 'linda': 6.921578419643816, 'line': 5.535284058523925, 'linear': 6.921578419643816, 'lines': 5.535284058523925, 'lino': 6.921578419643816, 'lion': 6.2284312390838705, 'list': 6.516113311535651, 'literally': 6.516113311535651, 'littered': 6.921578419643816, 'little': 4.724353842307596, 'lived': 6.921578419643816, 'lives': 6.516113311535651, 'living': 6.2284312390838705, 'loads': 6.516113311535651, 'local': 6.921578419643816, 'location': 6.516113311535651, 'locations': 6.921578419643816, 'loewenhielm': 6.921578419643816, 'logic': 6.921578419643816, 'london': 6.921578419643816, 'loneliness': 6.516113311535651, 'long': 5.417501022867541, 'longer': 6.921578419643816, 'look': 4.61899332664977, 'looked': 6.005287687769661, 'looking': 6.2284312390838705, 'looks': 6.2284312390838705, 'loose': 6.921578419643816, 'loosely': 6.921578419643816, 'lord': 6.516113311535651, 'los': 6.516113311535651, 'losing': 6.516113311535651, 'lost': 6.005287687769661, 'lot': 5.535284058523925, 'lots': 6.2284312390838705, 'lousy': 6.516113311535651, 'lovable': 6.921578419643816, 'love': 4.570203162480338, 'loved': 5.312140507209715, 'lovely': 6.005287687769661, 'loves': 6.921578419643816, 'low': 5.822966130975706, 'lower': 6.921578419643816, 'loyalty': 6.921578419643816, 'lucio': 6.921578419643816, 'lucy': 6.516113311535651, 'lugosi': 6.921578419643816, 'lust': 6.921578419643816, 'luv': 6.921578419643816, 'lyrics': 6.921578419643816, 'macbeth': 6.516113311535651, 'machine': 6.516113311535651, 'mad': 6.516113311535651, 'made': 4.479231384274611, 'magnificent': 6.921578419643816, 'main': 6.2284312390838705, 'mainly': 6.921578419643816, 'major': 6.921578419643816, 'make': 4.67028662103732, 'maker': 6.921578419643816, 'makers': 6.921578419643816, 'makes': 5.417501022867541, 'making': 5.668815451148448, 'male': 6.516113311535651, 'males': 6.921578419643816, 'malta': 6.921578419643816, 'man': 5.1298189504157605, 'managed': 6.921578419643816, 'manages': 6.921578419643816, 'manna': 6.921578419643816, 'mansonites': 6.921578419643816, 'many': 4.906675399101551, 'marbles': 6.921578419643816, 'march': 6.921578419643816, 'marine': 6.921578419643816, 'marion': 6.921578419643816, 'mark': 6.516113311535651, 'marred': 6.921578419643816, 'marriage': 6.921578419643816, 'martin': 6.516113311535651, 'masculine': 6.921578419643816, 'masculinity': 6.921578419643816, 'massive': 6.921578419643816, 'master': 6.005287687769661, 'masterful': 6.516113311535651, 'masterpiece': 6.516113311535651, 'masterpieces': 6.516113311535651, 'material': 6.516113311535651, 'matrix': 6.921578419643816, 'matter': 6.516113311535651, 'matthews': 6.921578419643816, 'mature': 6.2284312390838705, 'may': 6.2284312390838705, 'maybe': 6.005287687769661, 'mchattie': 6.921578419643816, 'mclaglen': 6.921578419643816, 'meagre': 6.921578419643816, 'mean': 6.005287687769661, 'meanders': 6.921578419643816, 'meaning': 6.2284312390838705, 'meanings': 6.921578419643816, 'meant': 6.921578419643816, 'medical': 6.921578419643816, 'mediocre': 6.005287687769661, 'meld': 6.921578419643816, 'melodrama': 6.921578419643816, 'melville': 6.921578419643816, 'member': 6.516113311535651, 'members': 6.921578419643816, 'memorable': 5.668815451148448, 'memories': 6.2284312390838705, 'memorized': 6.921578419643816, 'menace': 6.921578419643816, 'menacing': 6.921578419643816, 'mention': 5.822966130975706, 'mercy': 6.516113311535651, 'meredith': 6.921578419643816, 'merit': 6.921578419643816, 'mesmerising': 6.921578419643816, 'mess': 5.535284058523925, 'messages': 6.921578419643816, 'meteorite': 6.921578419643816, 'mexican': 6.921578419643816, 'michael': 6.921578419643816, 'mickey': 6.005287687769661, 'microsoft': 6.921578419643816, 'middle': 6.921578419643816, 'might': 6.516113311535651, 'mighty': 6.921578419643816, 'mind': 5.822966130975706, 'mindblowing': 6.921578419643816, 'miner': 6.921578419643816, 'mini': 6.516113311535651, 'minor': 6.921578419643816, 'minute': 6.2284312390838705, 'minutes': 5.417501022867541, 'mirrormask': 6.921578419643816, 'miserable': 6.921578419643816, 'miserably': 6.921578419643816, 'mishima': 6.516113311535651, 'misplace': 6.921578419643816, 'miss': 6.921578419643816, 'missed': 6.516113311535651, 'mistakes': 6.921578419643816, 'miyazaki': 6.2284312390838705, 'modern': 6.516113311535651, 'modest': 6.921578419643816, 'mollusk': 6.921578419643816, 'moment': 6.2284312390838705, 'moments': 6.516113311535651, 'momentum': 6.921578419643816, 'money': 5.822966130975706, 'monica': 6.921578419643816, 'monolog': 6.921578419643816, 'monotonous': 6.921578419643816, 'monster': 6.921578419643816, 'monstrous': 6.921578419643816, 'monumental': 6.921578419643816, 'moral': 6.516113311535651, 'morgan': 6.516113311535651, 'morons': 6.921578419643816, 'mostly': 5.668815451148448, 'mother': 6.516113311535651, 'motion': 6.921578419643816, 'motivations': 6.921578419643816, 'mountain': 6.921578419643816, 'mouse': 6.516113311535651, 'mouth': 6.516113311535651, 'move': 6.921578419643816, 'moved': 6.921578419643816, 'movements': 6.921578419643816, 'moves': 6.921578419643816, 'movie': 2.7168858002528493, 'movies': 4.479231384274611, 'moving': 6.005287687769661, 'ms': 6.921578419643816, 'much': 4.724353842307596, 'muddled': 6.921578419643816, 'muppets': 6.921578419643816, 'murder': 6.921578419643816, 'murdered': 6.516113311535651, 'murdering': 6.921578419643816, 'murky': 6.921578419643816, 'music': 4.906675399101551, 'musician': 6.921578419643816, 'must': 5.535284058523925, 'mystifying': 6.921578419643816, 'naked': 6.921578419643816, 'narration': 6.921578419643816, 'narrative': 6.2284312390838705, 'nasty': 6.921578419643816, 'national': 6.921578419643816, 'nationalities': 6.921578419643816, 'native': 6.921578419643816, 'natural': 6.516113311535651, 'nature': 6.516113311535651, 'naughty': 6.921578419643816, 'nearly': 6.921578419643816, 'necklace': 6.921578419643816, 'need': 6.516113311535651, 'needed': 6.516113311535651, 'needlessly': 6.921578419643816, 'negative': 6.2284312390838705, 'negulesco': 6.921578419643816, 'neighbour': 6.921578419643816, 'neil': 6.516113311535651, 'nerves': 6.921578419643816, 'nervous': 6.921578419643816, 'net': 6.921578419643816, 'netflix': 6.921578419643816, 'network': 6.921578419643816, 'never': 4.724353842307596, 'nevertheless': 6.921578419643816, 'nevsky': 6.921578419643816, 'new': 5.822966130975706, 'next': 6.2284312390838705, 'nice': 5.668815451148448, 'nicola': 6.921578419643816, 'night': 5.822966130975706, 'nimoy': 6.921578419643816, 'nine': 6.921578419643816, 'no': 4.356629062182279, 'noble': 6.921578419643816, 'nobody': 6.2284312390838705, 'noir': 6.516113311535651, 'non': 6.005287687769661, 'none': 6.516113311535651, 'nonetheless': 6.921578419643816, 'nonsense': 6.2284312390838705, 'nor': 6.921578419643816, 'normally': 6.921578419643816, 'northern': 6.921578419643816, 'nostalgia': 6.921578419643816, 'not': 2.8962267289086663, 'notable': 6.516113311535651, 'notch': 6.921578419643816, 'note': 6.2284312390838705, 'noteworthy': 6.516113311535651, 'nothing': 5.1298189504157605, 'novella': 6.921578419643816, 'number': 6.921578419643816, 'numbers': 6.921578419643816, 'nun': 6.921578419643816, 'nuns': 6.921578419643816, 'nurse': 6.921578419643816, 'nut': 6.516113311535651, 'nuts': 6.516113311535651, 'obliged': 6.921578419643816, 'obsessed': 6.921578419643816, 'obvious': 6.921578419643816, 'obviously': 6.2284312390838705, 'occasionally': 6.005287687769661, 'occupied': 6.516113311535651, 'occur': 6.921578419643816, 'occurs': 6.921578419643816, 'odd': 6.516113311535651, 'offend': 6.921578419643816, 'offensive': 6.516113311535651, 'offer': 6.921578419643816, 'offers': 6.516113311535651, 'often': 6.005287687769661, 'oh': 5.822966130975706, 'okay': 6.921578419643816, 'old': 5.668815451148448, 'olde': 6.921578419643816, 'older': 6.921578419643816, 'ole': 6.921578419643816, 'olivia': 6.921578419643816, 'omit': 6.921578419643816, 'one': 3.5716743323692106, 'ones': 6.921578419643816, 'open': 6.921578419643816, 'opened': 6.516113311535651, 'opening': 6.516113311535651, 'operas': 6.921578419643816, 'opinion': 6.921578419643816, 'ordeal': 6.921578419643816, 'oriented': 6.921578419643816, 'original': 6.005287687769661, 'originality': 6.921578419643816, 'origins': 6.921578419643816, 'ortolani': 6.921578419643816, 'oscar': 6.2284312390838705, 'others': 6.921578419643816, 'otherwise': 6.921578419643816, 'ought': 6.921578419643816, 'outlandish': 6.921578419643816, 'outlets': 6.921578419643816, 'outside': 6.921578419643816, 'outward': 6.921578419643816, 'overacting': 6.516113311535651, 'overall': 5.822966130975706, 'overcome': 6.921578419643816, 'overdue': 6.921578419643816, 'overly': 6.516113311535651, 'overs': 6.921578419643816, 'overt': 6.921578419643816, 'overwrought': 6.921578419643816, 'owed': 6.921578419643816, 'owls': 6.921578419643816, 'owned': 6.921578419643816, 'owns': 6.921578419643816, 'oy': 6.921578419643816, 'pace': 6.921578419643816, 'paced': 6.2284312390838705, 'pacing': 6.516113311535651, 'pack': 6.921578419643816, 'paid': 6.516113311535651, 'painful': 6.516113311535651, 'painfully': 6.921578419643816, 'paint': 6.921578419643816, 'painted': 6.921578419643816, 'pair': 6.921578419643816, 'palance': 6.921578419643816, 'pandering': 6.921578419643816, 'pans': 6.921578419643816, 'paolo': 6.921578419643816, 'pap': 6.921578419643816, 'paper': 6.921578419643816, 'par': 6.516113311535651, 'parents': 6.516113311535651, 'park': 6.921578419643816, 'parker': 6.921578419643816, 'part': 5.1298189504157605, 'partaking': 6.921578419643816, 'particular': 6.2284312390838705, 'particularly': 5.822966130975706, 'parts': 6.005287687769661, 'passed': 6.921578419643816, 'passion': 6.921578419643816, 'past': 6.516113311535651, 'patent': 6.921578419643816, 'pathetic': 6.005287687769661, 'patriotism': 6.921578419643816, 'paul': 6.2284312390838705, 'pay': 6.921578419643816, 'peaking': 6.921578419643816, 'pearls': 6.921578419643816, 'peculiarity': 6.921578419643816, 'pedestal': 6.921578419643816, 'pencil': 6.921578419643816, 'people': 4.975668270588502, 'perabo': 6.921578419643816, 'perfect': 5.668815451148448, 'perfected': 6.921578419643816, 'perfectly': 6.2284312390838705, 'performance': 5.049776242742224, 'performances': 6.005287687769661, 'perhaps': 6.005287687769661, 'period': 6.005287687769661, 'perplexing': 6.921578419643816, 'person': 6.921578419643816, 'personalities': 6.921578419643816, 'personally': 6.921578419643816, 'peter': 6.516113311535651, 'pg': 6.921578419643816, 'phantasm': 6.921578419643816, 'phenomenal': 6.921578419643816, 'philippa': 6.921578419643816, 'phony': 6.921578419643816, 'photograph': 6.921578419643816, 'photography': 6.2284312390838705, 'phrase': 6.921578419643816, 'physical': 6.921578419643816, 'pi': 6.921578419643816, 'picked': 6.921578419643816, 'picture': 6.2284312390838705, 'pictures': 6.516113311535651, 'piece': 5.216830327405391, 'pieces': 6.516113311535651, 'pile': 6.921578419643816, 'pillow': 6.921578419643816, 'pitch': 6.921578419643816, 'pitiful': 6.516113311535651, 'pixar': 6.921578419643816, 'place': 6.005287687769661, 'places': 6.2284312390838705, 'plain': 6.516113311535651, 'plane': 6.921578419643816, 'planned': 6.921578419643816, 'plants': 6.921578419643816, 'play': 5.312140507209715, 'played': 5.216830327405391, 'player': 6.516113311535651, 'players': 6.921578419643816, 'playing': 5.535284058523925, 'plays': 6.2284312390838705, 'pleasant': 6.921578419643816, 'pleased': 6.516113311535651, 'pleaser': 6.516113311535651, 'pleasing': 6.921578419643816, 'pledge': 6.921578419643816, 'plenty': 6.516113311535651, 'plmer': 6.921578419643816, 'plot': 4.356629062182279, 'plug': 6.921578419643816, 'plus': 6.2284312390838705, 'pm': 6.921578419643816, 'poet': 6.921578419643816, 'poetry': 6.516113311535651, 'poignant': 6.921578419643816, 'point': 6.005287687769661, 'pointillistic': 6.921578419643816, 'pointless': 6.2284312390838705, 'poised': 6.921578419643816, 'poler': 6.921578419643816, 'political': 6.921578419643816, 'politically': 6.921578419643816, 'politics': 6.921578419643816, 'ponyo': 6.921578419643816, 'poor': 5.668815451148448, 'poorly': 6.516113311535651, 'popcorn': 6.921578419643816, 'popular': 6.516113311535651, 'portrayal': 5.668815451148448, 'portrayals': 6.921578419643816, 'portrayed': 6.921578419643816, 'portraying': 6.516113311535651, 'positive': 6.921578419643816, 'possible': 6.2284312390838705, 'possibly': 6.2284312390838705, 'post': 6.921578419643816, 'potted': 6.921578419643816, 'power': 6.921578419643816, 'powerful': 6.921578419643816, 'powerhouse': 6.921578419643816, 'practical': 6.921578419643816, 'practically': 6.921578419643816, 'pray': 6.921578419643816, 'precisely': 6.921578419643816, 'predict': 6.921578419643816, 'predictable': 5.216830327405391, 'predictably': 6.516113311535651, 'prejudice': 6.921578419643816, 'prelude': 6.921578419643816, 'premise': 6.005287687769661, 'prepared': 6.921578419643816, 'presence': 6.516113311535651, 'presents': 6.2284312390838705, 'preservation': 6.921578419643816, 'president': 6.921578419643816, 'pretentious': 6.2284312390838705, 'pretext': 6.921578419643816, 'pretty': 4.975668270588502, 'previous': 6.516113311535651, 'primal': 6.921578419643816, 'primary': 6.921578419643816, 'probably': 5.535284058523925, 'problem': 6.516113311535651, 'problems': 6.005287687769661, 'proceedings': 6.516113311535651, 'process': 6.516113311535651, 'produce': 6.921578419643816, 'produced': 6.2284312390838705, 'producer': 6.921578419643816, 'producers': 6.921578419643816, 'product': 6.921578419643816, 'production': 5.822966130975706, 'professionals': 6.921578419643816, 'professor': 6.921578419643816, 'progresses': 6.921578419643816, 'promote': 6.921578419643816, 'prompted': 6.921578419643816, 'prone': 6.921578419643816, 'propaganda': 6.921578419643816, 'properly': 6.921578419643816, 'proud': 6.516113311535651, 'proudly': 6.921578419643816, 'provided': 6.921578419643816, 'provokes': 6.921578419643816, 'provoking': 6.2284312390838705, 'ps': 6.921578419643816, 'pseudo': 6.921578419643816, 'psychological': 6.516113311535651, 'psychotic': 6.921578419643816, 'public': 6.921578419643816, 'pull': 6.516113311535651, 'pulling': 6.921578419643816, 'pulls': 6.921578419643816, 'punched': 6.921578419643816, 'punches': 6.921578419643816, 'punish': 6.921578419643816, 'punishment': 6.921578419643816, 'puppet': 6.921578419643816, 'puppets': 6.516113311535651, 'pure': 6.2284312390838705, 'purity': 6.921578419643816, 'put': 5.822966130975706, 'putting': 6.516113311535651, 'puzzle': 6.921578419643816, 'pyromaniac': 6.921578419643816, 'qu': 6.921578419643816, 'quaid': 6.921578419643816, 'qualities': 6.921578419643816, 'quality': 6.2284312390838705, 'question': 6.516113311535651, 'questioning': 6.921578419643816, 'quick': 6.921578419643816, 'quicker': 6.921578419643816, 'quiet': 6.921578419643816, 'quinn': 6.516113311535651, 'quite': 5.312140507209715, 'race': 6.2284312390838705, 'racial': 6.516113311535651, 'racism': 6.516113311535651, 'radiant': 6.921578419643816, 'raging': 6.921578419643816, 'random': 6.921578419643816, 'range': 6.921578419643816, 'ranks': 6.2284312390838705, 'rare': 6.921578419643816, 'rate': 6.2284312390838705, 'rated': 6.516113311535651, 'rather': 5.668815451148448, 'rating': 6.005287687769661, 'ratings': 6.516113311535651, 'raver': 6.921578419643816, 'raw': 6.921578419643816, 'ray': 6.516113311535651, 'reactions': 6.516113311535651, 'readers': 6.921578419643816, 'reading': 6.516113311535651, 'ready': 6.2284312390838705, 'real': 4.570203162480338, 'realised': 6.921578419643816, 'realistic': 6.516113311535651, 'reality': 6.516113311535651, 'realize': 6.921578419643816, 'realized': 6.921578419643816, 'really': 4.0883650755876, 'reason': 6.2284312390838705, 'reasonable': 6.921578419643816, 'reasons': 6.921578419643816, 'receive': 6.921578419643816, 'received': 6.516113311535651, 'recent': 6.2284312390838705, 'recently': 6.516113311535651, 'recommend': 5.049776242742224, 'recommended': 5.668815451148448, 'reconciliation': 6.921578419643816, 'recover': 6.921578419643816, 'recurring': 6.921578419643816, 'redeemed': 6.921578419643816, 'redeeming': 6.516113311535651, 'reenactments': 6.921578419643816, 'references': 6.516113311535651, 'reflected': 6.921578419643816, 'refreshing': 6.921578419643816, 'regardless': 6.921578419643816, 'regret': 6.516113311535651, 'regrettable': 6.921578419643816, 'regrettably': 6.921578419643816, 'rejection': 6.921578419643816, 'relate': 6.921578419643816, 'related': 6.921578419643816, 'relation': 6.921578419643816, 'relations': 6.516113311535651, 'relationship': 6.921578419643816, 'relationships': 6.516113311535651, 'relatively': 6.921578419643816, 'relaxing': 6.921578419643816, 'release': 6.921578419643816, 'released': 6.2284312390838705, 'relief': 6.921578419643816, 'relying': 6.921578419643816, 'remaining': 6.516113311535651, 'remake': 6.2284312390838705, 'remarkable': 6.921578419643816, 'remember': 6.2284312390838705, 'reminded': 6.921578419643816, 'remotely': 6.516113311535651, 'removing': 6.921578419643816, 'rendering': 6.921578419643816, 'rendition': 6.921578419643816, 'renowned': 6.921578419643816, 'rent': 5.668815451148448, 'repair': 6.921578419643816, 'repeated': 6.921578419643816, 'repeating': 6.921578419643816, 'repeats': 6.921578419643816, 'repertory': 6.921578419643816, 'reporter': 6.921578419643816, 'represents': 6.921578419643816, 'require': 6.921578419643816, 'rescue': 6.921578419643816, 'researched': 6.921578419643816, 'resounding': 6.921578419643816, 'respecting': 6.921578419643816, 'rest': 6.005287687769661, 'restrained': 6.921578419643816, 'result': 6.516113311535651, 'results': 6.921578419643816, 'resume': 6.921578419643816, 'retarded': 6.921578419643816, 'retreat': 6.921578419643816, 'return': 6.516113311535651, 'revealing': 6.516113311535651, 'revenge': 6.921578419643816, 'revere': 6.921578419643816, 'reverse': 6.921578419643816, 'review': 6.516113311535651, 'reviewer': 6.516113311535651, 'reviewers': 6.921578419643816, 'reviews': 6.921578419643816, 'rice': 6.921578419643816, 'rickman': 6.921578419643816, 'ridiculous': 5.822966130975706, 'ridiculousness': 6.921578419643816, 'right': 5.049776242742224, 'riot': 6.921578419643816, 'rips': 6.921578419643816, 'rise': 6.921578419643816, 'rita': 6.921578419643816, 'rivalry': 6.921578419643816, 'riveted': 6.921578419643816, 'riz': 6.921578419643816, 'road': 6.921578419643816, 'robert': 6.516113311535651, 'robotic': 6.921578419643816, 'rochon': 6.921578419643816, 'rocked': 6.921578419643816, 'rocks': 6.921578419643816, 'roeg': 6.921578419643816, 'role': 6.005287687769661, 'roles': 6.005287687769661, 'roller': 6.921578419643816, 'rolls': 6.921578419643816, 'romantic': 6.921578419643816, 'room': 6.516113311535651, 'roosevelt': 6.921578419643816, 'roth': 6.921578419643816, 'rough': 6.921578419643816, 'round': 6.921578419643816, 'routine': 6.921578419643816, 'row': 6.921578419643816, 'rpg': 6.921578419643816, 'rpger': 6.921578419643816, 'rubbish': 6.921578419643816, 'rubin': 6.921578419643816, 'rumbles': 6.921578419643816, 'run': 6.516113311535651, 'running': 6.516113311535651, 'ruthless': 6.516113311535651, 'ryan': 6.921578419643816, 'ryans': 6.921578419643816, 'sabotages': 6.921578419643816, 'sack': 6.921578419643816, 'sacrifice': 6.921578419643816, 'sad': 6.921578419643816, 'said': 6.005287687769661, 'sake': 6.516113311535651, 'salesman': 6.921578419643816, 'sam': 6.921578419643816, 'sample': 6.921578419643816, 'sand': 6.516113311535651, 'sandra': 6.516113311535651, 'sappiest': 6.921578419643816, 'sarcophage': 6.921578419643816, 'sat': 6.921578419643816, 'satanic': 6.921578419643816, 'savalas': 6.921578419643816, 'savant': 6.921578419643816, 'save': 6.921578419643816, 'savor': 6.921578419643816, 'saw': 5.049776242742224, 'say': 5.1298189504157605, 'says': 6.921578419643816, 'scale': 6.2284312390838705, 'scamp': 6.921578419643816, 'scare': 6.921578419643816, 'scared': 6.2284312390838705, 'scares': 6.921578419643816, 'scary': 6.516113311535651, 'scene': 5.1298189504157605, 'scenery': 6.2284312390838705, 'scenes': 4.781512256147545, 'schilling': 6.921578419643816, 'schizophrenic': 6.921578419643816, 'school': 6.921578419643816, 'schoolers': 6.921578419643816, 'schrader': 6.516113311535651, 'schultz': 6.921578419643816, 'sci': 6.516113311535651, 'science': 6.921578419643816, 'scientist': 6.921578419643816, 'score': 6.2284312390838705, 'scot': 6.921578419643816, 'scream': 6.921578419643816, 'screamy': 6.921578419643816, 'screen': 5.312140507209715, 'screened': 6.921578419643816, 'screenplay': 6.921578419643816, 'screenwriter': 6.2284312390838705, 'scrimm': 6.921578419643816, 'script': 4.67028662103732, 'scripted': 6.921578419643816, 'scripting': 6.921578419643816, 'scripts': 6.921578419643816, 'sculpture': 6.921578419643816, 'sea': 6.2284312390838705, 'seamless': 6.921578419643816, 'seamlessly': 6.921578419643816, 'sean': 6.921578419643816, 'season': 6.516113311535651, 'seat': 6.921578419643816, 'second': 5.668815451148448, 'secondary': 6.921578419643816, 'secondly': 6.921578419643816, 'see': 4.031206661747651, 'seeing': 5.535284058523925, 'seem': 6.005287687769661, 'seemed': 6.2284312390838705, 'seems': 6.2284312390838705, 'seen': 4.479231384274611, 'selections': 6.921578419643816, 'self': 5.668815451148448, 'sells': 6.921578419643816, 'semi': 6.921578419643816, 'senior': 6.921578419643816, 'sense': 6.516113311535651, 'senses': 6.516113311535651, 'sensibility': 6.921578419643816, 'sensitivities': 6.921578419643816, 'sentiment': 6.516113311535651, 'seperate': 6.921578419643816, 'sequel': 6.516113311535651, 'sequels': 6.921578419643816, 'sequence': 6.516113311535651, 'sequences': 6.921578419643816, 'series': 5.417501022867541, 'serious': 6.005287687769661, 'seriously': 6.2284312390838705, 'served': 6.921578419643816, 'set': 6.2284312390838705, 'sets': 6.005287687769661, 'setting': 6.516113311535651, 'settings': 6.921578419643816, 'seuss': 6.921578419643816, 'several': 6.516113311535651, 'sex': 6.921578419643816, 'shakespear': 6.921578419643816, 'shakespears': 6.921578419643816, 'shallow': 6.921578419643816, 'shame': 6.516113311535651, 'shameful': 6.921578419643816, 'share': 6.2284312390838705, 'sharing': 6.921578419643816, 'sharply': 6.921578419643816, 'shatner': 6.921578419643816, 'shattered': 6.921578419643816, 'shed': 6.516113311535651, 'sheer': 6.921578419643816, 'shelf': 6.921578419643816, 'shell': 6.921578419643816, 'shelves': 6.921578419643816, 'shenanigans': 6.921578419643816, 'shepard': 6.921578419643816, 'shined': 6.921578419643816, 'shirley': 6.921578419643816, 'shocking': 6.921578419643816, 'shooting': 6.921578419643816, 'short': 5.1298189504157605, 'shortlist': 6.921578419643816, 'shot': 5.822966130975706, 'shots': 6.2284312390838705, 'show': 4.781512256147545, 'showcasing': 6.921578419643816, 'showed': 6.2284312390838705, 'shows': 6.2284312390838705, 'shut': 6.921578419643816, 'sibling': 6.921578419643816, 'sick': 6.516113311535651, 'side': 6.921578419643816, 'sidelined': 6.921578419643816, 'sign': 6.921578419643816, 'significant': 6.516113311535651, 'silent': 6.2284312390838705, 'silly': 6.921578419643816, 'simmering': 6.921578419643816, 'simplifying': 6.921578419643816, 'simply': 5.417501022867541, 'since': 5.822966130975706, 'sincere': 6.921578419643816, 'sing': 6.921578419643816, 'singing': 6.2284312390838705, 'single': 5.822966130975706, 'sinister': 6.921578419643816, 'sink': 6.921578419643816, 'sinking': 6.921578419643816, 'sister': 6.921578419643816, 'sisters': 6.516113311535651, 'sit': 6.921578419643816, 'sitcoms': 6.921578419643816, 'site': 6.921578419643816, 'sites': 6.921578419643816, 'sits': 6.921578419643816, 'situation': 6.516113311535651, 'situations': 6.921578419643816, 'skilled': 6.921578419643816, 'skip': 6.921578419643816, 'slackers': 6.921578419643816, 'slavic': 6.921578419643816, 'sleep': 6.516113311535651, 'slideshow': 6.921578419643816, 'slightest': 6.516113311535651, 'slightly': 6.921578419643816, 'slimy': 6.921578419643816, 'sloppy': 6.921578419643816, 'slow': 5.668815451148448, 'slurs': 6.921578419643816, 'smack': 6.921578419643816, 'small': 6.005287687769661, 'smart': 6.2284312390838705, 'smells': 6.921578419643816, 'smile': 6.516113311535651, 'smiling': 6.921578419643816, 'smith': 6.921578419643816, 'smoothly': 6.921578419643816, 'snider': 6.921578419643816, 'snow': 6.921578419643816, 'soap': 6.921578419643816, 'sobering': 6.921578419643816, 'social': 6.921578419643816, 'soldiers': 6.921578419643816, 'sole': 6.921578419643816, 'solid': 5.822966130975706, 'solidifying': 6.921578419643816, 'solving': 6.921578419643816, 'someone': 6.2284312390838705, 'something': 6.005287687769661, 'sometimes': 6.005287687769661, 'somewhat': 6.516113311535651, 'son': 6.516113311535651, 'song': 6.2284312390838705, 'songs': 6.005287687769661, 'soon': 6.921578419643816, 'sophisticated': 6.921578419643816, 'sorrentino': 6.921578419643816, 'sorry': 6.921578419643816, 'sort': 6.2284312390838705, 'soul': 6.516113311535651, 'sound': 5.668815451148448, 'sounded': 6.921578419643816, 'sounds': 6.921578419643816, 'soundtrack': 6.005287687769661, 'sour': 6.921578419643816, 'south': 6.2284312390838705, 'southern': 6.921578419643816, 'space': 6.2284312390838705, 'spacek': 6.921578419643816, 'spacey': 6.921578419643816, 'span': 6.921578419643816, 'speak': 6.2284312390838705, 'speaking': 6.921578419643816, 'special': 5.417501022867541, 'speed': 6.516113311535651, 'spend': 6.921578419643816, 'spent': 6.2284312390838705, 'spew': 6.921578419643816, 'sphere': 6.921578419643816, 'spiffy': 6.921578419643816, 'splendid': 6.921578419643816, 'spock': 6.921578419643816, 'spoil': 6.921578419643816, 'spoiled': 6.921578419643816, 'spoiler': 6.516113311535651, 'spoilers': 6.2284312390838705, 'spot': 6.921578419643816, 'spy': 6.921578419643816, 'squibs': 6.921578419643816, 'stable': 6.921578419643816, 'stage': 6.516113311535651, 'stagy': 6.921578419643816, 'stand': 6.516113311535651, 'standout': 6.921578419643816, 'stanwyck': 6.2284312390838705, 'star': 6.005287687769661, 'starlet': 6.921578419643816, 'starring': 6.921578419643816, 'stars': 6.2284312390838705, 'start': 6.516113311535651, 'started': 5.822966130975706, 'starts': 6.921578419643816, 'state': 6.921578419643816, 'stay': 6.516113311535651, 'stayed': 6.921578419643816, 'stealing': 6.921578419643816, 'steamboat': 6.921578419643816, 'steele': 6.921578419643816, 'step': 6.516113311535651, 'stephen': 6.921578419643816, 'stereotypes': 6.516113311535651, 'stereotypically': 6.921578419643816, 'steve': 6.516113311535651, 'stewart': 6.921578419643816, 'stick': 6.921578419643816, 'still': 4.906675399101551, 'stinker': 6.921578419643816, 'stinks': 6.921578419643816, 'stocking': 6.921578419643816, 'stockings': 6.921578419643816, 'stoic': 6.921578419643816, 'store': 6.516113311535651, 'stories': 6.005287687769661, 'storm': 6.921578419643816, 'story': 4.570203162480338, 'storyline': 6.005287687769661, 'storytelling': 6.921578419643816, 'stowe': 6.921578419643816, 'strange': 6.921578419643816, 'stranger': 6.921578419643816, 'stratus': 6.921578419643816, 'straw': 6.921578419643816, 'street': 6.921578419643816, 'strident': 6.921578419643816, 'string': 6.921578419643816, 'strives': 6.921578419643816, 'strokes': 6.921578419643816, 'strong': 5.822966130975706, 'struck': 6.921578419643816, 'structure': 6.921578419643816, 'struggle': 6.921578419643816, 'stuart': 6.921578419643816, 'student': 6.921578419643816, 'students': 6.921578419643816, 'studio': 6.516113311535651, 'study': 6.921578419643816, 'stuff': 6.921578419643816, 'stunning': 6.516113311535651, 'stupid': 4.975668270588502, 'stupidity': 6.921578419643816, 'style': 5.668815451148448, 'stylized': 6.921578419643816, 'sub': 6.2284312390838705, 'subject': 6.921578419643816, 'subjects': 6.921578419643816, 'sublime': 6.516113311535651, 'sublimely': 6.921578419643816, 'subplots': 6.921578419643816, 'subtitles': 6.921578419643816, 'subtle': 5.668815451148448, 'subversive': 6.921578419643816, 'subverting': 6.921578419643816, 'succeeded': 6.921578419643816, 'succeeds': 6.921578419643816, 'success': 6.921578419643816, 'suck': 6.921578419643816, 'sucked': 6.2284312390838705, 'sucks': 6.921578419643816, 'suffered': 6.921578419643816, 'suffering': 6.516113311535651, 'suggest': 6.921578419643816, 'suggests': 6.921578419643816, 'suited': 6.921578419643816, 'sum': 6.516113311535651, 'summary': 6.516113311535651, 'sundays': 6.921578419643816, 'super': 6.2284312390838705, 'superb': 5.822966130975706, 'superbad': 6.921578419643816, 'superbly': 6.516113311535651, 'superficial': 6.921578419643816, 'superlative': 6.921578419643816, 'supernatural': 6.921578419643816, 'supporting': 6.921578419643816, 'supposed': 6.516113311535651, 'supposedly': 6.516113311535651, 'sure': 6.2284312390838705, 'surely': 6.921578419643816, 'surf': 6.921578419643816, 'surface': 6.921578419643816, 'surprised': 6.921578419643816, 'surprises': 6.921578419643816, 'surprising': 6.516113311535651, 'surprisingly': 6.2284312390838705, 'surrounding': 6.516113311535651, 'surroundings': 6.921578419643816, 'survivors': 6.921578419643816, 'suspense': 5.417501022867541, 'suspension': 6.921578419643816, 'sven': 6.921578419643816, 'swamp': 6.921578419643816, 'sweep': 6.921578419643816, 'sweet': 6.921578419643816, 'switched': 6.921578419643816, 'swords': 6.921578419643816, 'sydney': 6.921578419643816, 'sympathetic': 6.921578419643816, 'syrupy': 6.921578419643816, 'system': 6.921578419643816, 'tacky': 6.921578419643816, 'taelons': 6.921578419643816, 'take': 5.668815451148448, 'taken': 6.921578419643816, 'takes': 6.516113311535651, 'taking': 6.516113311535651, 'tale': 6.005287687769661, 'talent': 6.516113311535651, 'talented': 6.2284312390838705, 'talents': 6.921578419643816, 'talk': 5.822966130975706, 'tanks': 6.921578419643816, 'taped': 6.516113311535651, 'tardis': 6.921578419643816, 'task': 6.921578419643816, 'taste': 6.921578419643816, 'taxidermists': 6.921578419643816, 'taylor': 6.516113311535651, 'teacher': 6.921578419643816, 'teaches': 6.921578419643816, 'team': 6.921578419643816, 'tear': 6.921578419643816, 'tears': 6.921578419643816, 'technically': 6.921578419643816, 'teddy': 6.921578419643816, 'tedium': 6.921578419643816, 'teen': 6.921578419643816, 'teenagers': 6.921578419643816, 'teeth': 6.921578419643816, 'telephone': 6.921578419643816, 'television': 6.921578419643816, 'tell': 6.005287687769661, 'telly': 6.921578419643816, 'temperaments': 6.921578419643816, 'ten': 6.516113311535651, 'tender': 6.921578419643816, 'tension': 6.516113311535651, 'tensions': 6.921578419643816, 'terminology': 6.921578419643816, 'terms': 6.516113311535651, 'terrible': 5.216830327405391, 'terribly': 6.516113311535651, 'terrific': 6.005287687769661, 'terror': 6.921578419643816, 'th': 6.921578419643816, 'thanks': 6.921578419643816, 'theater': 6.005287687769661, 'theatre': 6.921578419643816, 'theatres': 6.921578419643816, 'theatrical': 6.921578419643816, 'theme': 6.516113311535651, 'themes': 6.516113311535651, 'therapy': 6.921578419643816, 'thick': 6.921578419643816, 'thing': 5.1298189504157605, 'things': 5.049776242742224, 'think': 4.67028662103732, 'thinking': 6.2284312390838705, 'thomerson': 6.921578419643816, 'thoroughly': 6.2284312390838705, 'thorsen': 6.921578419643816, 'though': 5.1298189504157605, 'thought': 5.049776242742224, 'thoughts': 6.516113311535651, 'thousand': 6.921578419643816, 'thread': 6.921578419643816, 'three': 6.921578419643816, 'threshold': 6.921578419643816, 'thrilled': 6.516113311535651, 'thriller': 6.2284312390838705, 'thrillers': 6.921578419643816, 'throughout': 5.668815451148448, 'throwback': 6.921578419643816, 'thrown': 6.2284312390838705, 'thug': 6.921578419643816, 'thumper': 6.921578419643816, 'thunderbirds': 6.921578419643816, 'thus': 6.921578419643816, 'ticker': 6.921578419643816, 'tickets': 6.921578419643816, 'tightly': 6.921578419643816, 'time': 3.9511639540741146, 'timeless': 6.921578419643816, 'timely': 6.921578419643816, 'timers': 6.921578419643816, 'times': 5.822966130975706, 'timing': 6.921578419643816, 'tiny': 6.921578419643816, 'tired': 6.921578419643816, 'title': 6.921578419643816, 'titta': 6.921578419643816, 'today': 6.005287687769661, 'together': 5.535284058523925, 'told': 6.2284312390838705, 'tolerable': 6.921578419643816, 'tolerate': 6.921578419643816, 'tom': 5.822966130975706, 'tomorrow': 6.921578419643816, 'tone': 6.921578419643816, 'tongue': 6.921578419643816, 'tonight': 6.921578419643816, 'tons': 6.921578419643816, 'tony': 6.921578419643816, 'took': 6.516113311535651, 'toons': 6.921578419643816, 'top': 5.535284058523925, 'tops': 6.921578419643816, 'torture': 6.005287687769661, 'tortured': 6.921578419643816, 'total': 6.921578419643816, 'totally': 5.049776242742224, 'touch': 6.921578419643816, 'touches': 6.921578419643816, 'touching': 6.2284312390838705, 'tough': 6.921578419643816, 'towards': 6.516113311535651, 'towers': 6.921578419643816, 'townsend': 6.921578419643816, 'track': 6.921578419643816, 'tract': 6.921578419643816, 'traditional': 6.921578419643816, 'traffic': 6.921578419643816, 'trailer': 6.921578419643816, 'train': 6.921578419643816, 'tranquillity': 6.921578419643816, 'transcend': 6.921578419643816, 'transfers': 6.921578419643816, 'translate': 6.921578419643816, 'translating': 6.921578419643816, 'trap': 6.921578419643816, 'trash': 6.005287687769661, 'trashy': 6.921578419643816, 'treachery': 6.921578419643816, 'treasure': 6.921578419643816, 'treat': 6.921578419643816, 'treatments': 6.921578419643816, 'trek': 6.921578419643816, 'tremendous': 6.921578419643816, 'tremendously': 6.516113311535651, 'tries': 6.921578419643816, 'trilogy': 6.921578419643816, 'trinity': 6.921578419643816, 'trip': 6.921578419643816, 'triumphed': 6.921578419643816, 'trond': 6.921578419643816, 'trooper': 6.921578419643816, 'trouble': 6.921578419643816, 'truck': 6.921578419643816, 'true': 6.005287687769661, 'truly': 5.417501022867541, 'trumbull': 6.921578419643816, 'trumpeter': 6.921578419643816, 'truth': 6.921578419643816, 'try': 6.2284312390838705, 'trying': 6.005287687769661, 'trysts': 6.921578419643816, 'tsunami': 6.921578419643816, 'tuneful': 6.921578419643816, 'turkey': 6.921578419643816, 'turn': 6.2284312390838705, 'turned': 6.516113311535651, 'turns': 6.516113311535651, 'tv': 5.535284058523925, 'twice': 6.516113311535651, 'twirling': 6.921578419643816, 'twist': 6.516113311535651, 'twists': 6.921578419643816, 'two': 5.312140507209715, 'tying': 6.921578419643816, 'type': 6.516113311535651, 'typical': 6.921578419643816, 'ue': 6.921578419643816, 'ugliest': 6.921578419643816, 'ugly': 6.921578419643816, 'uhura': 6.921578419643816, 'ultra': 6.921578419643816, 'um': 6.921578419643816, 'unaccompanied': 6.921578419643816, 'unbearable': 6.921578419643816, 'unbearably': 6.921578419643816, 'unbelievable': 6.005287687769661, 'uncalled': 6.921578419643816, 'unconditional': 6.921578419643816, 'unconvincing': 6.2284312390838705, 'underacting': 6.921578419643816, 'underappreciated': 6.921578419643816, 'underbite': 6.921578419643816, 'underlines': 6.921578419643816, 'underlying': 6.516113311535651, 'underneath': 6.516113311535651, 'underrated': 6.921578419643816, 'understand': 5.312140507209715, 'understanding': 6.921578419643816, 'understated': 6.516113311535651, 'understatement': 6.921578419643816, 'understood': 6.921578419643816, 'undertone': 6.921578419643816, 'underwater': 6.921578419643816, 'undoubtedly': 6.516113311535651, 'uneasy': 6.921578419643816, 'unemployed': 6.921578419643816, 'unethical': 6.921578419643816, 'unfaithful': 6.921578419643816, 'unfolds': 6.516113311535651, 'unforgettable': 6.921578419643816, 'unfortunate': 6.921578419643816, 'unfortunately': 6.005287687769661, 'unfunny': 6.516113311535651, 'unintentionally': 6.921578419643816, 'uninteresting': 6.516113311535651, 'union': 6.921578419643816, 'unique': 6.921578419643816, 'uniqueness': 6.921578419643816, 'universal': 6.921578419643816, 'universe': 6.921578419643816, 'unless': 6.921578419643816, 'unlockable': 6.921578419643816, 'unmatched': 6.921578419643816, 'unmitigated': 6.921578419643816, 'unmoving': 6.921578419643816, 'unnecessary': 6.921578419643816, 'unneeded': 6.921578419643816, 'unoriginal': 6.921578419643816, 'unpleasant': 6.921578419643816, 'unpredictability': 6.921578419643816, 'unpredictable': 6.516113311535651, 'unrealistic': 6.921578419643816, 'unrecognizable': 6.516113311535651, 'unrecommended': 6.921578419643816, 'unremarkable': 6.921578419643816, 'unrestrained': 6.921578419643816, 'unsatisfactory': 6.921578419643816, 'unwatchable': 6.921578419643816, 'upa': 6.921578419643816, 'uplifting': 6.516113311535651, 'upper': 6.921578419643816, 'ups': 6.005287687769661, 'uptight': 6.921578419643816, 'ursula': 6.921578419643816, 'us': 6.005287687769661, 'use': 5.668815451148448, 'used': 5.535284058523925, 'user': 6.921578419643816, 'uses': 6.516113311535651, 'using': 6.921578419643816, 'ussr': 6.921578419643816, 'usual': 6.005287687769661, 'utter': 6.921578419643816, 'utterly': 6.005287687769661, 'valentine': 6.921578419643816, 'value': 6.921578419643816, 'values': 6.2284312390838705, 'vampire': 6.921578419643816, 'vandiver': 6.921578419643816, 'variation': 6.921578419643816, 'vehicles': 6.921578419643816, 'ventura': 6.921578419643816, 'verbal': 6.921578419643816, 'verbatim': 6.921578419643816, 'versatile': 6.921578419643816, 'version': 6.921578419643816, 'versus': 6.921578419643816, 'vessel': 6.921578419643816, 'veteran': 6.921578419643816, 'vey': 6.921578419643816, 'vibe': 6.921578419643816, 'victor': 6.921578419643816, 'video': 6.516113311535651, 'view': 6.921578419643816, 'viewer': 6.921578419643816, 'viewing': 6.516113311535651, 'views': 6.921578419643816, 'villain': 6.921578419643816, 'villains': 6.921578419643816, 'violence': 6.921578419643816, 'violin': 6.921578419643816, 'virtue': 6.921578419643816, 'virus': 6.921578419643816, 'vision': 6.921578419643816, 'visual': 6.005287687769661, 'visually': 6.516113311535651, 'vitally': 6.921578419643816, 'vivian': 6.921578419643816, 'vivid': 6.921578419643816, 'vocal': 6.921578419643816, 'voice': 6.516113311535651, 'volatile': 6.921578419643816, 'volcano': 6.516113311535651, 'vomit': 6.516113311535651, 'vomited': 6.921578419643816, 'voyage': 6.921578419643816, 'vulcan': 6.921578419643816, 'waiting': 6.921578419643816, 'waitress': 6.921578419643816, 'walk': 6.921578419643816, 'walked': 6.516113311535651, 'wall': 6.516113311535651, 'want': 5.668815451148448, 'wanted': 6.516113311535651, 'wanting': 6.921578419643816, 'wants': 6.921578419643816, 'war': 6.2284312390838705, 'warmth': 6.516113311535651, 'warn': 6.921578419643816, 'warning': 6.921578419643816, 'wartime': 6.921578419643816, 'warts': 6.921578419643816, 'washed': 6.921578419643816, 'washing': 6.921578419643816, 'waste': 4.975668270588502, 'wasted': 5.822966130975706, 'waster': 6.921578419643816, 'wasting': 6.921578419643816, 'watch': 4.724353842307596, 'watchable': 6.516113311535651, 'watched': 5.417501022867541, 'watching': 4.67028662103732, 'water': 6.921578419643816, 'watkins': 6.516113311535651, 'watson': 6.516113311535651, 'wave': 6.921578419643816, 'way': 4.523683146845444, 'waylaid': 6.921578419643816, 'wayne': 6.921578419643816, 'ways': 6.516113311535651, 'wb': 6.921578419643816, 'weak': 6.516113311535651, 'weaker': 6.921578419643816, 'weariness': 6.921578419643816, 'weaving': 6.921578419643816, 'website': 6.921578419643816, 'wedding': 6.921578419643816, 'weight': 6.921578419643816, 'weird': 6.516113311535651, 'well': 4.118218038737281, 'welsh': 6.921578419643816, 'went': 6.921578419643816, 'whatever': 5.668815451148448, 'whatsoever': 6.2284312390838705, 'whenever': 6.921578419643816, 'whether': 6.2284312390838705, 'whine': 6.921578419643816, 'whiny': 6.516113311535651, 'white': 5.417501022867541, 'whites': 6.921578419643816, 'whoever': 6.921578419643816, 'whole': 5.668815451148448, 'wholesome': 6.516113311535651, 'wide': 6.921578419643816, 'widmark': 6.921578419643816, 'wife': 6.921578419643816, 'wih': 6.921578419643816, 'wild': 6.921578419643816, 'wilkinson': 6.2284312390838705, 'william': 6.921578419643816, 'willie': 6.921578419643816, 'wily': 6.921578419643816, 'win': 6.921578419643816, 'wind': 6.2284312390838705, 'wise': 6.921578419643816, 'wish': 6.2284312390838705, 'within': 6.921578419643816, 'without': 6.005287687769661, 'witticisms': 6.921578419643816, 'witty': 6.516113311535651, 'woa': 6.921578419643816, 'women': 6.2284312390838705, 'wonder': 6.516113311535651, 'wondered': 6.921578419643816, 'wonderful': 4.67028662103732, 'wonderfully': 6.2284312390838705, 'wong': 6.921578419643816, 'wont': 6.921578419643816, 'woo': 6.921578419643816, 'wooden': 6.516113311535651, 'word': 5.822966130975706, 'words': 6.2284312390838705, 'work': 4.67028662103732, 'worked': 6.921578419643816, 'working': 6.516113311535651, 'works': 5.822966130975706, 'world': 5.822966130975706, 'worry': 6.921578419643816, 'worse': 5.216830327405391, 'worst': 5.216830327405391, 'worth': 4.975668270588502, 'worthless': 6.921578419643816, 'worthwhile': 6.921578419643816, 'worthy': 6.921578419643816, 'would': 4.282521090028557, 'wouldnt': 6.921578419643816, 'woven': 6.921578419643816, 'wow': 6.921578419643816, 'wrap': 6.921578419643816, 'write': 6.516113311535651, 'writer': 6.2284312390838705, 'writers': 6.921578419643816, 'writing': 4.975668270588502, 'written': 5.535284058523925, 'wrong': 6.2284312390838705, 'wrote': 6.921578419643816, 'yardley': 6.921578419643816, 'yawn': 6.921578419643816, 'yeah': 6.516113311535651, 'year': 6.2284312390838705, 'years': 5.049776242742224, 'yelps': 6.921578419643816, 'yes': 6.2284312390838705, 'yet': 5.822966130975706, 'young': 6.005287687769661, 'younger': 6.921578419643816, 'youthful': 6.921578419643816, 'youtube': 6.921578419643816, 'yun': 6.921578419643816, 'zillion': 6.921578419643816, 'zombie': 6.516113311535651, 'zombiez': 6.921578419643816}\n",
            "2886\n"
          ],
          "name": "stdout"
        }
      ]
    },
    {
      "cell_type": "code",
      "metadata": {
        "colab": {
          "base_uri": "https://localhost:8080/"
        },
        "id": "eT1sWkit_COZ",
        "outputId": "7b713891-803f-4312-fe10-34cdbb05c3fe"
      },
      "source": [
        "print(transform(dataset,vocabulary,idf_of_vocabulary))# (row_number,col_number,value)\n",
        "transform(dataset,vocabulary,idf_of_vocabulary).shape"
      ],
      "execution_count": 90,
      "outputs": [
        {
          "output_type": "stream",
          "text": [
            "100%|██████████| 746/746 [00:00<00:00, 2418.92it/s]\n",
            " 27%|██▋       | 203/746 [00:00<00:00, 2029.79it/s]"
          ],
          "name": "stderr"
        },
        {
          "output_type": "stream",
          "text": [
            "  (0, 53)\t0.4124053571518832\n",
            "  (0, 688)\t0.4124053571518832\n",
            "  (0, 720)\t0.4124053571518832\n",
            "  (0, 1545)\t0.3056477421922465\n",
            "  (0, 1651)\t0.16187900950659384\n",
            "  (0, 1653)\t0.3578104102159258\n",
            "  (0, 2287)\t0.3377625331996592\n",
            "  (0, 2878)\t0.3578104102159258\n",
            "  (1, 149)\t0.33656559888361604\n",
            "  (1, 374)\t0.2398102909856282\n",
            "  (1, 966)\t0.37662928647723726\n",
            "  (1, 1132)\t0.3276557383920036\n",
            "  (1, 1511)\t0.34710372714531496\n",
            "  (1, 1676)\t0.4000650413601131\n",
            "  (1, 1712)\t0.16740098801751874\n",
            "  (1, 2446)\t0.3600013537664919\n",
            "  (1, 2764)\t0.37662928647723726\n",
            "  (2, 20)\t0.16251994590424693\n",
            "  (2, 64)\t0.21707279837386254\n",
            "  (2, 89)\t0.2662713738720727\n",
            "  (2, 124)\t0.2828401083663023\n",
            "  (2, 145)\t0.2828401083663023\n",
            "  (2, 201)\t0.2662713738720727\n",
            "  (2, 236)\t0.21707279837386254\n",
            "  (2, 320)\t0.21317808824419615\n",
            "  :\t:\n",
            "  (741, 268)\t0.3741368480672001\n",
            "  (741, 429)\t0.43122289359250715\n",
            "  (741, 1096)\t0.3375170120866053\n",
            "  (741, 1354)\t0.43122289359250715\n",
            "  (741, 1422)\t0.4059619160280574\n",
            "  (741, 2471)\t0.3531742117012585\n",
            "  (741, 2785)\t0.2909646309741186\n",
            "  (742, 939)\t0.17413084843382826\n",
            "  (742, 1511)\t0.3774377562241447\n",
            "  (742, 1936)\t0.36597868167426906\n",
            "  (742, 2029)\t0.43502745647978813\n",
            "  (742, 2173)\t0.29353173316874753\n",
            "  (742, 2675)\t0.3774377562241447\n",
            "  (742, 2745)\t0.43502745647978813\n",
            "  (742, 2846)\t0.29353173316874753\n",
            "  (743, 769)\t0.7304838216366015\n",
            "  (743, 2844)\t0.6829300010448989\n",
            "  (744, 175)\t0.4640223454167565\n",
            "  (744, 843)\t0.885823494243595\n",
            "  (745, 1230)\t0.44809153381310357\n",
            "  (745, 1305)\t0.44809153381310357\n",
            "  (745, 1309)\t0.44809153381310357\n",
            "  (745, 1630)\t0.4344873985445502\n",
            "  (745, 1748)\t0.2665046394249611\n",
            "  (745, 2778)\t0.3712652820370112\n"
          ],
          "name": "stdout"
        },
        {
          "output_type": "stream",
          "text": [
            "100%|██████████| 746/746 [00:00<00:00, 2576.54it/s]\n"
          ],
          "name": "stderr"
        },
        {
          "output_type": "execute_result",
          "data": {
            "text/plain": [
              "(746, 2886)"
            ]
          },
          "metadata": {
            "tags": []
          },
          "execution_count": 90
        }
      ]
    },
    {
      "cell_type": "code",
      "metadata": {
        "colab": {
          "base_uri": "https://localhost:8080/"
        },
        "id": "3Yjb2Y8Nbl1x",
        "outputId": "caa47352-5f5a-4359-b68b-4ac0ceeb8c7a"
      },
      "source": [
        "# Comparing the above results with sklearn implementation:\n",
        "from sklearn.feature_extraction.text import TfidfVectorizer\n",
        "vectorizer = TfidfVectorizer()\n",
        "z = vectorizer.fit(dataset)\n",
        "\n",
        "skl_output = vectorizer.transform(dataset)\n",
        "print(skl_output)\n",
        "skl_output.shape # (Row_number,Col_Number)  (Normalized_Value using L2 normalization)."
      ],
      "execution_count": 91,
      "outputs": [
        {
          "output_type": "stream",
          "text": [
            "  (0, 2878)\t0.35781145622317734\n",
            "  (0, 2287)\t0.3377679916467555\n",
            "  (0, 1653)\t0.35781145622317734\n",
            "  (0, 1651)\t0.16192317905848022\n",
            "  (0, 1545)\t0.30566026894803877\n",
            "  (0, 720)\t0.4123943870778812\n",
            "  (0, 688)\t0.4123943870778812\n",
            "  (0, 53)\t0.4123943870778812\n",
            "  (1, 2764)\t0.3766212179754884\n",
            "  (1, 2446)\t0.359997059084325\n",
            "  (1, 1712)\t0.16744040526541593\n",
            "  (1, 1676)\t0.4000516539584003\n",
            "  (1, 1511)\t0.34710235966502884\n",
            "  (1, 1132)\t0.32765878476171706\n",
            "  (1, 966)\t0.3766212179754884\n",
            "  (1, 374)\t0.2398332744620992\n",
            "  (1, 149)\t0.3365666231014131\n",
            "  (2, 2812)\t0.22138111197246843\n",
            "  (2, 2085)\t0.2379459683681101\n",
            "  (2, 1889)\t0.23164830224699004\n",
            "  (2, 1873)\t0.17804028847989228\n",
            "  (2, 1704)\t0.2453945264455564\n",
            "  (2, 1651)\t0.11105027844840966\n",
            "  (2, 1482)\t0.22619301571578695\n",
            "  (2, 853)\t0.28282863381171675\n",
            "  :\t:\n",
            "  (741, 2785)\t0.29098436017585044\n",
            "  (741, 2471)\t0.35318031934226285\n",
            "  (741, 1422)\t0.4059564651452501\n",
            "  (741, 1354)\t0.4312119115047646\n",
            "  (741, 1096)\t0.3375265480660245\n",
            "  (741, 429)\t0.4312119115047646\n",
            "  (741, 268)\t0.37413836567848674\n",
            "  (742, 2846)\t0.2935479085886174\n",
            "  (742, 2745)\t0.4350108531751561\n",
            "  (742, 2675)\t0.37743449407834534\n",
            "  (742, 2173)\t0.2935479085886174\n",
            "  (742, 2029)\t0.4350108531751561\n",
            "  (742, 1936)\t0.3659780741235268\n",
            "  (742, 1511)\t0.37743449407834534\n",
            "  (742, 939)\t0.1741746841151847\n",
            "  (743, 2844)\t0.6829354573701655\n",
            "  (743, 769)\t0.7304787204748697\n",
            "  (744, 843)\t0.8857899445596885\n",
            "  (744, 175)\t0.4640863864809483\n",
            "  (745, 2778)\t0.3712755571581212\n",
            "  (745, 1748)\t0.2665402127923074\n",
            "  (745, 1630)\t0.43448240639895486\n",
            "  (745, 1309)\t0.4480832564570009\n",
            "  (745, 1305)\t0.4480832564570009\n",
            "  (745, 1230)\t0.4480832564570009\n"
          ],
          "name": "stdout"
        },
        {
          "output_type": "execute_result",
          "data": {
            "text/plain": [
              "(746, 2886)"
            ]
          },
          "metadata": {
            "tags": []
          },
          "execution_count": 91
        }
      ]
    },
    {
      "cell_type": "code",
      "metadata": {
        "id": "y9fvFaB4pMuL"
      },
      "source": [
        ""
      ],
      "execution_count": 91,
      "outputs": []
    },
    {
      "cell_type": "markdown",
      "metadata": {
        "id": "zzF8F9WGtZSE"
      },
      "source": [
        "## Task 2"
      ]
    },
    {
      "cell_type": "markdown",
      "metadata": {
        "id": "pDRmUGc3yaMU"
      },
      "source": [
        "<font face='georgia'>\n",
        "    <h4><strong>2. Implement max features functionality:</strong></h4>\n",
        "\n",
        "<ul>\n",
        "    <li> As a part of this task you have to modify your fit and transform functions so that your vocab will contain only 50 terms with top idf scores.</li>\n",
        "    <br>\n",
        "    <li>This task is similar to your previous task, just that here your vocabulary is limited to only top 50 features names based on their idf values. Basically your output will have exactly 50 columns and the number of rows will depend on the number of documents you have in your corpus.</li>\n",
        "    <br>\n",
        "    <li>Here you will be give a pickle file, with file name <strong>cleaned_strings</strong>. You would have to load the corpus from this file and use it as input to your tfidf vectorizer.</li>\n",
        "    <br>\n",
        "    <li>Steps to approach this task:\n",
        "    <ol>\n",
        "        <li> You would have to write both fit and transform methods for your custom implementation of tfidf vectorizer, just like in the previous task. Additionally, here you have to limit the number of features generated to 50 as described above.</li>\n",
        "        <li> Now sort your vocab based in descending order of idf values and print out the words in the sorted voacb after you fit your data. Here you should be getting only 50 terms in your vocab. And make sure to print idf values for each term in your vocab. </li>\n",
        "        <li> Make sure the output of your implementation is a sparse matrix. Before generating the final output, you need to normalize your sparse matrix using L2 normalization. You can refer to this link https://scikit-learn.org/stable/modules/generated/sklearn.preprocessing.normalize.html </li>\n",
        "        <li> Now check the output of a single document in your collection of documents,  you can convert the sparse matrix related only to that document into dense matrix and print it. And this dense matrix should contain 1 row and 50 columns. </li>\n",
        "        </ol>\n",
        "    </li>\n",
        "    <br>\n",
        "   </ul>"
      ]
    },
    {
      "cell_type": "markdown",
      "metadata": {
        "id": "w9VLc9LL0N0r"
      },
      "source": [
        "## Reference : From AppliedAI Team through Email:"
      ]
    },
    {
      "cell_type": "code",
      "metadata": {
        "id": "wzJORx9oslWh"
      },
      "source": [
        "import numpy as np\n",
        "def fit2(corpus):\n",
        "    idf_values_of_all_unique_words = IDF(corpus, get_unique_words(corpus))\n",
        "\n",
        "    top50_idf_value_indices = np.argsort(list(idf_values_of_all_unique_words.values()))[::-1][:50] # [start_index,end_index,steps_of_jumps]\n",
        "\n",
        "    top50_idf_values = np.take(list(idf_values_of_all_unique_words.values()), top50_idf_value_indices)\n",
        "    top50_idf_words = np.take(list(idf_values_of_all_unique_words.keys()), top50_idf_value_indices)\n",
        "\n",
        "    top50_word_idf_value_dict = dict(zip(top50_idf_words, top50_idf_values))\n",
        "    reduced_unique_words = {key:value for value,key in enumerate(list(top50_word_idf_value_dict.keys()))}\n",
        "\n",
        "    return reduced_unique_words, top50_word_idf_value_dict"
      ],
      "execution_count": 92,
      "outputs": []
    },
    {
      "cell_type": "code",
      "metadata": {
        "colab": {
          "base_uri": "https://localhost:8080/"
        },
        "id": "DFeah56StFCn",
        "outputId": "8dd55ae1-8bc2-4ef7-9ff0-cc947e7c0670"
      },
      "source": [
        "Top_50_vocabulary,idf_of_Top_50_vocabulary = fit2(dataset)\n",
        "\n",
        "print(Top_50_vocabulary) # {'word':index}\n",
        "print(idf_of_Top_50_vocabulary) # {'word':idf_value}\n",
        "print(len(Top_50_vocabulary))\n",
        "print(len(idf_of_Top_50_vocabulary))\n"
      ],
      "execution_count": 93,
      "outputs": [
        {
          "output_type": "stream",
          "text": [
            "{'zombiez': 0, 'havilland': 1, 'hearts': 2, 'heads': 3, 'hbo': 4, 'hayworth': 5, 'hayao': 6, 'hay': 7, 'hatred': 8, 'heche': 9, 'harris': 10, 'happy': 11, 'happiness': 12, 'hanks': 13, 'hankies': 14, 'hang': 15, 'heartwarming': 16, 'heels': 17, 'gone': 18, 'hero': 19, 'higher': 20, 'hide': 21, 'hes': 22, 'heroism': 23, 'heroine': 24, 'heroes': 25, 'hernandez': 26, 'heist': 27, 'hendrikson': 28, 'helping': 29, 'help': 30, 'helms': 31, 'hellish': 32, 'helen': 33, 'handles': 34, 'handle': 35, 'ham': 36, 'grade': 37, 'grates': 38, 'grasp': 39, 'graphics': 40, 'granted': 41, 'grainy': 42, 'gradually': 43, 'government': 44, 'halfway': 45, 'gotten': 46, 'gotta': 47, 'goth': 48, 'gosh': 49}\n",
            "{'zombiez': 6.921578419643816, 'havilland': 6.921578419643816, 'hearts': 6.921578419643816, 'heads': 6.921578419643816, 'hbo': 6.921578419643816, 'hayworth': 6.921578419643816, 'hayao': 6.921578419643816, 'hay': 6.921578419643816, 'hatred': 6.921578419643816, 'heche': 6.921578419643816, 'harris': 6.921578419643816, 'happy': 6.921578419643816, 'happiness': 6.921578419643816, 'hanks': 6.921578419643816, 'hankies': 6.921578419643816, 'hang': 6.921578419643816, 'heartwarming': 6.921578419643816, 'heels': 6.921578419643816, 'gone': 6.921578419643816, 'hero': 6.921578419643816, 'higher': 6.921578419643816, 'hide': 6.921578419643816, 'hes': 6.921578419643816, 'heroism': 6.921578419643816, 'heroine': 6.921578419643816, 'heroes': 6.921578419643816, 'hernandez': 6.921578419643816, 'heist': 6.921578419643816, 'hendrikson': 6.921578419643816, 'helping': 6.921578419643816, 'help': 6.921578419643816, 'helms': 6.921578419643816, 'hellish': 6.921578419643816, 'helen': 6.921578419643816, 'handles': 6.921578419643816, 'handle': 6.921578419643816, 'ham': 6.921578419643816, 'grade': 6.921578419643816, 'grates': 6.921578419643816, 'grasp': 6.921578419643816, 'graphics': 6.921578419643816, 'granted': 6.921578419643816, 'grainy': 6.921578419643816, 'gradually': 6.921578419643816, 'government': 6.921578419643816, 'halfway': 6.921578419643816, 'gotten': 6.921578419643816, 'gotta': 6.921578419643816, 'goth': 6.921578419643816, 'gosh': 6.921578419643816}\n",
            "50\n",
            "50\n"
          ],
          "name": "stdout"
        }
      ]
    },
    {
      "cell_type": "code",
      "metadata": {
        "colab": {
          "base_uri": "https://localhost:8080/"
        },
        "id": "9lUHYM7utGdx",
        "outputId": "fec1905f-04ca-4050-d653-26959d3baf7b"
      },
      "source": [
        "print(transform(dataset,Top_50_vocabulary,idf_of_Top_50_vocabulary))# (row_number,col_number,value)\n",
        "L = transform(dataset,Top_50_vocabulary,idf_of_Top_50_vocabulary)\n",
        "print(L.shape)\n",
        "# print(transform(dataset,vocabulary,idf_of_vocabulary))# (row_number,col_number,value)\n",
        "print(dict(zip(list(Top_50_vocabulary.keys()),sorted(L.data,reverse=True))))  # {'word':tfidf_value}"
      ],
      "execution_count": 94,
      "outputs": [
        {
          "output_type": "stream",
          "text": [
            "100%|██████████| 746/746 [00:00<00:00, 30597.39it/s]\n",
            "100%|██████████| 746/746 [00:00<00:00, 42743.48it/s]"
          ],
          "name": "stderr"
        },
        {
          "output_type": "stream",
          "text": [
            "  (19, 9)\t0.2581988897471611\n",
            "  (19, 13)\t0.2581988897471611\n",
            "  (19, 17)\t0.2581988897471611\n",
            "  (19, 30)\t0.2581988897471611\n",
            "  (19, 31)\t0.2581988897471611\n",
            "  (19, 38)\t0.2581988897471611\n",
            "  (19, 40)\t0.7745966692414834\n",
            "  (94, 49)\t1.0\n",
            "  (101, 18)\t1.0\n",
            "  (104, 35)\t1.0\n",
            "  (109, 0)\t0.7071067811865475\n",
            "  (109, 32)\t0.7071067811865475\n",
            "  (132, 25)\t1.0\n",
            "  (135, 12)\t0.5773502691896257\n",
            "  (135, 43)\t0.5773502691896257\n",
            "  (135, 46)\t0.5773502691896257\n",
            "  (180, 20)\t1.0\n",
            "  (191, 7)\t0.7071067811865475\n",
            "  (191, 24)\t0.7071067811865475\n",
            "  (197, 5)\t1.0\n",
            "  (222, 22)\t1.0\n",
            "  (225, 8)\t1.0\n",
            "  (232, 21)\t1.0\n",
            "  (234, 45)\t1.0\n",
            "  (236, 28)\t1.0\n",
            "  (253, 15)\t1.0\n",
            "  (270, 27)\t1.0\n",
            "  (277, 48)\t1.0\n",
            "  (323, 37)\t1.0\n",
            "  (343, 41)\t1.0\n",
            "  (371, 47)\t1.0\n",
            "  (421, 23)\t1.0\n",
            "  (430, 1)\t1.0\n",
            "  (437, 19)\t1.0\n",
            "  (459, 33)\t1.0\n",
            "  (462, 29)\t1.0\n",
            "  (475, 14)\t1.0\n",
            "  (532, 34)\t1.0\n",
            "  (533, 11)\t1.0\n",
            "  (539, 36)\t1.0\n",
            "  (572, 10)\t1.0\n",
            "  (610, 42)\t1.0\n",
            "  (625, 3)\t1.0\n",
            "  (628, 26)\t1.0\n",
            "  (633, 39)\t1.0\n",
            "  (644, 16)\t1.0\n",
            "  (660, 4)\t1.0\n",
            "  (681, 2)\t1.0\n",
            "  (703, 44)\t1.0\n",
            "  (714, 6)\t1.0\n",
            "(746, 50)\n",
            "{'zombiez': 1.0, 'havilland': 1.0, 'hearts': 1.0, 'heads': 1.0, 'hbo': 1.0, 'hayworth': 1.0, 'hayao': 1.0, 'hay': 1.0, 'hatred': 1.0, 'heche': 1.0, 'harris': 1.0, 'happy': 1.0, 'happiness': 1.0, 'hanks': 1.0, 'hankies': 1.0, 'hang': 1.0, 'heartwarming': 1.0, 'heels': 1.0, 'gone': 1.0, 'hero': 1.0, 'higher': 1.0, 'hide': 1.0, 'hes': 1.0, 'heroism': 1.0, 'heroine': 1.0, 'heroes': 1.0, 'hernandez': 1.0, 'heist': 1.0, 'hendrikson': 1.0, 'helping': 1.0, 'help': 1.0, 'helms': 1.0, 'hellish': 1.0, 'helen': 1.0, 'handles': 1.0, 'handle': 1.0, 'ham': 0.7745966692414834, 'grade': 0.7071067811865475, 'grates': 0.7071067811865475, 'grasp': 0.7071067811865475, 'graphics': 0.7071067811865475, 'granted': 0.5773502691896257, 'grainy': 0.5773502691896257, 'gradually': 0.5773502691896257, 'government': 0.2581988897471611, 'halfway': 0.2581988897471611, 'gotten': 0.2581988897471611, 'gotta': 0.2581988897471611, 'goth': 0.2581988897471611, 'gosh': 0.2581988897471611}\n"
          ],
          "name": "stdout"
        },
        {
          "output_type": "stream",
          "text": [
            "\n"
          ],
          "name": "stderr"
        }
      ]
    },
    {
      "cell_type": "markdown",
      "metadata": {
        "id": "t1A992N_zulu"
      },
      "source": [
        "## Reference : https://stackoverflow.com/questions/40313886/extracting-items-from-sparse-matrix \n",
        "\n",
        "https://stackoverflow.com/questions/25217510/how-to-see-top-n-entries-of-term-document-matrix-after-tfidf-in-scikit-learn "
      ]
    },
    {
      "cell_type": "code",
      "metadata": {
        "id": "K1JR5ZOCtP0F",
        "colab": {
          "base_uri": "https://localhost:8080/"
        },
        "outputId": "f03d3df3-0bd1-47db-d299-66407244b9b6"
      },
      "source": [
        "# Comparing the above results with sklearn implementation:\n",
        "from sklearn.feature_extraction.text import TfidfVectorizer\n",
        "vectorizer = TfidfVectorizer()\n",
        "\n",
        "z = vectorizer.fit_transform(dataset)\n",
        "idf_list = sorted(z.data,reverse=True)[:50]\n",
        "\n",
        "features = vectorizer.get_feature_names()\n",
        "\n",
        "indices = np.argsort(vectorizer.idf_)[::-1]\n",
        "\n",
        "top50_features = [features[i] for i in indices[:50]]\n",
        "\n",
        "print(dict(zip(top50_features,idf_list))) # {'word':tfidf_value}\n",
        "\n",
        "\n",
        "# (Row_number,Col_Number)  (Normalized_Value using L2 normalization).\n",
        "\n",
        "\n",
        "\n",
        "\n",
        "\n"
      ],
      "execution_count": 95,
      "outputs": [
        {
          "output_type": "stream",
          "text": [
            "{'zombiez': 1.0, 'havilland': 1.0, 'hearts': 1.0, 'heads': 1.0, 'hbo': 1.0, 'hayworth': 1.0, 'hayao': 1.0, 'hay': 1.0, 'hatred': 1.0, 'heche': 1.0, 'harris': 1.0, 'happy': 1.0, 'happiness': 1.0, 'hanks': 1.0, 'hankies': 1.0, 'hang': 1.0, 'heartwarming': 1.0, 'heels': 1.0, 'gone': 1.0, 'hero': 1.0, 'higher': 1.0, 'hide': 1.0, 'hes': 1.0, 'heroism': 1.0, 'heroine': 0.9283512840112945, 'heroes': 0.9229451446839801, 'hernandez': 0.9224599414502384, 'heist': 0.9215823275945234, 'hendrikson': 0.91655124622611, 'helping': 0.91655124622611, 'help': 0.8904673234961265, 'helms': 0.8904673234961265, 'hellish': 0.8857899445596885, 'helen': 0.8831349784314655, 'handles': 0.8772936145553398, 'handle': 0.8736445588815727, 'ham': 0.8695659712763836, 'grade': 0.8641983246591697, 'grates': 0.8538583555420128, 'grasp': 0.8504187478294004, 'graphics': 0.8416312523827734, 'granted': 0.8384550952081904, 'grainy': 0.834839283025648, 'gradually': 0.8312842151186949, 'government': 0.8294631043683788, 'halfway': 0.828923260036446, 'gotten': 0.8288345663647906, 'gotta': 0.8189685386479567, 'goth': 0.8157998427706057, 'gosh': 0.8142564286769522}\n"
          ],
          "name": "stdout"
        }
      ]
    },
    {
      "cell_type": "code",
      "metadata": {
        "id": "j5Uk88r1tcOZ"
      },
      "source": [
        ""
      ],
      "execution_count": null,
      "outputs": []
    }
  ]
}